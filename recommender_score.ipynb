{
  "nbformat": 4,
  "nbformat_minor": 0,
  "metadata": {
    "colab": {
      "name": "recommender_score",
      "provenance": [],
      "toc_visible": true,
      "authorship_tag": "ABX9TyNUZnH1OLDn63RR8wxd/gjt",
      "include_colab_link": true
    },
    "kernelspec": {
      "name": "python3",
      "display_name": "Python 3"
    },
    "language_info": {
      "name": "python"
    }
  },
  "cells": [
    {
      "cell_type": "markdown",
      "metadata": {
        "id": "view-in-github",
        "colab_type": "text"
      },
      "source": [
        "<a href=\"https://colab.research.google.com/github/11doris/11doris.github.io/blob/main/recommender_score.ipynb\" target=\"_parent\"><img src=\"https://colab.research.google.com/assets/colab-badge.svg\" alt=\"Open In Colab\"/></a>"
      ]
    },
    {
      "cell_type": "markdown",
      "metadata": {
        "id": "YGhakKpa8Dtf"
      },
      "source": [
        "# Sections as Input"
      ]
    },
    {
      "cell_type": "code",
      "metadata": {
        "colab": {
          "base_uri": "https://localhost:8080/"
        },
        "id": "MUy1ta4_782n",
        "outputId": "2ad24aae-6e45-40ba-fd93-8979ee923154"
      },
      "source": [
        "!pip uninstall gensim -y"
      ],
      "execution_count": 1,
      "outputs": [
        {
          "output_type": "stream",
          "name": "stdout",
          "text": [
            "Found existing installation: gensim 4.1.2\n",
            "Uninstalling gensim-4.1.2:\n",
            "  Successfully uninstalled gensim-4.1.2\n"
          ]
        }
      ]
    },
    {
      "cell_type": "code",
      "metadata": {
        "colab": {
          "base_uri": "https://localhost:8080/"
        },
        "id": "oAroxmvO8GQj",
        "outputId": "fc8ea5f4-62f8-4976-baa3-3935bd9e1e4d"
      },
      "source": [
        "!pip install gensim"
      ],
      "execution_count": 2,
      "outputs": [
        {
          "output_type": "stream",
          "name": "stdout",
          "text": [
            "Collecting gensim\n",
            "  Using cached gensim-4.1.2-cp37-cp37m-manylinux_2_12_x86_64.manylinux2010_x86_64.whl (24.1 MB)\n",
            "Requirement already satisfied: scipy>=0.18.1 in /usr/local/lib/python3.7/dist-packages (from gensim) (1.4.1)\n",
            "Requirement already satisfied: smart-open>=1.8.1 in /usr/local/lib/python3.7/dist-packages (from gensim) (5.2.1)\n",
            "Requirement already satisfied: numpy>=1.17.0 in /usr/local/lib/python3.7/dist-packages (from gensim) (1.19.5)\n",
            "Installing collected packages: gensim\n",
            "Successfully installed gensim-4.1.2\n"
          ]
        }
      ]
    },
    {
      "cell_type": "code",
      "metadata": {
        "id": "6SZ0zrKX8H-D"
      },
      "source": [
        "import gensim\n",
        "from sklearn.manifold import TSNE\n",
        "import matplotlib.pyplot as plt\n",
        "import pprint\n",
        "import pandas as pd\n",
        "import numpy as np\n",
        "from collections import Counter\n",
        "import plotly.express as px\n",
        "from tqdm import tqdm \n",
        "from gensim.models.doc2vec import Doc2Vec\n",
        "import pickle\n",
        "import os"
      ],
      "execution_count": 38,
      "outputs": []
    },
    {
      "cell_type": "code",
      "metadata": {
        "id": "znWar-PK8KHT"
      },
      "source": [
        "import logging\n",
        "logging.basicConfig(format='%(asctime)s : %(levelname)s : %(message)s', level=logging.INFO)"
      ],
      "execution_count": 39,
      "outputs": []
    },
    {
      "cell_type": "code",
      "metadata": {
        "colab": {
          "base_uri": "https://localhost:8080/"
        },
        "id": "kjCf_Abf8MCc",
        "outputId": "46cc5877-e2fd-4010-b723-dbe056ac2901"
      },
      "source": [
        "print(gensim.__version__)"
      ],
      "execution_count": 40,
      "outputs": [
        {
          "output_type": "stream",
          "name": "stdout",
          "text": [
            "4.1.2\n"
          ]
        }
      ]
    },
    {
      "cell_type": "markdown",
      "metadata": {
        "id": "gcexO7zK8Pn6"
      },
      "source": [
        "# Initialization\n",
        "\n",
        "## Download the Data"
      ]
    },
    {
      "cell_type": "markdown",
      "metadata": {
        "id": "u_RrQ2vA8Uel"
      },
      "source": [
        "### Basic Plus Chords\n",
        "M7 and 6 reduced to major triad, m7 reduced to m, dominant 7, m7b5, diminished, and all (b5) left as they are."
      ]
    },
    {
      "cell_type": "code",
      "metadata": {
        "colab": {
          "base_uri": "https://localhost:8080/"
        },
        "id": "NoAMCPT78Nc_",
        "outputId": "15c4b50b-9ef7-42a1-b286-7400522fc2d8"
      },
      "source": [
        "!wget --no-check-certificate 'https://docs.google.com/uc?export=download&id=17djlZRWFSUCviOxRTOF-nwbbZqU5gUP9' -O data.csv"
      ],
      "execution_count": 184,
      "outputs": [
        {
          "output_type": "stream",
          "name": "stdout",
          "text": [
            "--2021-11-19 19:24:50--  https://docs.google.com/uc?export=download&id=17djlZRWFSUCviOxRTOF-nwbbZqU5gUP9\n",
            "Resolving docs.google.com (docs.google.com)... 74.125.70.100, 74.125.70.138, 74.125.70.101, ...\n",
            "Connecting to docs.google.com (docs.google.com)|74.125.70.100|:443... connected.\n",
            "HTTP request sent, awaiting response... 302 Moved Temporarily\n",
            "Location: https://doc-0s-4c-docs.googleusercontent.com/docs/securesc/ha0ro937gcuc7l7deffksulhg5h7mbp1/k9eivukt7jjr2abea3lvos6iko1l5f82/1637349825000/14329102864480165501/*/17djlZRWFSUCviOxRTOF-nwbbZqU5gUP9?e=download [following]\n",
            "Warning: wildcards not supported in HTTP.\n",
            "--2021-11-19 19:24:51--  https://doc-0s-4c-docs.googleusercontent.com/docs/securesc/ha0ro937gcuc7l7deffksulhg5h7mbp1/k9eivukt7jjr2abea3lvos6iko1l5f82/1637349825000/14329102864480165501/*/17djlZRWFSUCviOxRTOF-nwbbZqU5gUP9?e=download\n",
            "Resolving doc-0s-4c-docs.googleusercontent.com (doc-0s-4c-docs.googleusercontent.com)... 108.177.111.132, 2607:f8b0:4001:c07::84\n",
            "Connecting to doc-0s-4c-docs.googleusercontent.com (doc-0s-4c-docs.googleusercontent.com)|108.177.111.132|:443... connected.\n",
            "HTTP request sent, awaiting response... 200 OK\n",
            "Length: 664119 (649K) [text/csv]\n",
            "Saving to: ‘data.csv’\n",
            "\n",
            "data.csv            100%[===================>] 648.55K  --.-KB/s    in 0.006s  \n",
            "\n",
            "2021-11-19 19:24:51 (100 MB/s) - ‘data.csv’ saved [664119/664119]\n",
            "\n"
          ]
        }
      ]
    },
    {
      "cell_type": "markdown",
      "metadata": {
        "id": "Ljs21B7h8YvC"
      },
      "source": [
        "### Read Chords Input Data"
      ]
    },
    {
      "cell_type": "code",
      "metadata": {
        "colab": {
          "base_uri": "https://localhost:8080/",
          "height": 241
        },
        "id": "B7kK418L8aac",
        "outputId": "fa8e7309-ed19-46d5-bee8-778704f683b2"
      },
      "source": [
        "path_to_file = '/content/data.csv'\n",
        "df = pd.read_csv(path_to_file, sep='\\t', index_col=\"id\")\n",
        "df = df.reset_index()\n",
        "df.head(5)"
      ],
      "execution_count": 185,
      "outputs": [
        {
          "output_type": "execute_result",
          "data": {
            "text/html": [
              "<div>\n",
              "<style scoped>\n",
              "    .dataframe tbody tr th:only-of-type {\n",
              "        vertical-align: middle;\n",
              "    }\n",
              "\n",
              "    .dataframe tbody tr th {\n",
              "        vertical-align: top;\n",
              "    }\n",
              "\n",
              "    .dataframe thead th {\n",
              "        text-align: right;\n",
              "    }\n",
              "</style>\n",
              "<table border=\"1\" class=\"dataframe\">\n",
              "  <thead>\n",
              "    <tr style=\"text-align: right;\">\n",
              "      <th></th>\n",
              "      <th>id</th>\n",
              "      <th>file_name</th>\n",
              "      <th>title</th>\n",
              "      <th>tune_mode</th>\n",
              "      <th>tune_id</th>\n",
              "      <th>section_name</th>\n",
              "      <th>section_id</th>\n",
              "      <th>chords</th>\n",
              "    </tr>\n",
              "  </thead>\n",
              "  <tbody>\n",
              "    <tr>\n",
              "      <th>0</th>\n",
              "      <td>0</td>\n",
              "      <td>dataset/jazz1350/26-2.xml</td>\n",
              "      <td>26-2</td>\n",
              "      <td>major</td>\n",
              "      <td>0</td>\n",
              "      <td>A</td>\n",
              "      <td>1</td>\n",
              "      <td>C Eb7 G# B7 E G7 Gm C7 F G#7 C# E7 Am D7 Dm G7</td>\n",
              "    </tr>\n",
              "    <tr>\n",
              "      <th>1</th>\n",
              "      <td>1</td>\n",
              "      <td>dataset/jazz1350/26-2.xml</td>\n",
              "      <td>26-2</td>\n",
              "      <td>major</td>\n",
              "      <td>0</td>\n",
              "      <td>A</td>\n",
              "      <td>2</td>\n",
              "      <td>C Eb7 G# B7 E G7 Gm C7 F Eb7 G# B7 E G7 C</td>\n",
              "    </tr>\n",
              "    <tr>\n",
              "      <th>2</th>\n",
              "      <td>2</td>\n",
              "      <td>dataset/jazz1350/26-2.xml</td>\n",
              "      <td>26-2</td>\n",
              "      <td>major</td>\n",
              "      <td>0</td>\n",
              "      <td>B</td>\n",
              "      <td>3</td>\n",
              "      <td>Gm C7 Bm E7 A C7 F Bbm Eb7 G# Dm G7</td>\n",
              "    </tr>\n",
              "    <tr>\n",
              "      <th>3</th>\n",
              "      <td>3</td>\n",
              "      <td>dataset/jazz1350/26-2.xml</td>\n",
              "      <td>26-2</td>\n",
              "      <td>major</td>\n",
              "      <td>0</td>\n",
              "      <td>A</td>\n",
              "      <td>4</td>\n",
              "      <td>C Eb7 G# B7 E G7 Gm C7 F Eb7 G# B7 E G7 C</td>\n",
              "    </tr>\n",
              "    <tr>\n",
              "      <th>4</th>\n",
              "      <td>4</td>\n",
              "      <td>dataset/jazz1350/500 Miles High.xml</td>\n",
              "      <td>500 Miles High</td>\n",
              "      <td>minor</td>\n",
              "      <td>1</td>\n",
              "      <td>NaN</td>\n",
              "      <td>0</td>\n",
              "      <td>Am Am Cm Cm Eb Eb Em7b5 A7 Dm Dm Bm7b5 Bm7b5 B...</td>\n",
              "    </tr>\n",
              "  </tbody>\n",
              "</table>\n",
              "</div>"
            ],
            "text/plain": [
              "   id  ...                                             chords\n",
              "0   0  ...     C Eb7 G# B7 E G7 Gm C7 F G#7 C# E7 Am D7 Dm G7\n",
              "1   1  ...          C Eb7 G# B7 E G7 Gm C7 F Eb7 G# B7 E G7 C\n",
              "2   2  ...                Gm C7 Bm E7 A C7 F Bbm Eb7 G# Dm G7\n",
              "3   3  ...          C Eb7 G# B7 E G7 Gm C7 F Eb7 G# B7 E G7 C\n",
              "4   4  ...  Am Am Cm Cm Eb Eb Em7b5 A7 Dm Dm Bm7b5 Bm7b5 B...\n",
              "\n",
              "[5 rows x 8 columns]"
            ]
          },
          "metadata": {},
          "execution_count": 185
        }
      ]
    },
    {
      "cell_type": "markdown",
      "metadata": {
        "id": "OsPcEFbg8gu6"
      },
      "source": [
        "### Meta Data"
      ]
    },
    {
      "cell_type": "code",
      "metadata": {
        "colab": {
          "base_uri": "https://localhost:8080/",
          "height": 363
        },
        "id": "KdS8QLnJ8bI6",
        "outputId": "d2e0b86a-67bd-4526-8345-3740481f69b2"
      },
      "source": [
        "titles = df.loc[:, ['id', 'tune_id', 'section_id', 'section_name', 'title', 'tune_mode']]\n",
        "titles[:10]"
      ],
      "execution_count": 186,
      "outputs": [
        {
          "output_type": "execute_result",
          "data": {
            "text/html": [
              "<div>\n",
              "<style scoped>\n",
              "    .dataframe tbody tr th:only-of-type {\n",
              "        vertical-align: middle;\n",
              "    }\n",
              "\n",
              "    .dataframe tbody tr th {\n",
              "        vertical-align: top;\n",
              "    }\n",
              "\n",
              "    .dataframe thead th {\n",
              "        text-align: right;\n",
              "    }\n",
              "</style>\n",
              "<table border=\"1\" class=\"dataframe\">\n",
              "  <thead>\n",
              "    <tr style=\"text-align: right;\">\n",
              "      <th></th>\n",
              "      <th>id</th>\n",
              "      <th>tune_id</th>\n",
              "      <th>section_id</th>\n",
              "      <th>section_name</th>\n",
              "      <th>title</th>\n",
              "      <th>tune_mode</th>\n",
              "    </tr>\n",
              "  </thead>\n",
              "  <tbody>\n",
              "    <tr>\n",
              "      <th>0</th>\n",
              "      <td>0</td>\n",
              "      <td>0</td>\n",
              "      <td>1</td>\n",
              "      <td>A</td>\n",
              "      <td>26-2</td>\n",
              "      <td>major</td>\n",
              "    </tr>\n",
              "    <tr>\n",
              "      <th>1</th>\n",
              "      <td>1</td>\n",
              "      <td>0</td>\n",
              "      <td>2</td>\n",
              "      <td>A</td>\n",
              "      <td>26-2</td>\n",
              "      <td>major</td>\n",
              "    </tr>\n",
              "    <tr>\n",
              "      <th>2</th>\n",
              "      <td>2</td>\n",
              "      <td>0</td>\n",
              "      <td>3</td>\n",
              "      <td>B</td>\n",
              "      <td>26-2</td>\n",
              "      <td>major</td>\n",
              "    </tr>\n",
              "    <tr>\n",
              "      <th>3</th>\n",
              "      <td>3</td>\n",
              "      <td>0</td>\n",
              "      <td>4</td>\n",
              "      <td>A</td>\n",
              "      <td>26-2</td>\n",
              "      <td>major</td>\n",
              "    </tr>\n",
              "    <tr>\n",
              "      <th>4</th>\n",
              "      <td>4</td>\n",
              "      <td>1</td>\n",
              "      <td>0</td>\n",
              "      <td>NaN</td>\n",
              "      <td>500 Miles High</td>\n",
              "      <td>minor</td>\n",
              "    </tr>\n",
              "    <tr>\n",
              "      <th>5</th>\n",
              "      <td>5</td>\n",
              "      <td>2</td>\n",
              "      <td>0</td>\n",
              "      <td>NaN</td>\n",
              "      <td>502 Blues</td>\n",
              "      <td>minor</td>\n",
              "    </tr>\n",
              "    <tr>\n",
              "      <th>6</th>\n",
              "      <td>6</td>\n",
              "      <td>3</td>\n",
              "      <td>1</td>\n",
              "      <td>A</td>\n",
              "      <td>52nd Street Theme</td>\n",
              "      <td>major</td>\n",
              "    </tr>\n",
              "    <tr>\n",
              "      <th>7</th>\n",
              "      <td>7</td>\n",
              "      <td>3</td>\n",
              "      <td>2</td>\n",
              "      <td>A</td>\n",
              "      <td>52nd Street Theme</td>\n",
              "      <td>major</td>\n",
              "    </tr>\n",
              "    <tr>\n",
              "      <th>8</th>\n",
              "      <td>8</td>\n",
              "      <td>3</td>\n",
              "      <td>3</td>\n",
              "      <td>B</td>\n",
              "      <td>52nd Street Theme</td>\n",
              "      <td>major</td>\n",
              "    </tr>\n",
              "    <tr>\n",
              "      <th>9</th>\n",
              "      <td>9</td>\n",
              "      <td>3</td>\n",
              "      <td>4</td>\n",
              "      <td>A</td>\n",
              "      <td>52nd Street Theme</td>\n",
              "      <td>major</td>\n",
              "    </tr>\n",
              "  </tbody>\n",
              "</table>\n",
              "</div>"
            ],
            "text/plain": [
              "   id  tune_id  section_id section_name              title tune_mode\n",
              "0   0        0           1            A               26-2     major\n",
              "1   1        0           2            A               26-2     major\n",
              "2   2        0           3            B               26-2     major\n",
              "3   3        0           4            A               26-2     major\n",
              "4   4        1           0          NaN     500 Miles High     minor\n",
              "5   5        2           0          NaN          502 Blues     minor\n",
              "6   6        3           1            A  52nd Street Theme     major\n",
              "7   7        3           2            A  52nd Street Theme     major\n",
              "8   8        3           3            B  52nd Street Theme     major\n",
              "9   9        3           4            A  52nd Street Theme     major"
            ]
          },
          "metadata": {},
          "execution_count": 186
        }
      ]
    },
    {
      "cell_type": "code",
      "metadata": {
        "id": "0vEOjvwt8jUu"
      },
      "source": [
        "titles_dict = titles.to_dict()\n",
        "\n",
        "sectionid_to_title = titles_dict['title']\n",
        "sectionid_to_titleid = titles_dict['tune_id']\n"
      ],
      "execution_count": 657,
      "outputs": []
    },
    {
      "cell_type": "code",
      "metadata": {
        "id": "Om7pbfnNGO_I"
      },
      "source": [
        "tunes = df.loc[:, ['tune_id', 'title']].drop_duplicates()\n",
        "tunes = tunes.set_index('tune_id').to_dict()\n",
        "titleid_to_title = tunes['title']"
      ],
      "execution_count": 682,
      "outputs": []
    },
    {
      "cell_type": "code",
      "metadata": {
        "id": "1H72Y3_d8uNu"
      },
      "source": [
        "titles_rows = titles.to_dict(orient='records')\n",
        "sectionid_to_section = []\n",
        "for i, row in enumerate(titles_rows):\n",
        "  name = f\"{row['title']}, section{row['section_id']} ({row['section_name']})\"\n",
        "  sectionid_to_section.append(name)\n",
        "  "
      ],
      "execution_count": 188,
      "outputs": []
    },
    {
      "cell_type": "code",
      "metadata": {
        "id": "HCeGUk818y8V"
      },
      "source": [
        "title_to_sectionid = {}\n",
        "\n",
        "for row in titles.iterrows():\n",
        "  title = row[1]['title']\n",
        "  if title not in title_to_sectionid:\n",
        "    title_to_sectionid[title] = [row[1]['id']]\n",
        "  else:\n",
        "    title_to_sectionid[title].append(row[1]['id'])"
      ],
      "execution_count": 189,
      "outputs": []
    },
    {
      "cell_type": "markdown",
      "metadata": {
        "id": "wox-dMcz84Bt"
      },
      "source": [
        "## Helpers for N-Grams"
      ]
    },
    {
      "cell_type": "code",
      "metadata": {
        "id": "2964REdr80Gd"
      },
      "source": [
        "def ngrams(tokens, n=2, sep='-'):\n",
        "    return [sep.join(ngram) for ngram in zip(*[tokens[i:] for i in range(n)])]"
      ],
      "execution_count": 190,
      "outputs": []
    },
    {
      "cell_type": "markdown",
      "metadata": {
        "id": "umfsNtAdF0jM"
      },
      "source": [
        "# Data Preparation"
      ]
    },
    {
      "cell_type": "code",
      "metadata": {
        "id": "buoyWNl0F48Y"
      },
      "source": [
        "ngrams_for_input = [1]"
      ],
      "execution_count": 732,
      "outputs": []
    },
    {
      "cell_type": "code",
      "metadata": {
        "id": "dCLwnqoVGcMw"
      },
      "source": [
        "lines = df.loc[:, 'chords'].tolist()\n",
        "data = [line.split(' ') for line in lines]"
      ],
      "execution_count": 733,
      "outputs": []
    },
    {
      "cell_type": "code",
      "metadata": {
        "colab": {
          "base_uri": "https://localhost:8080/"
        },
        "id": "g7SmApW9F3K6",
        "outputId": "b3b4038c-87e7-4c32-f7ba-03d6776192ca"
      },
      "source": [
        "processed_corpus = []\n",
        "for line in data:\n",
        "  tune_n = []\n",
        "  for n in ngrams_for_input:\n",
        "    tune_n.extend(ngrams(line, n=n))\n",
        "  processed_corpus.append(tune_n)\n",
        "\n",
        "for line in processed_corpus[:5]:\n",
        "  print(line)"
      ],
      "execution_count": 734,
      "outputs": [
        {
          "output_type": "stream",
          "name": "stdout",
          "text": [
            "['C', 'Eb7', 'G#', 'B7', 'E', 'G7', 'Gm', 'C7', 'F', 'G#7', 'C#', 'E7', 'Am', 'D7', 'Dm', 'G7']\n",
            "['C', 'Eb7', 'G#', 'B7', 'E', 'G7', 'Gm', 'C7', 'F', 'Eb7', 'G#', 'B7', 'E', 'G7', 'C']\n",
            "['Gm', 'C7', 'Bm', 'E7', 'A', 'C7', 'F', 'Bbm', 'Eb7', 'G#', 'Dm', 'G7']\n",
            "['C', 'Eb7', 'G#', 'B7', 'E', 'G7', 'Gm', 'C7', 'F', 'Eb7', 'G#', 'B7', 'E', 'G7', 'C']\n",
            "['Am', 'Am', 'Cm', 'Cm', 'Eb', 'Eb', 'Em7b5', 'A7', 'Dm', 'Dm', 'Bm7b5', 'Bm7b5', 'Bbm', 'Bbm', 'Fm', 'Fm', 'E7', 'E7', 'Fm', 'Fm', 'C#', 'C#', 'Fm', 'Fm', 'C#', 'C#']\n"
          ]
        }
      ]
    },
    {
      "cell_type": "markdown",
      "metadata": {
        "id": "LeRGFeTn89Uc"
      },
      "source": [
        "# TF-IDF"
      ]
    },
    {
      "cell_type": "code",
      "metadata": {
        "id": "zVXqq4pk9IyT"
      },
      "source": [
        "from gensim import corpora\n",
        "from gensim import similarities\n"
      ],
      "execution_count": 735,
      "outputs": []
    },
    {
      "cell_type": "code",
      "metadata": {
        "colab": {
          "base_uri": "https://localhost:8080/"
        },
        "id": "pBdUdBNr9Gmu",
        "outputId": "31129b54-3bc0-42c2-b10b-08dce385d29d"
      },
      "source": [
        "dictionary = corpora.Dictionary(processed_corpus)"
      ],
      "execution_count": 736,
      "outputs": [
        {
          "output_type": "stream",
          "name": "stderr",
          "text": [
            "2021-11-19 21:59:01,547 : INFO : adding document #0 to Dictionary(0 unique tokens: [])\n",
            "2021-11-19 21:59:01,663 : INFO : built Dictionary(72 unique tokens: ['Am', 'B7', 'C', 'C#', 'C7']...) from 5403 documents (total 82790 corpus positions)\n",
            "2021-11-19 21:59:01,667 : INFO : Dictionary lifecycle event {'msg': \"built Dictionary(72 unique tokens: ['Am', 'B7', 'C', 'C#', 'C7']...) from 5403 documents (total 82790 corpus positions)\", 'datetime': '2021-11-19T21:59:01.667837', 'gensim': '4.1.2', 'python': '3.7.12 (default, Sep 10 2021, 00:21:48) \\n[GCC 7.5.0]', 'platform': 'Linux-5.4.104+-x86_64-with-Ubuntu-18.04-bionic', 'event': 'created'}\n"
          ]
        }
      ]
    },
    {
      "cell_type": "code",
      "metadata": {
        "id": "9NK-cuax9Kqk"
      },
      "source": [
        "# dictionary.token2id"
      ],
      "execution_count": 737,
      "outputs": []
    },
    {
      "cell_type": "code",
      "metadata": {
        "id": "vWOBtwEU9OKl"
      },
      "source": [
        "bow_corpus = [dictionary.doc2bow(text) for text in processed_corpus]"
      ],
      "execution_count": 738,
      "outputs": []
    },
    {
      "cell_type": "code",
      "metadata": {
        "id": "til5xlce_y1m"
      },
      "source": [
        "!rm -R index\n",
        "!mkdir index"
      ],
      "execution_count": 739,
      "outputs": []
    },
    {
      "cell_type": "code",
      "metadata": {
        "colab": {
          "base_uri": "https://localhost:8080/"
        },
        "id": "tn_fz2M090IM",
        "outputId": "f2569fe1-296f-4579-d73a-bc2e2387f824"
      },
      "source": [
        "# Note: SparseMatrixSimilarity crashes due to lacking memory\n",
        "#from gensim.test.utils import get_tmpfile\n",
        "#index_tmpfile = get_tmpfile(\"index\")\n",
        "#index_tfidf = similarities.Similarity(index_tmpfile, bow_corpus, num_features=len(dictionary))\n",
        "\n",
        "index_tfidf = similarities.Similarity('/content/index/index_tfidf', bow_corpus, num_features=len(dictionary))"
      ],
      "execution_count": 740,
      "outputs": [
        {
          "output_type": "stream",
          "name": "stderr",
          "text": [
            "2021-11-19 21:59:02,045 : INFO : starting similarity index under /content/index/index_tfidf\n"
          ]
        }
      ]
    },
    {
      "cell_type": "code",
      "metadata": {
        "colab": {
          "base_uri": "https://localhost:8080/"
        },
        "id": "DCUOw0Mza86d",
        "outputId": "8c76fd91-54ef-4888-a0c5-c7efcb346e7f"
      },
      "source": [
        "ls -la /content/index"
      ],
      "execution_count": 741,
      "outputs": [
        {
          "output_type": "stream",
          "name": "stdout",
          "text": [
            "total 8\n",
            "drwxr-xr-x 2 root root 4096 Nov 19 21:59 \u001b[0m\u001b[01;34m.\u001b[0m/\n",
            "drwxr-xr-x 1 root root 4096 Nov 19 21:59 \u001b[01;34m..\u001b[0m/\n"
          ]
        }
      ]
    },
    {
      "cell_type": "markdown",
      "metadata": {
        "id": "ZLK0coIu9Tv5"
      },
      "source": [
        "## Test for single tunes"
      ]
    },
    {
      "cell_type": "code",
      "metadata": {
        "id": "Fzrj1qxwDpJT"
      },
      "source": [
        "def get_sim_scores(tunes, index):\n",
        "\n",
        "    df_sim = pd.DataFrame(columns=['reference_title',\n",
        "                                  'similar_title',\n",
        "                                  'ref_section', \n",
        "                                  'similar_section', \n",
        "                                  'score', \n",
        "                                  ])\n",
        "\n",
        "    for tune in tunes:\n",
        "      print()\n",
        "      print(\"-\"*50)\n",
        "      for s1 in title_to_sectionid[tune]:\n",
        "      \n",
        "          query = processed_corpus[s1]\n",
        "          query_bow = dictionary.doc2bow(query)\n",
        "\n",
        "          # perform a similarity query against the corpus\n",
        "          similarities = index[query_bow]\n",
        "          sims = sorted(enumerate(similarities), key=lambda item: -item[1])\n",
        "          \n",
        "          print(s1, sectionid_to_section[s1])\n",
        "          n = 0\n",
        "          for s2, s2_score in sims:\n",
        "            \n",
        "            # store the top N best results\n",
        "            if n > 40:\n",
        "                break\n",
        "            # don't count self-similarity between sections of the same tune\n",
        "            if s2 not in title_to_sectionid[tune]:\n",
        "                n += 1\n",
        "            \n",
        "                # print(f\"\\t{s2_score:.3f} {sectionid_to_section[s2]}\")\n",
        "\n",
        "                df_sim.loc[len(df_sim)] = [tune,\n",
        "                                sectionid_to_title[s2],\n",
        "                                sectionid_to_section[s1], \n",
        "                                sectionid_to_section[s2], \n",
        "                                s2_score, \n",
        "                                ]\n",
        "    return df_sim"
      ],
      "execution_count": 742,
      "outputs": []
    },
    {
      "cell_type": "code",
      "metadata": {
        "id": "DsQO6iJl9VjQ"
      },
      "source": [
        "tunes_eval_list = [\n",
        "  'Sweet Sue, Just You',\n",
        "  'These Foolish Things', \n",
        "  'Blue Moon',\n",
        "  'All Of Me',\n",
        "  \"All God's Chillun Got Rhythm\",\n",
        "  'I Got Rhythm',\n",
        "  'Bye Bye Blackbird',\n",
        "  'Old Fashioned Love',\n",
        "  'Dinah',\n",
        "  'Honeysuckle Rose',\n",
        "  'Misty'\n",
        "]"
      ],
      "execution_count": 743,
      "outputs": []
    },
    {
      "cell_type": "code",
      "metadata": {
        "colab": {
          "base_uri": "https://localhost:8080/"
        },
        "id": "5Wz4ZQk_EKZy",
        "outputId": "e702fabc-52c0-4777-c1c8-3f20b739e776"
      },
      "source": [
        "%%time\n",
        "df_sim = get_sim_scores(tunes_eval_list, index_tfidf)"
      ],
      "execution_count": 744,
      "outputs": [
        {
          "output_type": "stream",
          "name": "stderr",
          "text": [
            "2021-11-19 21:59:04,958 : INFO : creating sparse index\n",
            "2021-11-19 21:59:04,961 : INFO : creating sparse matrix from corpus\n",
            "2021-11-19 21:59:04,965 : INFO : PROGRESS: at document #0/5403\n",
            "2021-11-19 21:59:05,112 : INFO : created <5403x72 sparse matrix of type '<class 'numpy.float32'>'\n",
            "\twith 41308 stored elements in Compressed Sparse Row format>\n",
            "2021-11-19 21:59:05,115 : INFO : creating sparse shard #0\n",
            "2021-11-19 21:59:05,117 : INFO : saving index shard to /content/index/index_tfidf.0\n",
            "2021-11-19 21:59:05,120 : INFO : SparseMatrixSimilarity lifecycle event {'fname_or_handle': '/content/index/index_tfidf.0', 'separately': 'None', 'sep_limit': 10485760, 'ignore': frozenset(), 'datetime': '2021-11-19T21:59:05.120238', 'gensim': '4.1.2', 'python': '3.7.12 (default, Sep 10 2021, 00:21:48) \\n[GCC 7.5.0]', 'platform': 'Linux-5.4.104+-x86_64-with-Ubuntu-18.04-bionic', 'event': 'saving'}\n",
            "2021-11-19 21:59:05,124 : INFO : saved /content/index/index_tfidf.0\n",
            "2021-11-19 21:59:05,126 : INFO : loading SparseMatrixSimilarity object from /content/index/index_tfidf.0\n",
            "2021-11-19 21:59:05,128 : INFO : SparseMatrixSimilarity lifecycle event {'fname': '/content/index/index_tfidf.0', 'datetime': '2021-11-19T21:59:05.128364', 'gensim': '4.1.2', 'python': '3.7.12 (default, Sep 10 2021, 00:21:48) \\n[GCC 7.5.0]', 'platform': 'Linux-5.4.104+-x86_64-with-Ubuntu-18.04-bionic', 'event': 'loaded'}\n"
          ]
        },
        {
          "output_type": "stream",
          "name": "stdout",
          "text": [
            "\n",
            "--------------------------------------------------\n",
            "3752 Sweet Sue, Just You, section1 (A)\n",
            "3753 Sweet Sue, Just You, section2 (A)\n",
            "3754 Sweet Sue, Just You, section3 (B)\n",
            "3755 Sweet Sue, Just You, section4 (A)\n",
            "\n",
            "--------------------------------------------------\n",
            "3866 These Foolish Things, section1 (A)\n",
            "3867 These Foolish Things, section2 (A)\n",
            "3868 These Foolish Things, section3 (B)\n",
            "3869 These Foolish Things, section4 (A)\n",
            "\n",
            "--------------------------------------------------\n",
            "496 Blue Moon, section1 (A)\n",
            "497 Blue Moon, section2 (A)\n",
            "498 Blue Moon, section3 (B)\n",
            "499 Blue Moon, section4 (A)\n",
            "\n",
            "--------------------------------------------------\n",
            "198 All Of Me, section1 (A)\n",
            "199 All Of Me, section2 (B)\n",
            "200 All Of Me, section3 (A)\n",
            "201 All Of Me, section4 (C)\n",
            "\n",
            "--------------------------------------------------\n",
            "188 All God's Chillun Got Rhythm, section1 (A)\n",
            "189 All God's Chillun Got Rhythm, section2 (B)\n",
            "190 All God's Chillun Got Rhythm, section3 (A)\n",
            "191 All God's Chillun Got Rhythm, section4 (C)\n",
            "\n",
            "--------------------------------------------------\n",
            "1647 I Got Rhythm, section1 (A)\n",
            "1648 I Got Rhythm, section2 (A)\n",
            "1649 I Got Rhythm, section3 (B)\n",
            "1650 I Got Rhythm, section4 (A)\n",
            "4821 I Got Rhythm, section1 (A)\n",
            "4822 I Got Rhythm, section2 (A)\n",
            "4823 I Got Rhythm, section3 (B)\n",
            "4824 I Got Rhythm, section4 (A)\n",
            "\n",
            "--------------------------------------------------\n",
            "653 Bye Bye Blackbird, section1 (A)\n",
            "654 Bye Bye Blackbird, section2 (B)\n",
            "4569 Bye Bye Blackbird, section1 (A)\n",
            "4570 Bye Bye Blackbird, section2 (B)\n",
            "4571 Bye Bye Blackbird, section3 (C)\n",
            "\n",
            "--------------------------------------------------\n",
            "5056 Old Fashioned Love, section0 (nan)\n",
            "\n",
            "--------------------------------------------------\n",
            "997 Dinah, section1 (A)\n",
            "998 Dinah, section2 (A)\n",
            "999 Dinah, section3 (B)\n",
            "1000 Dinah, section4 (A)\n",
            "\n",
            "--------------------------------------------------\n",
            "1538 Honeysuckle Rose, section1 (A)\n",
            "1539 Honeysuckle Rose, section2 (A)\n",
            "1540 Honeysuckle Rose, section3 (B)\n",
            "1541 Honeysuckle Rose, section4 (A)\n",
            "4793 Honeysuckle Rose, section1 (A)\n",
            "4794 Honeysuckle Rose, section2 (A)\n",
            "4795 Honeysuckle Rose, section3 (B)\n",
            "4796 Honeysuckle Rose, section4 (A)\n",
            "\n",
            "--------------------------------------------------\n",
            "2676 Misty, section1 (A)\n",
            "2677 Misty, section2 (A)\n",
            "2678 Misty, section3 (B)\n",
            "2679 Misty, section4 (A)\n",
            "CPU times: user 9.05 s, sys: 281 ms, total: 9.33 s\n",
            "Wall time: 8.97 s\n"
          ]
        }
      ]
    },
    {
      "cell_type": "code",
      "metadata": {
        "colab": {
          "base_uri": "https://localhost:8080/",
          "height": 542
        },
        "id": "yzRuIKVh9c8g",
        "outputId": "d7dbc08d-95b8-40d7-8a5b-5ffbb56020c3"
      },
      "source": [
        "import plotly.express as px\n",
        "fig = px.histogram(df_sim, x=\"score\", nbins=50)\n",
        "fig.show()"
      ],
      "execution_count": 745,
      "outputs": [
        {
          "output_type": "display_data",
          "data": {
            "text/html": [
              "<html>\n",
              "<head><meta charset=\"utf-8\" /></head>\n",
              "<body>\n",
              "    <div>\n",
              "            <script src=\"https://cdnjs.cloudflare.com/ajax/libs/mathjax/2.7.5/MathJax.js?config=TeX-AMS-MML_SVG\"></script><script type=\"text/javascript\">if (window.MathJax) {MathJax.Hub.Config({SVG: {font: \"STIX-Web\"}});}</script>\n",
              "                <script type=\"text/javascript\">window.PlotlyConfig = {MathJaxConfig: 'local'};</script>\n",
              "        <script src=\"https://cdn.plot.ly/plotly-latest.min.js\"></script>    \n",
              "            <div id=\"f4c5dd1f-a218-4a20-9323-92946003fd8a\" class=\"plotly-graph-div\" style=\"height:525px; width:100%;\"></div>\n",
              "            <script type=\"text/javascript\">\n",
              "                \n",
              "                    window.PLOTLYENV=window.PLOTLYENV || {};\n",
              "                    \n",
              "                if (document.getElementById(\"f4c5dd1f-a218-4a20-9323-92946003fd8a\")) {\n",
              "                    Plotly.newPlot(\n",
              "                        'f4c5dd1f-a218-4a20-9323-92946003fd8a',\n",
              "                        [{\"alignmentgroup\": \"True\", \"bingroup\": \"x\", \"hoverlabel\": {\"namelength\": 0}, \"hovertemplate\": \"score=%{x}<br>count=%{y}\", \"legendgroup\": \"\", \"marker\": {\"color\": \"#636efa\"}, \"name\": \"\", \"nbinsx\": 50, \"offsetgroup\": \"\", \"orientation\": \"v\", \"showlegend\": false, \"type\": \"histogram\", \"x\": [1.0, 1.0, 1.0, 1.0, 1.0, 1.0, 1.0, 1.0, 1.0, 1.0, 1.0, 1.0, 1.0, 1.0, 1.0, 1.0, 0.9960238337516785, 0.991836667060852, 0.991836667060852, 0.9855274558067322, 0.9855274558067322, 0.9855274558067322, 0.9855274558067322, 0.9855274558067322, 0.9855274558067322, 0.9855274558067322, 0.9855274558067322, 0.9847319722175598, 0.9847319722175598, 0.9847319722175598, 0.9841197729110718, 0.9829464554786682, 0.980580747127533, 0.9801960587501526, 0.9799578189849854, 0.9797959327697754, 0.9771398305892944, 0.9771398305892944, 0.9737290740013123, 0.9737290740013123, 0.9737290143966675, 1.0, 1.0, 1.0, 1.0, 1.0, 1.0, 1.0, 1.0, 1.0, 1.0, 1.0, 1.0, 1.0, 1.0, 1.0, 1.0, 0.9960238337516785, 0.991836667060852, 0.991836667060852, 0.9855274558067322, 0.9855274558067322, 0.9855274558067322, 0.9855274558067322, 0.9855274558067322, 0.9855274558067322, 0.9855274558067322, 0.9855274558067322, 0.9847319722175598, 0.9847319722175598, 0.9847319722175598, 0.9841197729110718, 0.9829464554786682, 0.980580747127533, 0.9801960587501526, 0.9799578189849854, 0.9797959327697754, 0.9771398305892944, 0.9771398305892944, 0.9737290740013123, 0.9737290740013123, 0.9737290143966675, 0.9128708243370056, 0.8406727910041809, 0.8333333134651184, 0.8333333134651184, 0.8198915719985962, 0.8179128766059875, 0.8164966106414795, 0.8017837405204773, 0.8017837405204773, 0.8006407022476196, 0.794719398021698, 0.7938565611839294, 0.7925938963890076, 0.7905694246292114, 0.7879670262336731, 0.7825080156326294, 0.7825080156326294, 0.7825079560279846, 0.7777777314186096, 0.774596631526947, 0.774596631526947, 0.774596631526947, 0.7715166807174683, 0.766032338142395, 0.7637625932693481, 0.7593263983726501, 0.7593263387680054, 0.7505553364753723, 0.7505553364753723, 0.7504786849021912, 0.7499999403953552, 0.7499999403953552, 0.7499999403953552, 0.7499999403953552, 0.7499998807907104, 0.7499998807907104, 0.7492685914039612, 0.7469136714935303, 0.7426106333732605, 0.7395739555358887, 0.7385489344596863, 1.0, 1.0, 1.0, 1.0, 1.0, 1.0, 1.0, 1.0, 1.0, 1.0, 1.0, 1.0, 1.0, 1.0, 1.0, 1.0, 0.9960238337516785, 0.991836667060852, 0.991836667060852, 0.9855274558067322, 0.9855274558067322, 0.9855274558067322, 0.9855274558067322, 0.9855274558067322, 0.9855274558067322, 0.9855274558067322, 0.9855274558067322, 0.9847319722175598, 0.9847319722175598, 0.9847319722175598, 0.9841197729110718, 0.9829464554786682, 0.980580747127533, 0.9801960587501526, 0.9799578189849854, 0.9797959327697754, 0.9771398305892944, 0.9771398305892944, 0.9737290740013123, 0.9737290740013123, 0.9737290143966675, 0.9546687006950378, 0.9525008797645569, 0.9525008797645569, 0.9519715309143066, 0.9519715309143066, 0.9422228336334229, 0.9354143142700195, 0.9274260401725769, 0.9268550872802734, 0.9263021349906921, 0.9263020157814026, 0.9258200526237488, 0.9228394627571106, 0.9207508563995361, 0.9207508563995361, 0.9207368493080139, 0.919238805770874, 0.919238805770874, 0.9191450476646423, 0.9191450476646423, 0.9187104105949402, 0.9181762933731079, 0.9176629185676575, 0.916666567325592, 0.916578471660614, 0.916578471660614, 0.9149913787841797, 0.9148908257484436, 0.9141378998756409, 0.9139076471328735, 0.9133461713790894, 0.9133461713790894, 0.9133461713790894, 0.9133461713790894, 0.9128708839416504, 0.9128708839416504, 0.912495493888855, 0.9120291471481323, 0.9095085263252258, 0.909508466720581, 0.909508466720581, 0.9723056554794312, 0.9548637270927429, 0.9548637270927429, 0.921954333782196, 0.9117647409439087, 0.9115637540817261, 0.9115046262741089, 0.9109355807304382, 0.9106417298316956, 0.9106417298316956, 0.9101821184158325, 0.9101820588111877, 0.910181999206543, 0.9095085263252258, 0.9081082344055176, 0.9074852466583252, 0.9068695902824402, 0.9068695902824402, 0.9049357771873474, 0.9049034714698792, 0.9038768410682678, 0.8997353315353394, 0.8991814851760864, 0.8990275263786316, 0.8986450433731079, 0.8986449837684631, 0.8981249928474426, 0.8978642821311951, 0.897364616394043, 0.8958086967468262, 0.8956220149993896, 0.8951712846755981, 0.8948380947113037, 0.8938431739807129, 0.8934147357940674, 0.8932596445083618, 0.8932596445083618, 0.893259584903717, 0.8930885195732117, 0.8930884599685669, 0.8926784992218018, 0.9165152311325073, 0.8954430818557739, 0.8954430818557739, 0.8759956955909729, 0.8246210813522339, 0.8164966106414795, 0.8082903623580933, 0.803326427936554, 0.800000011920929, 0.800000011920929, 0.7923547029495239, 0.7902633547782898, 0.7855844497680664, 0.7855844497680664, 0.7794228792190552, 0.7786628007888794, 0.77781742811203, 0.7765802145004272, 0.7761139869689941, 0.7745966911315918, 0.7724716067314148, 0.771516740322113, 0.7666981816291809, 0.7666981220245361, 0.7615773677825928, 0.7602631449699402, 0.7602631449699402, 0.7559289336204529, 0.7543423175811768, 0.75424724817276, 0.7521398663520813, 0.7500000596046448, 0.7500000596046448, 0.7500000596046448, 0.7483314871788025, 0.7483314871788025, 0.7483314871788025, 0.7462185621261597, 0.742781400680542, 0.742462158203125, 0.742462158203125, 0.9747546911239624, 0.9747546911239624, 0.9667962789535522, 0.9587093591690063, 0.9518172740936279, 0.9518172740936279, 0.9509797096252441, 0.9496715664863586, 0.9476781487464905, 0.9437015056610107, 0.9428712725639343, 0.9428473114967346, 0.942082405090332, 0.9416364431381226, 0.9401746988296509, 0.9364182353019714, 0.934685230255127, 0.9341987371444702, 0.9337221384048462, 0.9328736066818237, 0.9322980046272278, 0.9320952892303467, 0.9318181872367859, 0.9318181872367859, 0.9318181872367859, 0.9312905073165894, 0.9307578802108765, 0.9307578802108765, 0.9304842352867126, 0.9304841756820679, 0.9303739070892334, 0.9303739070892334, 0.9296599626541138, 0.9296599626541138, 0.9296599626541138, 0.9296599626541138, 0.9288407564163208, 0.9288407564163208, 0.928032398223877, 0.9277310371398926, 0.9266964793205261, 0.9782608151435852, 0.9680038690567017, 0.9680038690567017, 0.9609864950180054, 0.9583727121353149, 0.9569290280342102, 0.9569290280342102, 0.9567297697067261, 0.9567297697067261, 0.953407347202301, 0.953015148639679, 0.9517337679862976, 0.9515872597694397, 0.9508562088012695, 0.9497162103652954, 0.9497162103652954, 0.9486438035964966, 0.9486438035964966, 0.9486438035964966, 0.9480385184288025, 0.9473730325698853, 0.9455453753471375, 0.9455453753471375, 0.9443842768669128, 0.9430418610572815, 0.9430418610572815, 0.9421554207801819, 0.9418281316757202, 0.9409438371658325, 0.940570056438446, 0.940570056438446, 0.940570056438446, 0.9405399560928345, 0.9383149147033691, 0.9383147954940796, 0.9376362562179565, 0.9362573027610779, 0.9355851411819458, 0.9347826242446899, 0.9337990880012512, 0.9337990880012512, 0.9276335835456848, 0.9261981844902039, 0.9180845022201538, 0.9180845022201538, 0.9140904545783997, 0.9109357595443726, 0.9102990627288818, 0.9095085263252258, 0.9095085263252258, 0.9081082344055176, 0.9081082344055176, 0.9080252051353455, 0.9046624898910522, 0.9007546901702881, 0.9007546901702881, 0.9002839922904968, 0.8978642225265503, 0.8973818421363831, 0.8973645567893982, 0.895607590675354, 0.8952858448028564, 0.8951712846755981, 0.8932595252990723, 0.8926784992218018, 0.8926784992218018, 0.8917926549911499, 0.8911327719688416, 0.8911327719688416, 0.8911327719688416, 0.8892972469329834, 0.8892972469329834, 0.8885402679443359, 0.8877781629562378, 0.8875744938850403, 0.8868440389633179, 0.886076033115387, 0.886076033115387, 0.886076033115387, 0.8858784437179565, 0.8856148719787598, 0.8856148719787598, 0.9284766912460327, 0.9143006205558777, 0.9005004167556763, 0.8965517282485962, 0.894629955291748, 0.8938527703285217, 0.8913376331329346, 0.8858184218406677, 0.8844476938247681, 0.8823397755622864, 0.8820528984069824, 0.8820527791976929, 0.8817846775054932, 0.8791322112083435, 0.8778665065765381, 0.8778665065765381, 0.8773279190063477, 0.8773279190063477, 0.875420868396759, 0.8753761053085327, 0.8727859854698181, 0.8725832104682922, 0.8719775080680847, 0.8718127012252808, 0.8703169822692871, 0.8703169822692871, 0.8703169822692871, 0.8703169822692871, 0.8700222373008728, 0.868510365486145, 0.8671485185623169, 0.8671485185623169, 0.8671485185623169, 0.8656302690505981, 0.8630338907241821, 0.8630338907241821, 0.8630338907241821, 0.8620792627334595, 0.8620690107345581, 0.8620689511299133, 0.8620689511299133, 0.9782608151435852, 0.9680038690567017, 0.9680038690567017, 0.9609864950180054, 0.9583727121353149, 0.9569290280342102, 0.9569290280342102, 0.9567297697067261, 0.9567297697067261, 0.953407347202301, 0.953015148639679, 0.9517337679862976, 0.9515872597694397, 0.9508562088012695, 0.9497162103652954, 0.9497162103652954, 0.9486438035964966, 0.9486438035964966, 0.9486438035964966, 0.9480385184288025, 0.9473730325698853, 0.9455453753471375, 0.9455453753471375, 0.9443842768669128, 0.9430418610572815, 0.9430418610572815, 0.9421554207801819, 0.9418281316757202, 0.9409438371658325, 0.940570056438446, 0.940570056438446, 0.940570056438446, 0.9405399560928345, 0.9383149147033691, 0.9383147954940796, 0.9376362562179565, 0.9362573027610779, 0.9355851411819458, 0.9347826242446899, 0.9337990880012512, 0.9337990880012512, 0.9622504711151123, 0.8944271802902222, 0.8944271802902222, 0.8944271802902222, 0.884651780128479, 0.875, 0.8728715777397156, 0.8660253882408142, 0.8660253882408142, 0.8660253882408142, 0.8574929237365723, 0.8534917831420898, 0.851205587387085, 0.8488746881484985, 0.8488746881484985, 0.8488746881484985, 0.8486684560775757, 0.8463273048400879, 0.8461141586303711, 0.8401681184768677, 0.8391463756561279, 0.8391463756561279, 0.8360795974731445, 0.8356289863586426, 0.8320503234863281, 0.8320503234863281, 0.8249579071998596, 0.8249579071998596, 0.8249579071998596, 0.8249579071998596, 0.8164966106414795, 0.8164966106414795, 0.8164966106414795, 0.8111070990562439, 0.8111070990562439, 0.8111070990562439, 0.8111070990562439, 0.8111070990562439, 0.8111070990562439, 0.8084520101547241, 0.8082239031791687, 0.9660917520523071, 0.9561828374862671, 0.9449111819267273, 0.9354143738746643, 0.9354143142700195, 0.9354143142700195, 0.9354143142700195, 0.933138906955719, 0.933138906955719, 0.9258200526237488, 0.9116846323013306, 0.9083736538887024, 0.9074851870536804, 0.9074851870536804, 0.904106080532074, 0.8970852494239807, 0.8964214324951172, 0.8933249711990356, 0.8908707499504089, 0.8908707499504089, 0.8894991874694824, 0.8894991874694824, 0.867110013961792, 0.867110013961792, 0.8671098947525024, 0.8583950400352478, 0.8583950400352478, 0.8583324551582336, 0.8583324551582336, 0.8571428656578064, 0.8571428060531616, 0.8571428060531616, 0.8552359938621521, 0.8547042608261108, 0.8528028726577759, 0.8486683368682861, 0.8486683368682861, 0.8486683368682861, 0.8486683368682861, 0.8486683368682861, 0.8463273644447327, 0.9622504711151123, 0.8944271802902222, 0.8944271802902222, 0.8944271802902222, 0.884651780128479, 0.875, 0.8728715777397156, 0.8660253882408142, 0.8660253882408142, 0.8660253882408142, 0.8574929237365723, 0.8534917831420898, 0.851205587387085, 0.8488746881484985, 0.8488746881484985, 0.8488746881484985, 0.8486684560775757, 0.8463273048400879, 0.8461141586303711, 0.8401681184768677, 0.8391463756561279, 0.8391463756561279, 0.8360795974731445, 0.8356289863586426, 0.8320503234863281, 0.8320503234863281, 0.8249579071998596, 0.8249579071998596, 0.8249579071998596, 0.8249579071998596, 0.8164966106414795, 0.8164966106414795, 0.8164966106414795, 0.8111070990562439, 0.8111070990562439, 0.8111070990562439, 0.8111070990562439, 0.8111070990562439, 0.8111070990562439, 0.8084520101547241, 0.8082239031791687, 0.9770084023475647, 0.933138906955719, 0.928571343421936, 0.9265616536140442, 0.925819993019104, 0.9182623624801636, 0.9134140610694885, 0.9104654788970947, 0.9104654788970947, 0.9086882472038269, 0.9086882472038269, 0.9072647094726562, 0.9035078883171082, 0.898716926574707, 0.8986450433731079, 0.8976656198501587, 0.8976656198501587, 0.8970852494239807, 0.8970851898193359, 0.8966530561447144, 0.8966530561447144, 0.8966333866119385, 0.8966333866119385, 0.8966333866119385, 0.8966333866119385, 0.8950412273406982, 0.8934051394462585, 0.8933249115943909, 0.8916451334953308, 0.8916451334953308, 0.8910420536994934, 0.8910420536994934, 0.8910420536994934, 0.8908708095550537, 0.8908708095550537, 0.8908707499504089, 0.8890520334243774, 0.8872442245483398, 0.8872441649436951, 0.8864052295684814, 0.8864052295684814, 0.9750000238418579, 0.9695896506309509, 0.968245804309845, 0.9561827778816223, 0.9560661315917969, 0.9560661315917969, 0.9547032117843628, 0.9545941948890686, 0.9463399052619934, 0.9463399052619934, 0.9429277777671814, 0.9407528638839722, 0.9398254752159119, 0.9398254156112671, 0.9389710426330566, 0.9383147358894348, 0.9374998807907104, 0.9360566139221191, 0.9360566139221191, 0.9360566139221191, 0.9359709620475769, 0.9354143738746643, 0.9341285228729248, 0.93412846326828, 0.9327731132507324, 0.9284766912460327, 0.9284766912460327, 0.9282791018486023, 0.9280775785446167, 0.9280775785446167, 0.9280775785446167, 0.9274260401725769, 0.9263020753860474, 0.9263020157814026, 0.925000011920929, 0.925000011920929, 0.923186182975769, 0.9231711626052856, 0.9231711626052856, 0.9223309755325317, 0.9214785099029541, 0.9309492707252502, 0.9013878703117371, 0.896643877029419, 0.8894991874694824, 0.8894991874694824, 0.8882312178611755, 0.8869686126708984, 0.8825225830078125, 0.8744746446609497, 0.870285153388977, 0.8682432174682617, 0.8674723505973816, 0.8608284592628479, 0.8608283996582031, 0.8600261211395264, 0.8593377470970154, 0.8589843511581421, 0.8561727404594421, 0.8561727404594421, 0.8561726808547974, 0.8561726808547974, 0.8561726808547974, 0.8559210300445557, 0.8540168404579163, 0.8530422449111938, 0.8492078185081482, 0.8492078185081482, 0.8492078185081482, 0.8492078185081482, 0.8473185896873474, 0.8473185300827026, 0.8473185300827026, 0.8468303680419922, 0.8468303680419922, 0.8459098935127258, 0.8438529968261719, 0.8438196182250977, 0.8406727313995361, 0.838627815246582, 0.8383354544639587, 0.8376104831695557, 0.9750000238418579, 0.9695896506309509, 0.968245804309845, 0.9561827778816223, 0.9560661315917969, 0.9560661315917969, 0.9547032117843628, 0.9545941948890686, 0.9463399052619934, 0.9463399052619934, 0.9429277777671814, 0.9407528638839722, 0.9398254752159119, 0.9398254156112671, 0.9389710426330566, 0.9383147358894348, 0.9374998807907104, 0.9360566139221191, 0.9360566139221191, 0.9360566139221191, 0.9359709620475769, 0.9354143738746643, 0.9341285228729248, 0.93412846326828, 0.9327731132507324, 0.9284766912460327, 0.9284766912460327, 0.9282791018486023, 0.9280775785446167, 0.9280775785446167, 0.9280775785446167, 0.9274260401725769, 0.9263020753860474, 0.9263020157814026, 0.925000011920929, 0.925000011920929, 0.923186182975769, 0.9231711626052856, 0.9231711626052856, 0.9223309755325317, 0.9214785099029541, 0.9503289461135864, 0.9503289461135864, 0.9486833214759827, 0.9315559267997742, 0.9302604794502258, 0.9296696782112122, 0.9219543933868408, 0.9219543933868408, 0.921954333782196, 0.9203579425811768, 0.9203579425811768, 0.919238805770874, 0.9170604944229126, 0.9135002493858337, 0.9135002493858337, 0.9109802842140198, 0.9101912975311279, 0.9101912975311279, 0.9091548323631287, 0.9091548323631287, 0.9091548323631287, 0.9087389707565308, 0.9080252051353455, 0.9080252051353455, 0.9071146845817566, 0.9071146249771118, 0.9071146249771118, 0.9071146249771118, 0.9068453907966614, 0.9068453311920166, 0.9068453311920166, 0.9057894349098206, 0.9057894349098206, 0.9057894349098206, 0.9045339822769165, 0.9014912843704224, 0.9012491106987, 0.8999999761581421, 0.8999999761581421, 0.8999999761581421, 0.8999999761581421, 0.9271051287651062, 0.9271051287651062, 0.9233804941177368, 0.9233804941177368, 0.9233804941177368, 0.9233804941177368, 0.9223309755325317, 0.918558657169342, 0.9150798320770264, 0.9091922640800476, 0.9086881875991821, 0.9086881875991821, 0.9068453311920166, 0.9068453311920166, 0.9068453311920166, 0.9068453311920166, 0.9067235589027405, 0.9057894945144653, 0.9057894945144653, 0.9057256579399109, 0.9057255983352661, 0.9036961197853088, 0.9036961197853088, 0.903642475605011, 0.9035079479217529, 0.902707576751709, 0.9004503488540649, 0.9000000357627869, 0.8992517590522766, 0.8977310657501221, 0.8977310061454773, 0.8959786891937256, 0.8959786891937256, 0.8959786891937256, 0.8948380947113037, 0.8944271802902222, 0.8944271206855774, 0.8901636600494385, 0.8894600868225098, 0.8889566659927368, 0.8889342546463013, 0.931891143321991, 0.931891143321991, 0.931891143321991, 0.931891143321991, 0.9284141063690186, 0.9239886403083801, 0.9214065074920654, 0.9185315370559692, 0.9185315370559692, 0.9185315370559692, 0.9132660627365112, 0.9132660627365112, 0.912159264087677, 0.912159264087677, 0.9082951545715332, 0.9074424505233765, 0.903652012348175, 0.9014202952384949, 0.8994013071060181, 0.8994011878967285, 0.8994011878967285, 0.8994011878967285, 0.8983222842216492, 0.8971499800682068, 0.8956221342086792, 0.8927095532417297, 0.892413318157196, 0.8924132585525513, 0.8922685384750366, 0.8922685384750366, 0.8922268152236938, 0.8919914364814758, 0.891455352306366, 0.8898984789848328, 0.8897130489349365, 0.8883363008499146, 0.8883363008499146, 0.8883363008499146, 0.8882347941398621, 0.8876253366470337, 0.8871638774871826, 1.0, 1.0, 1.0, 1.0, 1.0, 1.0, 1.0, 1.0, 1.0, 1.0, 1.0, 1.0, 1.0, 1.0, 1.0, 1.0, 1.0, 1.0, 1.0, 1.0, 1.0, 1.0, 0.981980562210083, 0.9701424837112427, 0.9701424837112427, 0.9594031572341919, 0.9444444179534912, 0.9354143142700195, 0.9354143142700195, 0.9176629185676575, 0.9036960601806641, 0.8872442841529846, 0.8845379948616028, 0.883883535861969, 0.8816820383071899, 0.8757290840148926, 0.875, 0.875, 0.875, 0.875, 0.8660253882408142, 0.9504969120025635, 0.9495630264282227, 0.9495630264282227, 0.9428292512893677, 0.9428292512893677, 0.9428291916847229, 0.9428291320800781, 0.9428291320800781, 0.9415245652198792, 0.9306780695915222, 0.9306630492210388, 0.9304842352867126, 0.9304842352867126, 0.9304841756820679, 0.9304841756820679, 0.9243423342704773, 0.9210566282272339, 0.9210566282272339, 0.9187794923782349, 0.9186933636665344, 0.9173648953437805, 0.9173648953437805, 0.9173648953437805, 0.9163298010826111, 0.9163298010826111, 0.9154754281044006, 0.9150522351264954, 0.9150522351264954, 0.9150521755218506, 0.9143940210342407, 0.9143940210342407, 0.9141045808792114, 0.9137173891067505, 0.9137173891067505, 0.9121593236923218, 0.912159264087677, 0.912159264087677, 0.912159264087677, 0.912159264087677, 0.912159264087677, 0.912103533744812, 0.9271051287651062, 0.9271051287651062, 0.9233804941177368, 0.9233804941177368, 0.9233804941177368, 0.9233804941177368, 0.9223309755325317, 0.918558657169342, 0.9150798320770264, 0.9091922640800476, 0.9086881875991821, 0.9086881875991821, 0.9068453311920166, 0.9068453311920166, 0.9068453311920166, 0.9068453311920166, 0.9067235589027405, 0.9057894945144653, 0.9057894945144653, 0.9057256579399109, 0.9057255983352661, 0.9036961197853088, 0.9036961197853088, 0.903642475605011, 0.9035079479217529, 0.902707576751709, 0.9004503488540649, 0.9000000357627869, 0.8992517590522766, 0.8977310657501221, 0.8977310061454773, 0.8959786891937256, 0.8959786891937256, 0.8959786891937256, 0.8948380947113037, 0.8944271802902222, 0.8944271206855774, 0.8901636600494385, 0.8894600868225098, 0.8889566659927368, 0.8889342546463013, 0.931891143321991, 0.931891143321991, 0.931891143321991, 0.931891143321991, 0.9284141063690186, 0.9239886403083801, 0.9214065074920654, 0.9185315370559692, 0.9185315370559692, 0.9185315370559692, 0.9132660627365112, 0.9132660627365112, 0.912159264087677, 0.912159264087677, 0.9082951545715332, 0.9074424505233765, 0.903652012348175, 0.9014202952384949, 0.8994013071060181, 0.8994011878967285, 0.8994011878967285, 0.8994011878967285, 0.8983222842216492, 0.8971499800682068, 0.8956221342086792, 0.8927095532417297, 0.892413318157196, 0.8924132585525513, 0.8922685384750366, 0.8922685384750366, 0.8922268152236938, 0.8919914364814758, 0.891455352306366, 0.8898984789848328, 0.8897130489349365, 0.8883363008499146, 0.8883363008499146, 0.8883363008499146, 0.8882347941398621, 0.8876253366470337, 0.8871638774871826, 1.0, 1.0, 1.0, 1.0, 1.0, 1.0, 1.0, 1.0, 1.0, 1.0, 1.0, 1.0, 1.0, 1.0, 1.0, 1.0, 1.0, 1.0, 1.0, 1.0, 1.0, 1.0, 0.981980562210083, 0.9701424837112427, 0.9701424837112427, 0.9594031572341919, 0.9444444179534912, 0.9354143142700195, 0.9354143142700195, 0.9176629185676575, 0.9036960601806641, 0.8872442841529846, 0.8845379948616028, 0.883883535861969, 0.8816820383071899, 0.8757290840148926, 0.875, 0.875, 0.875, 0.875, 0.8660253882408142, 0.9504969120025635, 0.9495630264282227, 0.9495630264282227, 0.9428292512893677, 0.9428292512893677, 0.9428291916847229, 0.9428291320800781, 0.9428291320800781, 0.9415245652198792, 0.9306780695915222, 0.9306630492210388, 0.9304842352867126, 0.9304842352867126, 0.9304841756820679, 0.9304841756820679, 0.9243423342704773, 0.9210566282272339, 0.9210566282272339, 0.9187794923782349, 0.9186933636665344, 0.9173648953437805, 0.9173648953437805, 0.9173648953437805, 0.9163298010826111, 0.9163298010826111, 0.9154754281044006, 0.9150522351264954, 0.9150522351264954, 0.9150521755218506, 0.9143940210342407, 0.9143940210342407, 0.9141045808792114, 0.9137173891067505, 0.9137173891067505, 0.9121593236923218, 0.912159264087677, 0.912159264087677, 0.912159264087677, 0.912159264087677, 0.912159264087677, 0.912103533744812, 0.984309196472168, 0.9836212396621704, 0.9777750372886658, 0.9751579165458679, 0.9751579165458679, 0.9751579165458679, 0.9751579165458679, 0.9751579165458679, 0.9724151492118835, 0.9722036719322205, 0.9719410538673401, 0.9705232381820679, 0.9692704677581787, 0.9683640003204346, 0.9683640003204346, 0.9683640003204346, 0.9663776755332947, 0.9650870561599731, 0.9640128016471863, 0.961972177028656, 0.9608387351036072, 0.9569487571716309, 0.956259548664093, 0.9553254246711731, 0.9553254246711731, 0.9553254246711731, 0.9552974700927734, 0.9552974700927734, 0.9541301131248474, 0.9541301131248474, 0.9532414674758911, 0.9532414674758911, 0.9532333016395569, 0.9528306722640991, 0.9528306722640991, 0.9525641202926636, 0.9525641202926636, 0.9525641202926636, 0.9523038268089294, 0.9513515830039978, 0.9509146213531494, 0.9513311386108398, 0.950131893157959, 0.9501192569732666, 0.9417286515235901, 0.9412096738815308, 0.9377429485321045, 0.9377429485321045, 0.9374334216117859, 0.9373601675033569, 0.9349289536476135, 0.934928834438324, 0.934928834438324, 0.934928834438324, 0.9345024228096008, 0.934502363204956, 0.9331203103065491, 0.9331203103065491, 0.9331203103065491, 0.9331203103065491, 0.9331203103065491, 0.9320410490036011, 0.931555986404419, 0.9311728477478027, 0.9301145076751709, 0.9299208521842957, 0.9297347664833069, 0.9297347664833069, 0.9292548894882202, 0.9263103604316711, 0.9251285195350647, 0.924249529838562, 0.924249529838562, 0.924249529838562, 0.9236083626747131, 0.9229729771614075, 0.9224556684494019, 0.9224556684494019, 0.9212563037872314, 0.9207663536071777, 0.9207663536071777, 0.9207516312599182, 0.9945710301399231, 0.9843176603317261, 0.9843176603317261, 0.9843176603317261, 0.979218602180481, 0.9753829836845398, 0.9753829836845398, 0.975382924079895, 0.974583089351654, 0.9702163338661194, 0.9699311852455139, 0.9699311852455139, 0.9699311256408691, 0.96588134765625, 0.9630714654922485, 0.9589996337890625, 0.9589996337890625, 0.9589996337890625, 0.9570731520652771, 0.9563649892807007, 0.9563649892807007, 0.9563649892807007, 0.9535351991653442, 0.9519829750061035, 0.9512194395065308, 0.9512194395065308, 0.9503345489501953, 0.9489461779594421, 0.9489461779594421, 0.9489461779594421, 0.9467531442642212, 0.9467531442642212, 0.9467531442642212, 0.9467531442642212, 0.9467531442642212, 0.9467531442642212, 0.9467531442642212, 0.9467531442642212, 0.9467531442642212, 0.9467531442642212, 0.9467531442642212, 0.8660253286361694, 0.8542420864105225, 0.8512565493583679, 0.8268688321113586, 0.8268688321113586, 0.8268688321113586, 0.8268688321113586, 0.8268688321113586, 0.8211076855659485, 0.8183169960975647, 0.8164964914321899, 0.8164964914321899, 0.8067842125892639, 0.8017837405204773, 0.8017837405204773, 0.8017837405204773, 0.8017836809158325, 0.7924058437347412, 0.7924058437347412, 0.7916666269302368, 0.7825080752372742, 0.7770980000495911, 0.7745967507362366, 0.7715166807174683, 0.7654655575752258, 0.7637625336647034, 0.7637625336647034, 0.7637625336647034, 0.7579367160797119, 0.7579367160797119, 0.753778338432312, 0.7504786849021912, 0.7504786849021912, 0.75, 0.7484552264213562, 0.7484552264213562, 0.7484552264213562, 0.7484552264213562, 0.7484552264213562, 0.7463905215263367, 0.7463905215263367, 0.9719274044036865, 0.9719274044036865, 0.9585144519805908, 0.949999988079071, 0.949999988079071, 0.949999988079071, 0.949999988079071, 0.949999988079071, 0.949999988079071, 0.9488521814346313, 0.9468950629234314, 0.9468950629234314, 0.9455944299697876, 0.9455944299697876, 0.9455944299697876, 0.9449111223220825, 0.9441176056861877, 0.9431191682815552, 0.9421682357788086, 0.941357433795929, 0.9333332777023315, 0.9333332777023315, 0.9315885305404663, 0.9315885305404663, 0.9309493899345398, 0.9309493899345398, 0.9304653406143188, 0.9296697378158569, 0.9296696782112122, 0.9296696782112122, 0.9273412227630615, 0.9271050095558167, 0.9271050095558167, 0.9264487624168396, 0.9264487624168396, 0.9249998927116394, 0.9233804941177368, 0.9223780035972595, 0.9219543933868408, 0.9219543933868408, 0.9209109544754028, 0.9787957072257996, 0.9640346765518188, 0.9633798599243164, 0.9621023535728455, 0.9621023535728455, 0.9621023535728455, 0.9558526873588562, 0.955649733543396, 0.9537876844406128, 0.9511599540710449, 0.9508497714996338, 0.9507505297660828, 0.9501461982727051, 0.9501461982727051, 0.948979914188385, 0.9488521814346313, 0.9476815462112427, 0.9473464488983154, 0.9465925097465515, 0.9456576704978943, 0.9456576704978943, 0.9447560906410217, 0.9434393048286438, 0.9412351846694946, 0.9409592151641846, 0.940580427646637, 0.9405161738395691, 0.9399007558822632, 0.9399007558822632, 0.9399007558822632, 0.9385019540786743, 0.9379647970199585, 0.9378902316093445, 0.9378902316093445, 0.937635600566864, 0.9374701380729675, 0.9367507100105286, 0.9361647963523865, 0.9349468946456909, 0.9349468946456909, 0.9333308339118958, 0.9866902232170105, 0.975784420967102, 0.9674797058105469, 0.9674797058105469, 0.9674797058105469, 0.9655351042747498, 0.9633640050888062, 0.9633640050888062, 0.9621404409408569, 0.9607347846031189, 0.9604803323745728, 0.959383487701416, 0.9585145711898804, 0.9561828970909119, 0.9561828970909119, 0.955817461013794, 0.955817461013794, 0.9556189775466919, 0.9550230503082275, 0.9550230503082275, 0.954993724822998, 0.9545941948890686, 0.9545941948890686, 0.9534626007080078, 0.9534626007080078, 0.9520360231399536, 0.9520360231399536, 0.9515025615692139, 0.9503289461135864, 0.9490706920623779, 0.9486832618713379, 0.9471879005432129, 0.9468950629234314, 0.9465078115463257, 0.9455944895744324, 0.9455944895744324, 0.9438797831535339, 0.9438797831535339, 0.9438797831535339, 0.9432421922683716, 0.9428276419639587, 0.9532063007354736, 0.9374860525131226, 0.937089204788208, 0.9353047609329224, 0.9353047609329224, 0.9353047609329224, 0.9332565665245056, 0.9332565069198608, 0.932202160358429, 0.9313342571258545, 0.9313341975212097, 0.9284089207649231, 0.9279607534408569, 0.9274777770042419, 0.926847517490387, 0.926847517490387, 0.926847517490387, 0.9262908697128296, 0.9262436628341675, 0.9247311949729919, 0.9242740869522095, 0.9242740869522095, 0.92406165599823, 0.9236372709274292, 0.9215506911277771, 0.9213557839393616, 0.9210565686225891, 0.9207508563995361, 0.9206016063690186, 0.9206016063690186, 0.9205586314201355, 0.9202829599380493, 0.9190074801445007, 0.9190074801445007, 0.9190074801445007, 0.9165445566177368, 0.916544497013092, 0.916544497013092, 0.9164397120475769, 0.9133691787719727, 0.9133691191673279, 0.9594032764434814, 0.9574271440505981, 0.9534626007080078, 0.942082405090332, 0.942082405090332, 0.942082405090332, 0.9285405874252319, 0.9284141063690186, 0.9199353456497192, 0.9198662042617798, 0.9173649549484253, 0.9116846919059753, 0.9111469388008118, 0.910578727722168, 0.9103585481643677, 0.9090908765792847, 0.907442569732666, 0.9045340418815613, 0.9045340418815613, 0.9045340418815613, 0.9045340418815613, 0.9045340418815613, 0.9045340418815613, 0.9045340418815613, 0.8983222842216492, 0.8935251235961914, 0.8869686126708984, 0.8780540823936462, 0.8764598965644836, 0.8761903643608093, 0.8746731877326965, 0.8746731877326965, 0.8727860450744629, 0.8709883093833923, 0.8709882497787476, 0.8703882694244385, 0.8678334355354309, 0.8664002418518066, 0.8664002418518066, 0.865657389163971, 0.8624393343925476, 0.9798047542572021, 0.9798047542572021, 0.9798047542572021, 0.9770542979240417, 0.9756366014480591, 0.9756366014480591, 0.9743975400924683, 0.9729739427566528, 0.972716212272644, 0.9716053605079651, 0.9683640003204346, 0.9683640003204346, 0.9679938554763794, 0.9679938554763794, 0.9677928686141968, 0.9671894311904907, 0.9671894311904907, 0.9671894311904907, 0.9671597480773926, 0.965609073638916, 0.965609073638916, 0.9641643762588501, 0.9641643762588501, 0.9624354243278503, 0.9611612558364868, 0.9607688784599304, 0.9592545032501221, 0.958662211894989, 0.9559041857719421, 0.9559041857719421, 0.9552584886550903, 0.9548386335372925, 0.9548197388648987, 0.953349769115448, 0.953349769115448, 0.9528704881668091, 0.951762318611145, 0.951521635055542, 0.9512699246406555, 0.9509329199790955, 0.9488521814346313, 0.9767816662788391, 0.9675326347351074, 0.9635461568832397, 0.9621405601501465, 0.9603921175003052, 0.9596789479255676, 0.9594031572341919, 0.9534626007080078, 0.9534626007080078, 0.953230619430542, 0.9493857026100159, 0.9489284753799438, 0.9489284753799438, 0.9489284753799438, 0.9489284753799438, 0.9489284753799438, 0.9486833810806274, 0.9463773965835571, 0.9436284899711609, 0.9430055022239685, 0.9429903030395508, 0.9429903030395508, 0.9429903030395508, 0.9408842325210571, 0.9400193691253662, 0.9391485452651978, 0.93898606300354, 0.93898606300354, 0.93898606300354, 0.9389711618423462, 0.9389710426330566, 0.9354953765869141, 0.9354953765869141, 0.9354143142700195, 0.9339475631713867, 0.9339475631713867, 0.9339475631713867, 0.9336222410202026, 0.9333810210227966, 0.9311283230781555, 0.929516077041626, 0.9765536189079285, 0.9750854969024658, 0.974913477897644, 0.974913477897644, 0.974913477897644, 0.9723448753356934, 0.9723448753356934, 0.9716053605079651, 0.9707252979278564, 0.9673306941986084, 0.9673306941986084, 0.9609277844429016, 0.9607689380645752, 0.9607689380645752, 0.9607689380645752, 0.9578132629394531, 0.9575175046920776, 0.9553170800209045, 0.9542195796966553, 0.9534240365028381, 0.9529258012771606, 0.9518744945526123, 0.9516485929489136, 0.9516485929489136, 0.9516485929489136, 0.9516485929489136, 0.9516485929489136, 0.9516485929489136, 0.9516485929489136, 0.9516485929489136, 0.951034426689148, 0.951034426689148, 0.9509329199790955, 0.9509329199790955, 0.9487438201904297, 0.9478946328163147, 0.9476128816604614, 0.9464573860168457, 0.9460287094116211, 0.9448346495628357, 0.9448346495628357, 1.0, 1.0, 1.0, 1.0, 1.0, 1.0, 1.0, 1.0, 1.0, 0.9701424837112427, 0.9701424837112427, 0.9354143142700195, 0.9354143142700195, 0.9354143142700195, 0.9354143142700195, 0.9176629185676575, 0.8944271802902222, 0.875, 0.875, 0.8660253882408142, 0.8660253286361694, 0.8660253286361694, 0.8660253286361694, 0.8504200577735901, 0.8498365879058838, 0.8333333730697632, 0.8320502638816833, 0.8320502638816833, 0.8320502638816833, 0.8249579071998596, 0.8249579071998596, 0.8164966106414795, 0.8164966106414795, 0.812604546546936, 0.8111474514007568, 0.8111070990562439, 0.8082239031791687, 0.8082238435745239, 0.8017836809158325, 0.8017836809158325, 0.8017836809158325, 0.9767816662788391, 0.9675326347351074, 0.9635461568832397, 0.9621405601501465, 0.9603921175003052, 0.9596789479255676, 0.9594031572341919, 0.9534626007080078, 0.9534626007080078, 0.953230619430542, 0.9493857026100159, 0.9489284753799438, 0.9489284753799438, 0.9489284753799438, 0.9489284753799438, 0.9489284753799438, 0.9486833810806274, 0.9463773965835571, 0.9436284899711609, 0.9430055022239685, 0.9429903030395508, 0.9429903030395508, 0.9429903030395508, 0.9408842325210571, 0.9400193691253662, 0.9391485452651978, 0.93898606300354, 0.93898606300354, 0.93898606300354, 0.9389711618423462, 0.9389710426330566, 0.9354953765869141, 0.9354953765869141, 0.9354143142700195, 0.9339475631713867, 0.9339475631713867, 0.9339475631713867, 0.9336222410202026, 0.9333810210227966, 0.9311283230781555, 0.929516077041626, 0.9767816662788391, 0.9675326347351074, 0.9635461568832397, 0.9621405601501465, 0.9603921175003052, 0.9596789479255676, 0.9594031572341919, 0.9534626007080078, 0.9534626007080078, 0.953230619430542, 0.9493857026100159, 0.9489284753799438, 0.9489284753799438, 0.9489284753799438, 0.9489284753799438, 0.9489284753799438, 0.9486833810806274, 0.9463773965835571, 0.9436284899711609, 0.9430055022239685, 0.9429903030395508, 0.9429903030395508, 0.9429903030395508, 0.9408842325210571, 0.9400193691253662, 0.9391485452651978, 0.93898606300354, 0.93898606300354, 0.93898606300354, 0.9389711618423462, 0.9389710426330566, 0.9354953765869141, 0.9354953765869141, 0.9354143142700195, 0.9339475631713867, 0.9339475631713867, 0.9339475631713867, 0.9336222410202026, 0.9333810210227966, 0.9311283230781555, 0.929516077041626, 0.9765536189079285, 0.9750854969024658, 0.974913477897644, 0.974913477897644, 0.974913477897644, 0.9723448753356934, 0.9723448753356934, 0.9716053605079651, 0.9707252979278564, 0.9673306941986084, 0.9673306941986084, 0.9609277844429016, 0.9607689380645752, 0.9607689380645752, 0.9607689380645752, 0.9578132629394531, 0.9575175046920776, 0.9553170800209045, 0.9542195796966553, 0.9534240365028381, 0.9529258012771606, 0.9518744945526123, 0.9516485929489136, 0.9516485929489136, 0.9516485929489136, 0.9516485929489136, 0.9516485929489136, 0.9516485929489136, 0.9516485929489136, 0.9516485929489136, 0.951034426689148, 0.951034426689148, 0.9509329199790955, 0.9509329199790955, 0.9487438201904297, 0.9478946328163147, 0.9476128816604614, 0.9464573860168457, 0.9460287094116211, 0.9448346495628357, 0.9448346495628357, 1.0, 1.0, 1.0, 1.0, 1.0, 1.0, 1.0, 1.0, 1.0, 0.9701424837112427, 0.9701424837112427, 0.9354143142700195, 0.9354143142700195, 0.9354143142700195, 0.9354143142700195, 0.9176629185676575, 0.8944271802902222, 0.875, 0.875, 0.8660253882408142, 0.8660253286361694, 0.8660253286361694, 0.8660253286361694, 0.8504200577735901, 0.8498365879058838, 0.8333333730697632, 0.8320502638816833, 0.8320502638816833, 0.8320502638816833, 0.8249579071998596, 0.8249579071998596, 0.8164966106414795, 0.8164966106414795, 0.812604546546936, 0.8111474514007568, 0.8111070990562439, 0.8082239031791687, 0.8082238435745239, 0.8017836809158325, 0.8017836809158325, 0.8017836809158325, 0.9767816662788391, 0.9675326347351074, 0.9635461568832397, 0.9621405601501465, 0.9603921175003052, 0.9596789479255676, 0.9594031572341919, 0.9534626007080078, 0.9534626007080078, 0.953230619430542, 0.9493857026100159, 0.9489284753799438, 0.9489284753799438, 0.9489284753799438, 0.9489284753799438, 0.9489284753799438, 0.9486833810806274, 0.9463773965835571, 0.9436284899711609, 0.9430055022239685, 0.9429903030395508, 0.9429903030395508, 0.9429903030395508, 0.9408842325210571, 0.9400193691253662, 0.9391485452651978, 0.93898606300354, 0.93898606300354, 0.93898606300354, 0.9389711618423462, 0.9389710426330566, 0.9354953765869141, 0.9354953765869141, 0.9354143142700195, 0.9339475631713867, 0.9339475631713867, 0.9339475631713867, 0.9336222410202026, 0.9333810210227966, 0.9311283230781555, 0.929516077041626, 0.9746794104576111, 0.9550229907035828, 0.953462541103363, 0.9486833214759827, 0.9486833214759827, 0.9467291831970215, 0.9449110627174377, 0.9341986179351807, 0.9316949844360352, 0.9316949844360352, 0.9316949844360352, 0.9316949844360352, 0.9316949844360352, 0.9315561056137085, 0.9296694993972778, 0.9237021803855896, 0.9237021207809448, 0.9237021207809448, 0.9237021207809448, 0.9237021207809448, 0.9216352701187134, 0.9209109544754028, 0.9203580021858215, 0.9203580021858215, 0.9203580021858215, 0.9190182685852051, 0.9190182685852051, 0.9170604944229126, 0.9141740798950195, 0.9135002493858337, 0.9135002493858337, 0.9135002493858337, 0.9135002493858337, 0.9135002493858337, 0.9132592678070068, 0.9128710031509399, 0.9128708839416504, 0.9101698398590088, 0.9101698398590088, 0.9101698398590088, 0.9091922640800476, 0.9574272632598877, 0.9486833810806274, 0.9449112415313721, 0.9428089261054993, 0.9415963292121887, 0.9298989176750183, 0.9244735836982727, 0.9238697290420532, 0.922330915927887, 0.9185587763786316, 0.9185587167739868, 0.9141378402709961, 0.9141378402709961, 0.9141378402709961, 0.9138600826263428, 0.9131712913513184, 0.9128710627555847, 0.9128710627555847, 0.9128710627555847, 0.9128710627555847, 0.9128710627555847, 0.9128710627555847, 0.9128708243370056, 0.9112957715988159, 0.9103456735610962, 0.9097177386283875, 0.9097177386283875, 0.9082951545715332, 0.9082951545715332, 0.9072184562683105, 0.9060606956481934, 0.9058216214179993, 0.9058216214179993, 0.9058215022087097, 0.9056544899940491, 0.9036962389945984, 0.9036961793899536, 0.9036961793899536, 0.9035252928733826, 0.9035096764564514, 0.9027306437492371, 0.8682432174682617, 0.8362419605255127, 0.8278374075889587, 0.827837347984314, 0.8006407022476196, 0.8006407022476196, 0.8006407022476196, 0.8006407022476196, 0.7893521785736084, 0.7893521785736084, 0.7893521785736084, 0.7844645380973816, 0.7692307829856873, 0.7692307829856873, 0.7692307829856873, 0.762712836265564, 0.7627127766609192, 0.7614995241165161, 0.7526177763938904, 0.7518093585968018, 0.7518093585968018, 0.7472647428512573, 0.7433851361274719, 0.7412493228912354, 0.7412493228912354, 0.7412493228912354, 0.7412493228912354, 0.7399401068687439, 0.7399399876594543, 0.7396002411842346, 0.7354354858398438, 0.7354354858398438, 0.7354354858398438, 0.7282019853591919, 0.7275328636169434, 0.7242068648338318, 0.7238423228263855, 0.7211102843284607, 0.7211102843284607, 0.7211102843284607, 0.7205766439437866, 0.9565216302871704, 0.9565216302871704, 0.9498989582061768, 0.9457323551177979, 0.9451745748519897, 0.944369912147522, 0.9437401294708252, 0.9437401294708252, 0.9437401294708252, 0.9383845925331116, 0.9383149147033691, 0.9363822340965271, 0.9363821148872375, 0.9348927736282349, 0.9337990283966064, 0.9337990283966064, 0.933563768863678, 0.9325048327445984, 0.9325048327445984, 0.9325048327445984, 0.9325047135353088, 0.9308956265449524, 0.929283618927002, 0.9292835593223572, 0.9274376630783081, 0.9267343878746033, 0.9255480766296387, 0.9255480766296387, 0.9231327176094055, 0.9229581356048584, 0.9223131537437439, 0.9215121269226074, 0.9215121269226074, 0.9215121269226074, 0.9200671911239624, 0.9194621443748474, 0.9191833138465881, 0.9187147617340088, 0.9170672297477722, 0.9163795709609985, 0.915249228477478], \"xaxis\": \"x\", \"yaxis\": \"y\"}],\n",
              "                        {\"barmode\": \"relative\", \"legend\": {\"tracegroupgap\": 0}, \"margin\": {\"t\": 60}, \"template\": {\"data\": {\"bar\": [{\"error_x\": {\"color\": \"#2a3f5f\"}, \"error_y\": {\"color\": \"#2a3f5f\"}, \"marker\": {\"line\": {\"color\": \"#E5ECF6\", \"width\": 0.5}}, \"type\": \"bar\"}], \"barpolar\": [{\"marker\": {\"line\": {\"color\": \"#E5ECF6\", \"width\": 0.5}}, \"type\": \"barpolar\"}], \"carpet\": [{\"aaxis\": {\"endlinecolor\": \"#2a3f5f\", \"gridcolor\": \"white\", \"linecolor\": \"white\", \"minorgridcolor\": \"white\", \"startlinecolor\": \"#2a3f5f\"}, \"baxis\": {\"endlinecolor\": \"#2a3f5f\", \"gridcolor\": \"white\", \"linecolor\": \"white\", \"minorgridcolor\": \"white\", \"startlinecolor\": \"#2a3f5f\"}, \"type\": \"carpet\"}], \"choropleth\": [{\"colorbar\": {\"outlinewidth\": 0, \"ticks\": \"\"}, \"type\": \"choropleth\"}], \"contour\": [{\"colorbar\": {\"outlinewidth\": 0, \"ticks\": \"\"}, \"colorscale\": [[0.0, \"#0d0887\"], [0.1111111111111111, \"#46039f\"], [0.2222222222222222, \"#7201a8\"], [0.3333333333333333, \"#9c179e\"], [0.4444444444444444, \"#bd3786\"], [0.5555555555555556, \"#d8576b\"], [0.6666666666666666, \"#ed7953\"], [0.7777777777777778, \"#fb9f3a\"], [0.8888888888888888, \"#fdca26\"], [1.0, \"#f0f921\"]], \"type\": \"contour\"}], \"contourcarpet\": [{\"colorbar\": {\"outlinewidth\": 0, \"ticks\": \"\"}, \"type\": \"contourcarpet\"}], \"heatmap\": [{\"colorbar\": {\"outlinewidth\": 0, \"ticks\": \"\"}, \"colorscale\": [[0.0, \"#0d0887\"], [0.1111111111111111, \"#46039f\"], [0.2222222222222222, \"#7201a8\"], [0.3333333333333333, \"#9c179e\"], [0.4444444444444444, \"#bd3786\"], [0.5555555555555556, \"#d8576b\"], [0.6666666666666666, \"#ed7953\"], [0.7777777777777778, \"#fb9f3a\"], [0.8888888888888888, \"#fdca26\"], [1.0, \"#f0f921\"]], \"type\": \"heatmap\"}], \"heatmapgl\": [{\"colorbar\": {\"outlinewidth\": 0, \"ticks\": \"\"}, \"colorscale\": [[0.0, \"#0d0887\"], [0.1111111111111111, \"#46039f\"], [0.2222222222222222, \"#7201a8\"], [0.3333333333333333, \"#9c179e\"], [0.4444444444444444, \"#bd3786\"], [0.5555555555555556, \"#d8576b\"], [0.6666666666666666, \"#ed7953\"], [0.7777777777777778, \"#fb9f3a\"], [0.8888888888888888, \"#fdca26\"], [1.0, \"#f0f921\"]], \"type\": \"heatmapgl\"}], \"histogram\": [{\"marker\": {\"colorbar\": {\"outlinewidth\": 0, \"ticks\": \"\"}}, \"type\": \"histogram\"}], \"histogram2d\": [{\"colorbar\": {\"outlinewidth\": 0, \"ticks\": \"\"}, \"colorscale\": [[0.0, \"#0d0887\"], [0.1111111111111111, \"#46039f\"], [0.2222222222222222, \"#7201a8\"], [0.3333333333333333, \"#9c179e\"], [0.4444444444444444, \"#bd3786\"], [0.5555555555555556, \"#d8576b\"], [0.6666666666666666, \"#ed7953\"], [0.7777777777777778, \"#fb9f3a\"], [0.8888888888888888, \"#fdca26\"], [1.0, \"#f0f921\"]], \"type\": \"histogram2d\"}], \"histogram2dcontour\": [{\"colorbar\": {\"outlinewidth\": 0, \"ticks\": \"\"}, \"colorscale\": [[0.0, \"#0d0887\"], [0.1111111111111111, \"#46039f\"], [0.2222222222222222, \"#7201a8\"], [0.3333333333333333, \"#9c179e\"], [0.4444444444444444, \"#bd3786\"], [0.5555555555555556, \"#d8576b\"], [0.6666666666666666, \"#ed7953\"], [0.7777777777777778, \"#fb9f3a\"], [0.8888888888888888, \"#fdca26\"], [1.0, \"#f0f921\"]], \"type\": \"histogram2dcontour\"}], \"mesh3d\": [{\"colorbar\": {\"outlinewidth\": 0, \"ticks\": \"\"}, \"type\": \"mesh3d\"}], \"parcoords\": [{\"line\": {\"colorbar\": {\"outlinewidth\": 0, \"ticks\": \"\"}}, \"type\": \"parcoords\"}], \"pie\": [{\"automargin\": true, \"type\": \"pie\"}], \"scatter\": [{\"marker\": {\"colorbar\": {\"outlinewidth\": 0, \"ticks\": \"\"}}, \"type\": \"scatter\"}], \"scatter3d\": [{\"line\": {\"colorbar\": {\"outlinewidth\": 0, \"ticks\": \"\"}}, \"marker\": {\"colorbar\": {\"outlinewidth\": 0, \"ticks\": \"\"}}, \"type\": \"scatter3d\"}], \"scattercarpet\": [{\"marker\": {\"colorbar\": {\"outlinewidth\": 0, \"ticks\": \"\"}}, \"type\": \"scattercarpet\"}], \"scattergeo\": [{\"marker\": {\"colorbar\": {\"outlinewidth\": 0, \"ticks\": \"\"}}, \"type\": \"scattergeo\"}], \"scattergl\": [{\"marker\": {\"colorbar\": {\"outlinewidth\": 0, \"ticks\": \"\"}}, \"type\": \"scattergl\"}], \"scattermapbox\": [{\"marker\": {\"colorbar\": {\"outlinewidth\": 0, \"ticks\": \"\"}}, \"type\": \"scattermapbox\"}], \"scatterpolar\": [{\"marker\": {\"colorbar\": {\"outlinewidth\": 0, \"ticks\": \"\"}}, \"type\": \"scatterpolar\"}], \"scatterpolargl\": [{\"marker\": {\"colorbar\": {\"outlinewidth\": 0, \"ticks\": \"\"}}, \"type\": \"scatterpolargl\"}], \"scatterternary\": [{\"marker\": {\"colorbar\": {\"outlinewidth\": 0, \"ticks\": \"\"}}, \"type\": \"scatterternary\"}], \"surface\": [{\"colorbar\": {\"outlinewidth\": 0, \"ticks\": \"\"}, \"colorscale\": [[0.0, \"#0d0887\"], [0.1111111111111111, \"#46039f\"], [0.2222222222222222, \"#7201a8\"], [0.3333333333333333, \"#9c179e\"], [0.4444444444444444, \"#bd3786\"], [0.5555555555555556, \"#d8576b\"], [0.6666666666666666, \"#ed7953\"], [0.7777777777777778, \"#fb9f3a\"], [0.8888888888888888, \"#fdca26\"], [1.0, \"#f0f921\"]], \"type\": \"surface\"}], \"table\": [{\"cells\": {\"fill\": {\"color\": \"#EBF0F8\"}, \"line\": {\"color\": \"white\"}}, \"header\": {\"fill\": {\"color\": \"#C8D4E3\"}, \"line\": {\"color\": \"white\"}}, \"type\": \"table\"}]}, \"layout\": {\"annotationdefaults\": {\"arrowcolor\": \"#2a3f5f\", \"arrowhead\": 0, \"arrowwidth\": 1}, \"coloraxis\": {\"colorbar\": {\"outlinewidth\": 0, \"ticks\": \"\"}}, \"colorscale\": {\"diverging\": [[0, \"#8e0152\"], [0.1, \"#c51b7d\"], [0.2, \"#de77ae\"], [0.3, \"#f1b6da\"], [0.4, \"#fde0ef\"], [0.5, \"#f7f7f7\"], [0.6, \"#e6f5d0\"], [0.7, \"#b8e186\"], [0.8, \"#7fbc41\"], [0.9, \"#4d9221\"], [1, \"#276419\"]], \"sequential\": [[0.0, \"#0d0887\"], [0.1111111111111111, \"#46039f\"], [0.2222222222222222, \"#7201a8\"], [0.3333333333333333, \"#9c179e\"], [0.4444444444444444, \"#bd3786\"], [0.5555555555555556, \"#d8576b\"], [0.6666666666666666, \"#ed7953\"], [0.7777777777777778, \"#fb9f3a\"], [0.8888888888888888, \"#fdca26\"], [1.0, \"#f0f921\"]], \"sequentialminus\": [[0.0, \"#0d0887\"], [0.1111111111111111, \"#46039f\"], [0.2222222222222222, \"#7201a8\"], [0.3333333333333333, \"#9c179e\"], [0.4444444444444444, \"#bd3786\"], [0.5555555555555556, \"#d8576b\"], [0.6666666666666666, \"#ed7953\"], [0.7777777777777778, \"#fb9f3a\"], [0.8888888888888888, \"#fdca26\"], [1.0, \"#f0f921\"]]}, \"colorway\": [\"#636efa\", \"#EF553B\", \"#00cc96\", \"#ab63fa\", \"#FFA15A\", \"#19d3f3\", \"#FF6692\", \"#B6E880\", \"#FF97FF\", \"#FECB52\"], \"font\": {\"color\": \"#2a3f5f\"}, \"geo\": {\"bgcolor\": \"white\", \"lakecolor\": \"white\", \"landcolor\": \"#E5ECF6\", \"showlakes\": true, \"showland\": true, \"subunitcolor\": \"white\"}, \"hoverlabel\": {\"align\": \"left\"}, \"hovermode\": \"closest\", \"mapbox\": {\"style\": \"light\"}, \"paper_bgcolor\": \"white\", \"plot_bgcolor\": \"#E5ECF6\", \"polar\": {\"angularaxis\": {\"gridcolor\": \"white\", \"linecolor\": \"white\", \"ticks\": \"\"}, \"bgcolor\": \"#E5ECF6\", \"radialaxis\": {\"gridcolor\": \"white\", \"linecolor\": \"white\", \"ticks\": \"\"}}, \"scene\": {\"xaxis\": {\"backgroundcolor\": \"#E5ECF6\", \"gridcolor\": \"white\", \"gridwidth\": 2, \"linecolor\": \"white\", \"showbackground\": true, \"ticks\": \"\", \"zerolinecolor\": \"white\"}, \"yaxis\": {\"backgroundcolor\": \"#E5ECF6\", \"gridcolor\": \"white\", \"gridwidth\": 2, \"linecolor\": \"white\", \"showbackground\": true, \"ticks\": \"\", \"zerolinecolor\": \"white\"}, \"zaxis\": {\"backgroundcolor\": \"#E5ECF6\", \"gridcolor\": \"white\", \"gridwidth\": 2, \"linecolor\": \"white\", \"showbackground\": true, \"ticks\": \"\", \"zerolinecolor\": \"white\"}}, \"shapedefaults\": {\"line\": {\"color\": \"#2a3f5f\"}}, \"ternary\": {\"aaxis\": {\"gridcolor\": \"white\", \"linecolor\": \"white\", \"ticks\": \"\"}, \"baxis\": {\"gridcolor\": \"white\", \"linecolor\": \"white\", \"ticks\": \"\"}, \"bgcolor\": \"#E5ECF6\", \"caxis\": {\"gridcolor\": \"white\", \"linecolor\": \"white\", \"ticks\": \"\"}}, \"title\": {\"x\": 0.05}, \"xaxis\": {\"automargin\": true, \"gridcolor\": \"white\", \"linecolor\": \"white\", \"ticks\": \"\", \"title\": {\"standoff\": 15}, \"zerolinecolor\": \"white\", \"zerolinewidth\": 2}, \"yaxis\": {\"automargin\": true, \"gridcolor\": \"white\", \"linecolor\": \"white\", \"ticks\": \"\", \"title\": {\"standoff\": 15}, \"zerolinecolor\": \"white\", \"zerolinewidth\": 2}}}, \"xaxis\": {\"anchor\": \"y\", \"domain\": [0.0, 1.0], \"title\": {\"text\": \"score\"}}, \"yaxis\": {\"anchor\": \"x\", \"domain\": [0.0, 1.0], \"title\": {\"text\": \"count\"}}},\n",
              "                        {\"responsive\": true}\n",
              "                    ).then(function(){\n",
              "                            \n",
              "var gd = document.getElementById('f4c5dd1f-a218-4a20-9323-92946003fd8a');\n",
              "var x = new MutationObserver(function (mutations, observer) {{\n",
              "        var display = window.getComputedStyle(gd).display;\n",
              "        if (!display || display === 'none') {{\n",
              "            console.log([gd, 'removed!']);\n",
              "            Plotly.purge(gd);\n",
              "            observer.disconnect();\n",
              "        }}\n",
              "}});\n",
              "\n",
              "// Listen for the removal of the full notebook cells\n",
              "var notebookContainer = gd.closest('#notebook-container');\n",
              "if (notebookContainer) {{\n",
              "    x.observe(notebookContainer, {childList: true});\n",
              "}}\n",
              "\n",
              "// Listen for the clearing of the current output cell\n",
              "var outputEl = gd.closest('.output');\n",
              "if (outputEl) {{\n",
              "    x.observe(outputEl, {childList: true});\n",
              "}}\n",
              "\n",
              "                        })\n",
              "                };\n",
              "                \n",
              "            </script>\n",
              "        </div>\n",
              "</body>\n",
              "</html>"
            ]
          },
          "metadata": {}
        }
      ]
    },
    {
      "cell_type": "code",
      "metadata": {
        "id": "OZ0YfkIO9g5V"
      },
      "source": [
        "def recommend_tune(df, tune_name):\n",
        "\n",
        "  df_tune = df.query(f\"reference_title == '{tune_name}'\")\n",
        "  ff = df_tune.iloc[:]\n",
        "\n",
        "  # get the maximum similarity score for each section and store in new column\n",
        "  ff['max'] = ff.groupby('ref_section')['score'].transform('max')\n",
        "\n",
        "  # scale the score with the maxmum value of each section\n",
        "  ff['score_div_max'] = ff['score'] / ff['max']\n",
        "\n",
        "  # consider only the top N tunes for each group\n",
        "  ff = ff.sort_values(['ref_section', 'score_div_max'], ascending=[True, False])\n",
        "  result = ff.groupby('ref_section').head(30)\n",
        "  \n",
        "  # if multiple rows from the same similar tune, keep only the similar_title with the highest score_div_max\n",
        "  result = result.groupby('similar_title').max('score_div_max').sort_values('score_div_max', ascending=False)\n",
        "\n",
        "  return result, ff"
      ],
      "execution_count": 746,
      "outputs": []
    },
    {
      "cell_type": "code",
      "metadata": {
        "colab": {
          "base_uri": "https://localhost:8080/",
          "height": 1000
        },
        "id": "ohaxVQ6d9iiD",
        "outputId": "c7a0e54b-bdb7-4e62-e0b8-0b9843cf1829"
      },
      "source": [
        "result, details = recommend_tune(df_sim, 'Blue Moon')\n",
        "result.head(30)"
      ],
      "execution_count": 747,
      "outputs": [
        {
          "output_type": "execute_result",
          "data": {
            "text/html": [
              "<div>\n",
              "<style scoped>\n",
              "    .dataframe tbody tr th:only-of-type {\n",
              "        vertical-align: middle;\n",
              "    }\n",
              "\n",
              "    .dataframe tbody tr th {\n",
              "        vertical-align: top;\n",
              "    }\n",
              "\n",
              "    .dataframe thead th {\n",
              "        text-align: right;\n",
              "    }\n",
              "</style>\n",
              "<table border=\"1\" class=\"dataframe\">\n",
              "  <thead>\n",
              "    <tr style=\"text-align: right;\">\n",
              "      <th></th>\n",
              "      <th>score</th>\n",
              "      <th>max</th>\n",
              "      <th>score_div_max</th>\n",
              "    </tr>\n",
              "    <tr>\n",
              "      <th>similar_title</th>\n",
              "      <th></th>\n",
              "      <th></th>\n",
              "      <th></th>\n",
              "    </tr>\n",
              "  </thead>\n",
              "  <tbody>\n",
              "    <tr>\n",
              "      <th>Things We Did Last Summer, The</th>\n",
              "      <td>0.927634</td>\n",
              "      <td>0.927634</td>\n",
              "      <td>1.000000</td>\n",
              "    </tr>\n",
              "    <tr>\n",
              "      <th>At Last</th>\n",
              "      <td>0.978261</td>\n",
              "      <td>0.978261</td>\n",
              "      <td>1.000000</td>\n",
              "    </tr>\n",
              "    <tr>\n",
              "      <th>Be Careful It's My Heart</th>\n",
              "      <td>0.928477</td>\n",
              "      <td>0.928477</td>\n",
              "      <td>1.000000</td>\n",
              "    </tr>\n",
              "    <tr>\n",
              "      <th>Touch Of Your Lips, The</th>\n",
              "      <td>0.956730</td>\n",
              "      <td>0.978261</td>\n",
              "      <td>0.989706</td>\n",
              "    </tr>\n",
              "    <tr>\n",
              "      <th>Long Ago And Far Away</th>\n",
              "      <td>0.968004</td>\n",
              "      <td>0.978261</td>\n",
              "      <td>0.989515</td>\n",
              "    </tr>\n",
              "    <tr>\n",
              "      <th>Palo Alto</th>\n",
              "      <td>0.914090</td>\n",
              "      <td>0.927634</td>\n",
              "      <td>0.985400</td>\n",
              "    </tr>\n",
              "    <tr>\n",
              "      <th>Speak Low</th>\n",
              "      <td>0.914301</td>\n",
              "      <td>0.928477</td>\n",
              "      <td>0.984732</td>\n",
              "    </tr>\n",
              "    <tr>\n",
              "      <th>Jeepers Creepers</th>\n",
              "      <td>0.956929</td>\n",
              "      <td>0.978261</td>\n",
              "      <td>0.982000</td>\n",
              "    </tr>\n",
              "    <tr>\n",
              "      <th>All God's Chillun Got Rhythm</th>\n",
              "      <td>0.909509</td>\n",
              "      <td>0.927634</td>\n",
              "      <td>0.980461</td>\n",
              "    </tr>\n",
              "    <tr>\n",
              "      <th>Mountain Greenery</th>\n",
              "      <td>0.958373</td>\n",
              "      <td>0.978261</td>\n",
              "      <td>0.979670</td>\n",
              "    </tr>\n",
              "    <tr>\n",
              "      <th>It Could Happen To You</th>\n",
              "      <td>0.908108</td>\n",
              "      <td>0.927634</td>\n",
              "      <td>0.978951</td>\n",
              "    </tr>\n",
              "    <tr>\n",
              "      <th>Try A Little Tenderness</th>\n",
              "      <td>0.908108</td>\n",
              "      <td>0.927634</td>\n",
              "      <td>0.978951</td>\n",
              "    </tr>\n",
              "    <tr>\n",
              "      <th>Teach Me Tonight</th>\n",
              "      <td>0.908025</td>\n",
              "      <td>0.927634</td>\n",
              "      <td>0.978862</td>\n",
              "    </tr>\n",
              "    <tr>\n",
              "      <th>Shoe Shine Boy</th>\n",
              "      <td>0.904662</td>\n",
              "      <td>0.927634</td>\n",
              "      <td>0.975237</td>\n",
              "    </tr>\n",
              "    <tr>\n",
              "      <th>Beyond The Sea</th>\n",
              "      <td>0.953015</td>\n",
              "      <td>0.978261</td>\n",
              "      <td>0.974193</td>\n",
              "    </tr>\n",
              "    <tr>\n",
              "      <th>Don't Be That Way</th>\n",
              "      <td>0.951734</td>\n",
              "      <td>0.978261</td>\n",
              "      <td>0.972883</td>\n",
              "    </tr>\n",
              "    <tr>\n",
              "      <th>Heart And Soul</th>\n",
              "      <td>0.951587</td>\n",
              "      <td>0.978261</td>\n",
              "      <td>0.972734</td>\n",
              "    </tr>\n",
              "    <tr>\n",
              "      <th>Over The Rainbow (Somewhere)</th>\n",
              "      <td>0.950856</td>\n",
              "      <td>0.978261</td>\n",
              "      <td>0.971986</td>\n",
              "    </tr>\n",
              "    <tr>\n",
              "      <th>I Like The Likes Of You</th>\n",
              "      <td>0.949716</td>\n",
              "      <td>0.978261</td>\n",
              "      <td>0.970821</td>\n",
              "    </tr>\n",
              "    <tr>\n",
              "      <th>Time After Time</th>\n",
              "      <td>0.900284</td>\n",
              "      <td>0.927634</td>\n",
              "      <td>0.970517</td>\n",
              "    </tr>\n",
              "    <tr>\n",
              "      <th>I've Heard That Song Before</th>\n",
              "      <td>0.900500</td>\n",
              "      <td>0.928477</td>\n",
              "      <td>0.969869</td>\n",
              "    </tr>\n",
              "    <tr>\n",
              "      <th>Let's Fall In Love</th>\n",
              "      <td>0.948644</td>\n",
              "      <td>0.978261</td>\n",
              "      <td>0.969725</td>\n",
              "    </tr>\n",
              "    <tr>\n",
              "      <th>Way You Look Tonight, The</th>\n",
              "      <td>0.947373</td>\n",
              "      <td>0.978261</td>\n",
              "      <td>0.968426</td>\n",
              "    </tr>\n",
              "    <tr>\n",
              "      <th>Miss Otis Regrets</th>\n",
              "      <td>0.897864</td>\n",
              "      <td>0.927634</td>\n",
              "      <td>0.967908</td>\n",
              "    </tr>\n",
              "    <tr>\n",
              "      <th>Too Young To Go Steady</th>\n",
              "      <td>0.897382</td>\n",
              "      <td>0.927634</td>\n",
              "      <td>0.967388</td>\n",
              "    </tr>\n",
              "    <tr>\n",
              "      <th>All Through The Day</th>\n",
              "      <td>0.896552</td>\n",
              "      <td>0.928477</td>\n",
              "      <td>0.965616</td>\n",
              "    </tr>\n",
              "    <tr>\n",
              "      <th>Young At Heart</th>\n",
              "      <td>0.895608</td>\n",
              "      <td>0.927634</td>\n",
              "      <td>0.965476</td>\n",
              "    </tr>\n",
              "    <tr>\n",
              "      <th>Party's Over, The</th>\n",
              "      <td>0.895286</td>\n",
              "      <td>0.927634</td>\n",
              "      <td>0.965129</td>\n",
              "    </tr>\n",
              "    <tr>\n",
              "      <th>I've Got You Under My Skin</th>\n",
              "      <td>0.895171</td>\n",
              "      <td>0.927634</td>\n",
              "      <td>0.965005</td>\n",
              "    </tr>\n",
              "    <tr>\n",
              "      <th>Moonlight In Vermont</th>\n",
              "      <td>0.943042</td>\n",
              "      <td>0.978261</td>\n",
              "      <td>0.963998</td>\n",
              "    </tr>\n",
              "  </tbody>\n",
              "</table>\n",
              "</div>"
            ],
            "text/plain": [
              "                                   score       max  score_div_max\n",
              "similar_title                                                    \n",
              "Things We Did Last Summer, The  0.927634  0.927634       1.000000\n",
              "At Last                         0.978261  0.978261       1.000000\n",
              "Be Careful It's My Heart        0.928477  0.928477       1.000000\n",
              "Touch Of Your Lips, The         0.956730  0.978261       0.989706\n",
              "Long Ago And Far Away           0.968004  0.978261       0.989515\n",
              "Palo Alto                       0.914090  0.927634       0.985400\n",
              "Speak Low                       0.914301  0.928477       0.984732\n",
              "Jeepers Creepers                0.956929  0.978261       0.982000\n",
              "All God's Chillun Got Rhythm    0.909509  0.927634       0.980461\n",
              "Mountain Greenery               0.958373  0.978261       0.979670\n",
              "It Could Happen To You          0.908108  0.927634       0.978951\n",
              "Try A Little Tenderness         0.908108  0.927634       0.978951\n",
              "Teach Me Tonight                0.908025  0.927634       0.978862\n",
              "Shoe Shine Boy                  0.904662  0.927634       0.975237\n",
              "Beyond The Sea                  0.953015  0.978261       0.974193\n",
              "Don't Be That Way               0.951734  0.978261       0.972883\n",
              "Heart And Soul                  0.951587  0.978261       0.972734\n",
              "Over The Rainbow (Somewhere)    0.950856  0.978261       0.971986\n",
              "I Like The Likes Of You         0.949716  0.978261       0.970821\n",
              "Time After Time                 0.900284  0.927634       0.970517\n",
              "I've Heard That Song Before     0.900500  0.928477       0.969869\n",
              "Let's Fall In Love              0.948644  0.978261       0.969725\n",
              "Way You Look Tonight, The       0.947373  0.978261       0.968426\n",
              "Miss Otis Regrets               0.897864  0.927634       0.967908\n",
              "Too Young To Go Steady          0.897382  0.927634       0.967388\n",
              "All Through The Day             0.896552  0.928477       0.965616\n",
              "Young At Heart                  0.895608  0.927634       0.965476\n",
              "Party's Over, The               0.895286  0.927634       0.965129\n",
              "I've Got You Under My Skin      0.895171  0.927634       0.965005\n",
              "Moonlight In Vermont            0.943042  0.978261       0.963998"
            ]
          },
          "metadata": {},
          "execution_count": 747
        }
      ]
    },
    {
      "cell_type": "code",
      "metadata": {
        "colab": {
          "base_uri": "https://localhost:8080/",
          "height": 49
        },
        "id": "FwjwvgO9-B5G",
        "outputId": "68ab1fc1-82b4-448b-894a-83e8124d9cfc"
      },
      "source": [
        "details.query('ref_section == \"These Foolish Things, section3 (B)\"').head(10)"
      ],
      "execution_count": 748,
      "outputs": [
        {
          "output_type": "execute_result",
          "data": {
            "text/html": [
              "<div>\n",
              "<style scoped>\n",
              "    .dataframe tbody tr th:only-of-type {\n",
              "        vertical-align: middle;\n",
              "    }\n",
              "\n",
              "    .dataframe tbody tr th {\n",
              "        vertical-align: top;\n",
              "    }\n",
              "\n",
              "    .dataframe thead th {\n",
              "        text-align: right;\n",
              "    }\n",
              "</style>\n",
              "<table border=\"1\" class=\"dataframe\">\n",
              "  <thead>\n",
              "    <tr style=\"text-align: right;\">\n",
              "      <th></th>\n",
              "      <th>reference_title</th>\n",
              "      <th>similar_title</th>\n",
              "      <th>ref_section</th>\n",
              "      <th>similar_section</th>\n",
              "      <th>score</th>\n",
              "      <th>max</th>\n",
              "      <th>score_div_max</th>\n",
              "    </tr>\n",
              "  </thead>\n",
              "  <tbody>\n",
              "  </tbody>\n",
              "</table>\n",
              "</div>"
            ],
            "text/plain": [
              "Empty DataFrame\n",
              "Columns: [reference_title, similar_title, ref_section, similar_section, score, max, score_div_max]\n",
              "Index: []"
            ]
          },
          "metadata": {},
          "execution_count": 748
        }
      ]
    },
    {
      "cell_type": "code",
      "metadata": {
        "id": "WJ6HEmJv-Upe"
      },
      "source": [
        ""
      ],
      "execution_count": 748,
      "outputs": []
    },
    {
      "cell_type": "markdown",
      "metadata": {
        "id": "99xHBRsd--OB"
      },
      "source": [
        "# SVD based LSI"
      ]
    },
    {
      "cell_type": "code",
      "metadata": {
        "id": "adsW9Uh9_JXs"
      },
      "source": [
        "from gensim import corpora, models, similarities\n",
        "from collections import defaultdict"
      ],
      "execution_count": 749,
      "outputs": []
    },
    {
      "cell_type": "code",
      "metadata": {
        "colab": {
          "base_uri": "https://localhost:8080/"
        },
        "id": "s3AJZGRD_IHW",
        "outputId": "b278cc0b-333b-4ec6-d3fb-79af39c4b510"
      },
      "source": [
        "frequency = defaultdict(int)\n",
        "for text in processed_corpus:\n",
        "    for token in text:\n",
        "        frequency[token] += 1\n",
        "\n",
        "data_ngrams = [[token for token in text if frequency[token] > 1] for text in processed_corpus]\n",
        "dictionary = corpora.Dictionary(data_ngrams)\n",
        "\n",
        "# doc2bow counts the number of occurences of each distinct word,\n",
        "# converts the word to its integer word id and returns the result\n",
        "# as a sparse vector\n",
        "\n",
        "bow_corpus = [dictionary.doc2bow(text) for text in data_ngrams]\n",
        "lsi = models.LsiModel(bow_corpus, id2word=dictionary, num_topics=200)  # num_topics can be maximum the size of the number of unique tokens"
      ],
      "execution_count": 750,
      "outputs": [
        {
          "output_type": "stream",
          "name": "stderr",
          "text": [
            "2021-11-19 21:59:14,476 : INFO : adding document #0 to Dictionary(0 unique tokens: [])\n",
            "2021-11-19 21:59:14,613 : INFO : built Dictionary(72 unique tokens: ['Am', 'B7', 'C', 'C#', 'C7']...) from 5403 documents (total 82790 corpus positions)\n",
            "2021-11-19 21:59:14,617 : INFO : Dictionary lifecycle event {'msg': \"built Dictionary(72 unique tokens: ['Am', 'B7', 'C', 'C#', 'C7']...) from 5403 documents (total 82790 corpus positions)\", 'datetime': '2021-11-19T21:59:14.617892', 'gensim': '4.1.2', 'python': '3.7.12 (default, Sep 10 2021, 00:21:48) \\n[GCC 7.5.0]', 'platform': 'Linux-5.4.104+-x86_64-with-Ubuntu-18.04-bionic', 'event': 'created'}\n",
            "2021-11-19 21:59:14,683 : INFO : using serial LSI version on this node\n",
            "2021-11-19 21:59:14,686 : INFO : updating model with new documents\n",
            "2021-11-19 21:59:14,690 : INFO : preparing a new chunk of documents\n",
            "2021-11-19 21:59:14,724 : INFO : using 100 extra samples and 2 power iterations\n",
            "2021-11-19 21:59:14,727 : INFO : 1st phase: constructing (72, 300) action matrix\n",
            "2021-11-19 21:59:14,838 : INFO : orthonormalizing (72, 300) action matrix\n",
            "2021-11-19 21:59:14,870 : INFO : 2nd phase: running dense svd on (72, 5403) matrix\n",
            "2021-11-19 21:59:14,929 : INFO : computing the final decomposition\n",
            "2021-11-19 21:59:14,932 : INFO : keeping 72 factors (discarding 0.000% of energy spectrum)\n",
            "2021-11-19 21:59:14,940 : INFO : processed documents up to #5403\n",
            "2021-11-19 21:59:14,943 : INFO : topic #0(398.382): 0.714*\"C\" + 0.508*\"G7\" + 0.286*\"Dm\" + 0.176*\"D7\" + 0.168*\"A7\" + 0.160*\"F\" + 0.151*\"Am\" + 0.115*\"C7\" + 0.093*\"E7\" + 0.080*\"Em\"\n",
            "2021-11-19 21:59:14,947 : INFO : topic #1(168.906): 0.785*\"Am\" + -0.375*\"C\" + 0.342*\"E7\" + 0.259*\"Dm\" + 0.113*\"Bm7b5\" + 0.094*\"Em\" + 0.085*\"A7\" + 0.079*\"D7\" + 0.070*\"F7\" + 0.065*\"B7\"\n",
            "2021-11-19 21:59:14,952 : INFO : topic #2(130.100): 0.652*\"Dm\" + -0.355*\"Am\" + -0.352*\"C\" + 0.272*\"A7\" + 0.265*\"G7\" + -0.241*\"F\" + 0.230*\"Em\" + -0.174*\"E7\" + -0.139*\"D7\" + -0.066*\"G\"\n",
            "2021-11-19 21:59:14,954 : INFO : topic #3(113.679): 0.725*\"C7\" + -0.340*\"C\" + 0.301*\"D7\" + 0.270*\"G7\" + -0.246*\"Dm\" + 0.219*\"F\" + -0.179*\"Am\" + 0.130*\"F7\" + 0.102*\"Gm\" + 0.093*\"Bb7\"\n",
            "2021-11-19 21:59:14,958 : INFO : topic #4(104.415): -0.581*\"D7\" + 0.409*\"C7\" + 0.361*\"F\" + -0.303*\"G7\" + -0.289*\"A7\" + 0.285*\"Dm\" + -0.164*\"E7\" + 0.140*\"Em\" + 0.137*\"C\" + 0.113*\"Gm\"\n",
            "2021-11-19 21:59:14,961 : INFO : LsiModel lifecycle event {'msg': 'trained LsiModel(num_terms=72, num_topics=200, decay=1.0, chunksize=20000) in 0.28s', 'datetime': '2021-11-19T21:59:14.961757', 'gensim': '4.1.2', 'python': '3.7.12 (default, Sep 10 2021, 00:21:48) \\n[GCC 7.5.0]', 'platform': 'Linux-5.4.104+-x86_64-with-Ubuntu-18.04-bionic', 'event': 'created'}\n"
          ]
        }
      ]
    },
    {
      "cell_type": "code",
      "metadata": {
        "colab": {
          "base_uri": "https://localhost:8080/"
        },
        "id": "EvxSQFfBBNMJ",
        "outputId": "3e856980-bc35-4002-c3af-48b83ebae61d"
      },
      "source": [
        "index_lsi = similarities.Similarity('/content/index/index_lsi', bow_corpus, num_features=len(dictionary))"
      ],
      "execution_count": 751,
      "outputs": [
        {
          "output_type": "stream",
          "name": "stderr",
          "text": [
            "2021-11-19 21:59:14,974 : INFO : starting similarity index under /content/index/index_lsi\n"
          ]
        }
      ]
    },
    {
      "cell_type": "markdown",
      "metadata": {
        "id": "pDxTCAGv9MmZ"
      },
      "source": [
        "### Test for single tunes"
      ]
    },
    {
      "cell_type": "code",
      "metadata": {
        "colab": {
          "base_uri": "https://localhost:8080/"
        },
        "id": "khASSJ1eEuf5",
        "outputId": "2811a936-f9eb-470a-b143-7c57b0a67536"
      },
      "source": [
        "%%time\n",
        "df_sim = get_sim_scores(tunes_eval_list, index_lsi)"
      ],
      "execution_count": 752,
      "outputs": [
        {
          "output_type": "stream",
          "name": "stderr",
          "text": [
            "2021-11-19 21:59:16,493 : INFO : creating sparse index\n",
            "2021-11-19 21:59:16,494 : INFO : creating sparse matrix from corpus\n",
            "2021-11-19 21:59:16,496 : INFO : PROGRESS: at document #0/5403\n",
            "2021-11-19 21:59:16,667 : INFO : created <5403x72 sparse matrix of type '<class 'numpy.float32'>'\n",
            "\twith 41308 stored elements in Compressed Sparse Row format>\n",
            "2021-11-19 21:59:16,670 : INFO : creating sparse shard #0\n",
            "2021-11-19 21:59:16,672 : INFO : saving index shard to /content/index/index_lsi.0\n",
            "2021-11-19 21:59:16,675 : INFO : SparseMatrixSimilarity lifecycle event {'fname_or_handle': '/content/index/index_lsi.0', 'separately': 'None', 'sep_limit': 10485760, 'ignore': frozenset(), 'datetime': '2021-11-19T21:59:16.675315', 'gensim': '4.1.2', 'python': '3.7.12 (default, Sep 10 2021, 00:21:48) \\n[GCC 7.5.0]', 'platform': 'Linux-5.4.104+-x86_64-with-Ubuntu-18.04-bionic', 'event': 'saving'}\n",
            "2021-11-19 21:59:16,679 : INFO : saved /content/index/index_lsi.0\n",
            "2021-11-19 21:59:16,681 : INFO : loading SparseMatrixSimilarity object from /content/index/index_lsi.0\n",
            "2021-11-19 21:59:16,684 : INFO : SparseMatrixSimilarity lifecycle event {'fname': '/content/index/index_lsi.0', 'datetime': '2021-11-19T21:59:16.684644', 'gensim': '4.1.2', 'python': '3.7.12 (default, Sep 10 2021, 00:21:48) \\n[GCC 7.5.0]', 'platform': 'Linux-5.4.104+-x86_64-with-Ubuntu-18.04-bionic', 'event': 'loaded'}\n"
          ]
        },
        {
          "output_type": "stream",
          "name": "stdout",
          "text": [
            "\n",
            "--------------------------------------------------\n",
            "3752 Sweet Sue, Just You, section1 (A)\n",
            "3753 Sweet Sue, Just You, section2 (A)\n",
            "3754 Sweet Sue, Just You, section3 (B)\n",
            "3755 Sweet Sue, Just You, section4 (A)\n",
            "\n",
            "--------------------------------------------------\n",
            "3866 These Foolish Things, section1 (A)\n",
            "3867 These Foolish Things, section2 (A)\n",
            "3868 These Foolish Things, section3 (B)\n",
            "3869 These Foolish Things, section4 (A)\n",
            "\n",
            "--------------------------------------------------\n",
            "496 Blue Moon, section1 (A)\n",
            "497 Blue Moon, section2 (A)\n",
            "498 Blue Moon, section3 (B)\n",
            "499 Blue Moon, section4 (A)\n",
            "\n",
            "--------------------------------------------------\n",
            "198 All Of Me, section1 (A)\n",
            "199 All Of Me, section2 (B)\n",
            "200 All Of Me, section3 (A)\n",
            "201 All Of Me, section4 (C)\n",
            "\n",
            "--------------------------------------------------\n",
            "188 All God's Chillun Got Rhythm, section1 (A)\n",
            "189 All God's Chillun Got Rhythm, section2 (B)\n",
            "190 All God's Chillun Got Rhythm, section3 (A)\n",
            "191 All God's Chillun Got Rhythm, section4 (C)\n",
            "\n",
            "--------------------------------------------------\n",
            "1647 I Got Rhythm, section1 (A)\n",
            "1648 I Got Rhythm, section2 (A)\n",
            "1649 I Got Rhythm, section3 (B)\n",
            "1650 I Got Rhythm, section4 (A)\n",
            "4821 I Got Rhythm, section1 (A)\n",
            "4822 I Got Rhythm, section2 (A)\n",
            "4823 I Got Rhythm, section3 (B)\n",
            "4824 I Got Rhythm, section4 (A)\n",
            "\n",
            "--------------------------------------------------\n",
            "653 Bye Bye Blackbird, section1 (A)\n",
            "654 Bye Bye Blackbird, section2 (B)\n",
            "4569 Bye Bye Blackbird, section1 (A)\n",
            "4570 Bye Bye Blackbird, section2 (B)\n",
            "4571 Bye Bye Blackbird, section3 (C)\n",
            "\n",
            "--------------------------------------------------\n",
            "5056 Old Fashioned Love, section0 (nan)\n",
            "\n",
            "--------------------------------------------------\n",
            "997 Dinah, section1 (A)\n",
            "998 Dinah, section2 (A)\n",
            "999 Dinah, section3 (B)\n",
            "1000 Dinah, section4 (A)\n",
            "\n",
            "--------------------------------------------------\n",
            "1538 Honeysuckle Rose, section1 (A)\n",
            "1539 Honeysuckle Rose, section2 (A)\n",
            "1540 Honeysuckle Rose, section3 (B)\n",
            "1541 Honeysuckle Rose, section4 (A)\n",
            "4793 Honeysuckle Rose, section1 (A)\n",
            "4794 Honeysuckle Rose, section2 (A)\n",
            "4795 Honeysuckle Rose, section3 (B)\n",
            "4796 Honeysuckle Rose, section4 (A)\n",
            "\n",
            "--------------------------------------------------\n",
            "2676 Misty, section1 (A)\n",
            "2677 Misty, section2 (A)\n",
            "2678 Misty, section3 (B)\n",
            "2679 Misty, section4 (A)\n",
            "CPU times: user 9.35 s, sys: 387 ms, total: 9.74 s\n",
            "Wall time: 9.25 s\n"
          ]
        }
      ]
    },
    {
      "cell_type": "code",
      "metadata": {
        "colab": {
          "base_uri": "https://localhost:8080/",
          "height": 424
        },
        "id": "FL1pBuor_YDw",
        "outputId": "fd2074ae-1760-47e0-91ca-5c3b8440fd31"
      },
      "source": [
        "df_sim"
      ],
      "execution_count": 753,
      "outputs": [
        {
          "output_type": "execute_result",
          "data": {
            "text/html": [
              "<div>\n",
              "<style scoped>\n",
              "    .dataframe tbody tr th:only-of-type {\n",
              "        vertical-align: middle;\n",
              "    }\n",
              "\n",
              "    .dataframe tbody tr th {\n",
              "        vertical-align: top;\n",
              "    }\n",
              "\n",
              "    .dataframe thead th {\n",
              "        text-align: right;\n",
              "    }\n",
              "</style>\n",
              "<table border=\"1\" class=\"dataframe\">\n",
              "  <thead>\n",
              "    <tr style=\"text-align: right;\">\n",
              "      <th></th>\n",
              "      <th>reference_title</th>\n",
              "      <th>similar_title</th>\n",
              "      <th>ref_section</th>\n",
              "      <th>similar_section</th>\n",
              "      <th>score</th>\n",
              "    </tr>\n",
              "  </thead>\n",
              "  <tbody>\n",
              "    <tr>\n",
              "      <th>0</th>\n",
              "      <td>Sweet Sue, Just You</td>\n",
              "      <td>A Certain Smile</td>\n",
              "      <td>Sweet Sue, Just You, section1 (A)</td>\n",
              "      <td>A Certain Smile, section1 (A)</td>\n",
              "      <td>1.000000</td>\n",
              "    </tr>\n",
              "    <tr>\n",
              "      <th>1</th>\n",
              "      <td>Sweet Sue, Just You</td>\n",
              "      <td>A Certain Smile</td>\n",
              "      <td>Sweet Sue, Just You, section1 (A)</td>\n",
              "      <td>A Certain Smile, section3 (A)</td>\n",
              "      <td>1.000000</td>\n",
              "    </tr>\n",
              "    <tr>\n",
              "      <th>2</th>\n",
              "      <td>Sweet Sue, Just You</td>\n",
              "      <td>Brazil (Aquarela Do Brasil)</td>\n",
              "      <td>Sweet Sue, Just You, section1 (A)</td>\n",
              "      <td>Brazil (Aquarela Do Brasil), section5 (D)</td>\n",
              "      <td>1.000000</td>\n",
              "    </tr>\n",
              "    <tr>\n",
              "      <th>3</th>\n",
              "      <td>Sweet Sue, Just You</td>\n",
              "      <td>Little Girl Blue</td>\n",
              "      <td>Sweet Sue, Just You, section1 (A)</td>\n",
              "      <td>Little Girl Blue, section1 (verse)</td>\n",
              "      <td>1.000000</td>\n",
              "    </tr>\n",
              "    <tr>\n",
              "      <th>4</th>\n",
              "      <td>Sweet Sue, Just You</td>\n",
              "      <td>Mimi</td>\n",
              "      <td>Sweet Sue, Just You, section1 (A)</td>\n",
              "      <td>Mimi, section1 (A)</td>\n",
              "      <td>1.000000</td>\n",
              "    </tr>\n",
              "    <tr>\n",
              "      <th>...</th>\n",
              "      <td>...</td>\n",
              "      <td>...</td>\n",
              "      <td>...</td>\n",
              "      <td>...</td>\n",
              "      <td>...</td>\n",
              "    </tr>\n",
              "    <tr>\n",
              "      <th>2045</th>\n",
              "      <td>Misty</td>\n",
              "      <td>Chicken</td>\n",
              "      <td>Misty, section4 (A)</td>\n",
              "      <td>Chicken, section2 (A)</td>\n",
              "      <td>0.919183</td>\n",
              "    </tr>\n",
              "    <tr>\n",
              "      <th>2046</th>\n",
              "      <td>Misty</td>\n",
              "      <td>Time After Time</td>\n",
              "      <td>Misty, section4 (A)</td>\n",
              "      <td>Time After Time, section2 (B)</td>\n",
              "      <td>0.918715</td>\n",
              "    </tr>\n",
              "    <tr>\n",
              "      <th>2047</th>\n",
              "      <td>Misty</td>\n",
              "      <td>Could It Be You</td>\n",
              "      <td>Misty, section4 (A)</td>\n",
              "      <td>Could It Be You, section2 (A)</td>\n",
              "      <td>0.917067</td>\n",
              "    </tr>\n",
              "    <tr>\n",
              "      <th>2048</th>\n",
              "      <td>Misty</td>\n",
              "      <td>Glory Of Love, The</td>\n",
              "      <td>Misty, section4 (A)</td>\n",
              "      <td>Glory Of Love, The, section4 (A)</td>\n",
              "      <td>0.916380</td>\n",
              "    </tr>\n",
              "    <tr>\n",
              "      <th>2049</th>\n",
              "      <td>Misty</td>\n",
              "      <td>S'posin'</td>\n",
              "      <td>Misty, section4 (A)</td>\n",
              "      <td>S'posin', section3 (A)</td>\n",
              "      <td>0.915249</td>\n",
              "    </tr>\n",
              "  </tbody>\n",
              "</table>\n",
              "<p>2050 rows × 5 columns</p>\n",
              "</div>"
            ],
            "text/plain": [
              "          reference_title  ...     score\n",
              "0     Sweet Sue, Just You  ...  1.000000\n",
              "1     Sweet Sue, Just You  ...  1.000000\n",
              "2     Sweet Sue, Just You  ...  1.000000\n",
              "3     Sweet Sue, Just You  ...  1.000000\n",
              "4     Sweet Sue, Just You  ...  1.000000\n",
              "...                   ...  ...       ...\n",
              "2045                Misty  ...  0.919183\n",
              "2046                Misty  ...  0.918715\n",
              "2047                Misty  ...  0.917067\n",
              "2048                Misty  ...  0.916380\n",
              "2049                Misty  ...  0.915249\n",
              "\n",
              "[2050 rows x 5 columns]"
            ]
          },
          "metadata": {},
          "execution_count": 753
        }
      ]
    },
    {
      "cell_type": "code",
      "metadata": {
        "colab": {
          "base_uri": "https://localhost:8080/",
          "height": 542
        },
        "id": "X31lkvUsDAsU",
        "outputId": "8aed0d68-8d6f-414d-e8be-d1883180935d"
      },
      "source": [
        "import plotly.express as px\n",
        "fig = px.histogram(df_sim, x=\"score\", nbins=50)\n",
        "fig.show()"
      ],
      "execution_count": 754,
      "outputs": [
        {
          "output_type": "display_data",
          "data": {
            "text/html": [
              "<html>\n",
              "<head><meta charset=\"utf-8\" /></head>\n",
              "<body>\n",
              "    <div>\n",
              "            <script src=\"https://cdnjs.cloudflare.com/ajax/libs/mathjax/2.7.5/MathJax.js?config=TeX-AMS-MML_SVG\"></script><script type=\"text/javascript\">if (window.MathJax) {MathJax.Hub.Config({SVG: {font: \"STIX-Web\"}});}</script>\n",
              "                <script type=\"text/javascript\">window.PlotlyConfig = {MathJaxConfig: 'local'};</script>\n",
              "        <script src=\"https://cdn.plot.ly/plotly-latest.min.js\"></script>    \n",
              "            <div id=\"7c4fdbd5-795a-43d7-96a5-94ce20a1abb9\" class=\"plotly-graph-div\" style=\"height:525px; width:100%;\"></div>\n",
              "            <script type=\"text/javascript\">\n",
              "                \n",
              "                    window.PLOTLYENV=window.PLOTLYENV || {};\n",
              "                    \n",
              "                if (document.getElementById(\"7c4fdbd5-795a-43d7-96a5-94ce20a1abb9\")) {\n",
              "                    Plotly.newPlot(\n",
              "                        '7c4fdbd5-795a-43d7-96a5-94ce20a1abb9',\n",
              "                        [{\"alignmentgroup\": \"True\", \"bingroup\": \"x\", \"hoverlabel\": {\"namelength\": 0}, \"hovertemplate\": \"score=%{x}<br>count=%{y}\", \"legendgroup\": \"\", \"marker\": {\"color\": \"#636efa\"}, \"name\": \"\", \"nbinsx\": 50, \"offsetgroup\": \"\", \"orientation\": \"v\", \"showlegend\": false, \"type\": \"histogram\", \"x\": [1.0, 1.0, 1.0, 1.0, 1.0, 1.0, 1.0, 1.0, 1.0, 1.0, 1.0, 1.0, 1.0, 1.0, 1.0, 1.0, 0.9960238337516785, 0.991836667060852, 0.991836667060852, 0.9855274558067322, 0.9855274558067322, 0.9855274558067322, 0.9855274558067322, 0.9855274558067322, 0.9855274558067322, 0.9855274558067322, 0.9855274558067322, 0.9847319722175598, 0.9847319722175598, 0.9847319722175598, 0.9841197729110718, 0.9829464554786682, 0.980580747127533, 0.9801960587501526, 0.9799578189849854, 0.9797959327697754, 0.9771398305892944, 0.9771398305892944, 0.9737290740013123, 0.9737290740013123, 0.9737290143966675, 1.0, 1.0, 1.0, 1.0, 1.0, 1.0, 1.0, 1.0, 1.0, 1.0, 1.0, 1.0, 1.0, 1.0, 1.0, 1.0, 0.9960238337516785, 0.991836667060852, 0.991836667060852, 0.9855274558067322, 0.9855274558067322, 0.9855274558067322, 0.9855274558067322, 0.9855274558067322, 0.9855274558067322, 0.9855274558067322, 0.9855274558067322, 0.9847319722175598, 0.9847319722175598, 0.9847319722175598, 0.9841197729110718, 0.9829464554786682, 0.980580747127533, 0.9801960587501526, 0.9799578189849854, 0.9797959327697754, 0.9771398305892944, 0.9771398305892944, 0.9737290740013123, 0.9737290740013123, 0.9737290143966675, 0.9128708243370056, 0.8406727910041809, 0.8333333134651184, 0.8333333134651184, 0.8198915719985962, 0.8179128766059875, 0.8164966106414795, 0.8017837405204773, 0.8017837405204773, 0.8006407022476196, 0.794719398021698, 0.7938565611839294, 0.7925938963890076, 0.7905694246292114, 0.7879670262336731, 0.7825080156326294, 0.7825080156326294, 0.7825079560279846, 0.7777777314186096, 0.774596631526947, 0.774596631526947, 0.774596631526947, 0.7715166807174683, 0.766032338142395, 0.7637625932693481, 0.7593263983726501, 0.7593263387680054, 0.7505553364753723, 0.7505553364753723, 0.7504786849021912, 0.7499999403953552, 0.7499999403953552, 0.7499999403953552, 0.7499999403953552, 0.7499998807907104, 0.7499998807907104, 0.7492685914039612, 0.7469136714935303, 0.7426106333732605, 0.7395739555358887, 0.7385489344596863, 1.0, 1.0, 1.0, 1.0, 1.0, 1.0, 1.0, 1.0, 1.0, 1.0, 1.0, 1.0, 1.0, 1.0, 1.0, 1.0, 0.9960238337516785, 0.991836667060852, 0.991836667060852, 0.9855274558067322, 0.9855274558067322, 0.9855274558067322, 0.9855274558067322, 0.9855274558067322, 0.9855274558067322, 0.9855274558067322, 0.9855274558067322, 0.9847319722175598, 0.9847319722175598, 0.9847319722175598, 0.9841197729110718, 0.9829464554786682, 0.980580747127533, 0.9801960587501526, 0.9799578189849854, 0.9797959327697754, 0.9771398305892944, 0.9771398305892944, 0.9737290740013123, 0.9737290740013123, 0.9737290143966675, 0.9546687006950378, 0.9525008797645569, 0.9525008797645569, 0.9519715309143066, 0.9519715309143066, 0.9422228336334229, 0.9354143142700195, 0.9274260401725769, 0.9268550872802734, 0.9263021349906921, 0.9263020157814026, 0.9258200526237488, 0.9228394627571106, 0.9207508563995361, 0.9207508563995361, 0.9207368493080139, 0.919238805770874, 0.919238805770874, 0.9191450476646423, 0.9191450476646423, 0.9187104105949402, 0.9181762933731079, 0.9176629185676575, 0.916666567325592, 0.916578471660614, 0.916578471660614, 0.9149913787841797, 0.9148908257484436, 0.9141378998756409, 0.9139076471328735, 0.9133461713790894, 0.9133461713790894, 0.9133461713790894, 0.9133461713790894, 0.9128708839416504, 0.9128708839416504, 0.912495493888855, 0.9120291471481323, 0.9095085263252258, 0.909508466720581, 0.909508466720581, 0.9723056554794312, 0.9548637270927429, 0.9548637270927429, 0.921954333782196, 0.9117647409439087, 0.9115637540817261, 0.9115046262741089, 0.9109355807304382, 0.9106417298316956, 0.9106417298316956, 0.9101821184158325, 0.9101820588111877, 0.910181999206543, 0.9095085263252258, 0.9081082344055176, 0.9074852466583252, 0.9068695902824402, 0.9068695902824402, 0.9049357771873474, 0.9049034714698792, 0.9038768410682678, 0.8997353315353394, 0.8991814851760864, 0.8990275263786316, 0.8986450433731079, 0.8986449837684631, 0.8981249928474426, 0.8978642821311951, 0.897364616394043, 0.8958086967468262, 0.8956220149993896, 0.8951712846755981, 0.8948380947113037, 0.8938431739807129, 0.8934147357940674, 0.8932596445083618, 0.8932596445083618, 0.893259584903717, 0.8930885195732117, 0.8930884599685669, 0.8926784992218018, 0.9165152311325073, 0.8954430818557739, 0.8954430818557739, 0.8759956955909729, 0.8246210813522339, 0.8164966106414795, 0.8082903623580933, 0.803326427936554, 0.800000011920929, 0.800000011920929, 0.7923547029495239, 0.7902633547782898, 0.7855844497680664, 0.7855844497680664, 0.7794228792190552, 0.7786628007888794, 0.77781742811203, 0.7765802145004272, 0.7761139869689941, 0.7745966911315918, 0.7724716067314148, 0.771516740322113, 0.7666981816291809, 0.7666981220245361, 0.7615773677825928, 0.7602631449699402, 0.7602631449699402, 0.7559289336204529, 0.7543423175811768, 0.75424724817276, 0.7521398663520813, 0.7500000596046448, 0.7500000596046448, 0.7500000596046448, 0.7483314871788025, 0.7483314871788025, 0.7483314871788025, 0.7462185621261597, 0.742781400680542, 0.742462158203125, 0.742462158203125, 0.9747546911239624, 0.9747546911239624, 0.9667962789535522, 0.9587093591690063, 0.9518172740936279, 0.9518172740936279, 0.9509797096252441, 0.9496715664863586, 0.9476781487464905, 0.9437015056610107, 0.9428712725639343, 0.9428473114967346, 0.942082405090332, 0.9416364431381226, 0.9401746988296509, 0.9364182353019714, 0.934685230255127, 0.9341987371444702, 0.9337221384048462, 0.9328736066818237, 0.9322980046272278, 0.9320952892303467, 0.9318181872367859, 0.9318181872367859, 0.9318181872367859, 0.9312905073165894, 0.9307578802108765, 0.9307578802108765, 0.9304842352867126, 0.9304841756820679, 0.9303739070892334, 0.9303739070892334, 0.9296599626541138, 0.9296599626541138, 0.9296599626541138, 0.9296599626541138, 0.9288407564163208, 0.9288407564163208, 0.928032398223877, 0.9277310371398926, 0.9266964793205261, 0.9782608151435852, 0.9680038690567017, 0.9680038690567017, 0.9609864950180054, 0.9583727121353149, 0.9569290280342102, 0.9569290280342102, 0.9567297697067261, 0.9567297697067261, 0.953407347202301, 0.953015148639679, 0.9517337679862976, 0.9515872597694397, 0.9508562088012695, 0.9497162103652954, 0.9497162103652954, 0.9486438035964966, 0.9486438035964966, 0.9486438035964966, 0.9480385184288025, 0.9473730325698853, 0.9455453753471375, 0.9455453753471375, 0.9443842768669128, 0.9430418610572815, 0.9430418610572815, 0.9421554207801819, 0.9418281316757202, 0.9409438371658325, 0.940570056438446, 0.940570056438446, 0.940570056438446, 0.9405399560928345, 0.9383149147033691, 0.9383147954940796, 0.9376362562179565, 0.9362573027610779, 0.9355851411819458, 0.9347826242446899, 0.9337990880012512, 0.9337990880012512, 0.9276335835456848, 0.9261981844902039, 0.9180845022201538, 0.9180845022201538, 0.9140904545783997, 0.9109357595443726, 0.9102990627288818, 0.9095085263252258, 0.9095085263252258, 0.9081082344055176, 0.9081082344055176, 0.9080252051353455, 0.9046624898910522, 0.9007546901702881, 0.9007546901702881, 0.9002839922904968, 0.8978642225265503, 0.8973818421363831, 0.8973645567893982, 0.895607590675354, 0.8952858448028564, 0.8951712846755981, 0.8932595252990723, 0.8926784992218018, 0.8926784992218018, 0.8917926549911499, 0.8911327719688416, 0.8911327719688416, 0.8911327719688416, 0.8892972469329834, 0.8892972469329834, 0.8885402679443359, 0.8877781629562378, 0.8875744938850403, 0.8868440389633179, 0.886076033115387, 0.886076033115387, 0.886076033115387, 0.8858784437179565, 0.8856148719787598, 0.8856148719787598, 0.9284766912460327, 0.9143006205558777, 0.9005004167556763, 0.8965517282485962, 0.894629955291748, 0.8938527703285217, 0.8913376331329346, 0.8858184218406677, 0.8844476938247681, 0.8823397755622864, 0.8820528984069824, 0.8820527791976929, 0.8817846775054932, 0.8791322112083435, 0.8778665065765381, 0.8778665065765381, 0.8773279190063477, 0.8773279190063477, 0.875420868396759, 0.8753761053085327, 0.8727859854698181, 0.8725832104682922, 0.8719775080680847, 0.8718127012252808, 0.8703169822692871, 0.8703169822692871, 0.8703169822692871, 0.8703169822692871, 0.8700222373008728, 0.868510365486145, 0.8671485185623169, 0.8671485185623169, 0.8671485185623169, 0.8656302690505981, 0.8630338907241821, 0.8630338907241821, 0.8630338907241821, 0.8620792627334595, 0.8620690107345581, 0.8620689511299133, 0.8620689511299133, 0.9782608151435852, 0.9680038690567017, 0.9680038690567017, 0.9609864950180054, 0.9583727121353149, 0.9569290280342102, 0.9569290280342102, 0.9567297697067261, 0.9567297697067261, 0.953407347202301, 0.953015148639679, 0.9517337679862976, 0.9515872597694397, 0.9508562088012695, 0.9497162103652954, 0.9497162103652954, 0.9486438035964966, 0.9486438035964966, 0.9486438035964966, 0.9480385184288025, 0.9473730325698853, 0.9455453753471375, 0.9455453753471375, 0.9443842768669128, 0.9430418610572815, 0.9430418610572815, 0.9421554207801819, 0.9418281316757202, 0.9409438371658325, 0.940570056438446, 0.940570056438446, 0.940570056438446, 0.9405399560928345, 0.9383149147033691, 0.9383147954940796, 0.9376362562179565, 0.9362573027610779, 0.9355851411819458, 0.9347826242446899, 0.9337990880012512, 0.9337990880012512, 0.9622504711151123, 0.8944271802902222, 0.8944271802902222, 0.8944271802902222, 0.884651780128479, 0.875, 0.8728715777397156, 0.8660253882408142, 0.8660253882408142, 0.8660253882408142, 0.8574929237365723, 0.8534917831420898, 0.851205587387085, 0.8488746881484985, 0.8488746881484985, 0.8488746881484985, 0.8486684560775757, 0.8463273048400879, 0.8461141586303711, 0.8401681184768677, 0.8391463756561279, 0.8391463756561279, 0.8360795974731445, 0.8356289863586426, 0.8320503234863281, 0.8320503234863281, 0.8249579071998596, 0.8249579071998596, 0.8249579071998596, 0.8249579071998596, 0.8164966106414795, 0.8164966106414795, 0.8164966106414795, 0.8111070990562439, 0.8111070990562439, 0.8111070990562439, 0.8111070990562439, 0.8111070990562439, 0.8111070990562439, 0.8084520101547241, 0.8082239031791687, 0.9660917520523071, 0.9561828374862671, 0.9449111819267273, 0.9354143738746643, 0.9354143142700195, 0.9354143142700195, 0.9354143142700195, 0.933138906955719, 0.933138906955719, 0.9258200526237488, 0.9116846323013306, 0.9083736538887024, 0.9074851870536804, 0.9074851870536804, 0.904106080532074, 0.8970852494239807, 0.8964214324951172, 0.8933249711990356, 0.8908707499504089, 0.8908707499504089, 0.8894991874694824, 0.8894991874694824, 0.867110013961792, 0.867110013961792, 0.8671098947525024, 0.8583950400352478, 0.8583950400352478, 0.8583324551582336, 0.8583324551582336, 0.8571428656578064, 0.8571428060531616, 0.8571428060531616, 0.8552359938621521, 0.8547042608261108, 0.8528028726577759, 0.8486683368682861, 0.8486683368682861, 0.8486683368682861, 0.8486683368682861, 0.8486683368682861, 0.8463273644447327, 0.9622504711151123, 0.8944271802902222, 0.8944271802902222, 0.8944271802902222, 0.884651780128479, 0.875, 0.8728715777397156, 0.8660253882408142, 0.8660253882408142, 0.8660253882408142, 0.8574929237365723, 0.8534917831420898, 0.851205587387085, 0.8488746881484985, 0.8488746881484985, 0.8488746881484985, 0.8486684560775757, 0.8463273048400879, 0.8461141586303711, 0.8401681184768677, 0.8391463756561279, 0.8391463756561279, 0.8360795974731445, 0.8356289863586426, 0.8320503234863281, 0.8320503234863281, 0.8249579071998596, 0.8249579071998596, 0.8249579071998596, 0.8249579071998596, 0.8164966106414795, 0.8164966106414795, 0.8164966106414795, 0.8111070990562439, 0.8111070990562439, 0.8111070990562439, 0.8111070990562439, 0.8111070990562439, 0.8111070990562439, 0.8084520101547241, 0.8082239031791687, 0.9770084023475647, 0.933138906955719, 0.928571343421936, 0.9265616536140442, 0.925819993019104, 0.9182623624801636, 0.9134140610694885, 0.9104654788970947, 0.9104654788970947, 0.9086882472038269, 0.9086882472038269, 0.9072647094726562, 0.9035078883171082, 0.898716926574707, 0.8986450433731079, 0.8976656198501587, 0.8976656198501587, 0.8970852494239807, 0.8970851898193359, 0.8966530561447144, 0.8966530561447144, 0.8966333866119385, 0.8966333866119385, 0.8966333866119385, 0.8966333866119385, 0.8950412273406982, 0.8934051394462585, 0.8933249115943909, 0.8916451334953308, 0.8916451334953308, 0.8910420536994934, 0.8910420536994934, 0.8910420536994934, 0.8908708095550537, 0.8908708095550537, 0.8908707499504089, 0.8890520334243774, 0.8872442245483398, 0.8872441649436951, 0.8864052295684814, 0.8864052295684814, 0.9750000238418579, 0.9695896506309509, 0.968245804309845, 0.9561827778816223, 0.9560661315917969, 0.9560661315917969, 0.9547032117843628, 0.9545941948890686, 0.9463399052619934, 0.9463399052619934, 0.9429277777671814, 0.9407528638839722, 0.9398254752159119, 0.9398254156112671, 0.9389710426330566, 0.9383147358894348, 0.9374998807907104, 0.9360566139221191, 0.9360566139221191, 0.9360566139221191, 0.9359709620475769, 0.9354143738746643, 0.9341285228729248, 0.93412846326828, 0.9327731132507324, 0.9284766912460327, 0.9284766912460327, 0.9282791018486023, 0.9280775785446167, 0.9280775785446167, 0.9280775785446167, 0.9274260401725769, 0.9263020753860474, 0.9263020157814026, 0.925000011920929, 0.925000011920929, 0.923186182975769, 0.9231711626052856, 0.9231711626052856, 0.9223309755325317, 0.9214785099029541, 0.9309492707252502, 0.9013878703117371, 0.896643877029419, 0.8894991874694824, 0.8894991874694824, 0.8882312178611755, 0.8869686126708984, 0.8825225830078125, 0.8744746446609497, 0.870285153388977, 0.8682432174682617, 0.8674723505973816, 0.8608284592628479, 0.8608283996582031, 0.8600261211395264, 0.8593377470970154, 0.8589843511581421, 0.8561727404594421, 0.8561727404594421, 0.8561726808547974, 0.8561726808547974, 0.8561726808547974, 0.8559210300445557, 0.8540168404579163, 0.8530422449111938, 0.8492078185081482, 0.8492078185081482, 0.8492078185081482, 0.8492078185081482, 0.8473185896873474, 0.8473185300827026, 0.8473185300827026, 0.8468303680419922, 0.8468303680419922, 0.8459098935127258, 0.8438529968261719, 0.8438196182250977, 0.8406727313995361, 0.838627815246582, 0.8383354544639587, 0.8376104831695557, 0.9750000238418579, 0.9695896506309509, 0.968245804309845, 0.9561827778816223, 0.9560661315917969, 0.9560661315917969, 0.9547032117843628, 0.9545941948890686, 0.9463399052619934, 0.9463399052619934, 0.9429277777671814, 0.9407528638839722, 0.9398254752159119, 0.9398254156112671, 0.9389710426330566, 0.9383147358894348, 0.9374998807907104, 0.9360566139221191, 0.9360566139221191, 0.9360566139221191, 0.9359709620475769, 0.9354143738746643, 0.9341285228729248, 0.93412846326828, 0.9327731132507324, 0.9284766912460327, 0.9284766912460327, 0.9282791018486023, 0.9280775785446167, 0.9280775785446167, 0.9280775785446167, 0.9274260401725769, 0.9263020753860474, 0.9263020157814026, 0.925000011920929, 0.925000011920929, 0.923186182975769, 0.9231711626052856, 0.9231711626052856, 0.9223309755325317, 0.9214785099029541, 0.9503289461135864, 0.9503289461135864, 0.9486833214759827, 0.9315559267997742, 0.9302604794502258, 0.9296696782112122, 0.9219543933868408, 0.9219543933868408, 0.921954333782196, 0.9203579425811768, 0.9203579425811768, 0.919238805770874, 0.9170604944229126, 0.9135002493858337, 0.9135002493858337, 0.9109802842140198, 0.9101912975311279, 0.9101912975311279, 0.9091548323631287, 0.9091548323631287, 0.9091548323631287, 0.9087389707565308, 0.9080252051353455, 0.9080252051353455, 0.9071146845817566, 0.9071146249771118, 0.9071146249771118, 0.9071146249771118, 0.9068453907966614, 0.9068453311920166, 0.9068453311920166, 0.9057894349098206, 0.9057894349098206, 0.9057894349098206, 0.9045339822769165, 0.9014912843704224, 0.9012491106987, 0.8999999761581421, 0.8999999761581421, 0.8999999761581421, 0.8999999761581421, 0.9271051287651062, 0.9271051287651062, 0.9233804941177368, 0.9233804941177368, 0.9233804941177368, 0.9233804941177368, 0.9223309755325317, 0.918558657169342, 0.9150798320770264, 0.9091922640800476, 0.9086881875991821, 0.9086881875991821, 0.9068453311920166, 0.9068453311920166, 0.9068453311920166, 0.9068453311920166, 0.9067235589027405, 0.9057894945144653, 0.9057894945144653, 0.9057256579399109, 0.9057255983352661, 0.9036961197853088, 0.9036961197853088, 0.903642475605011, 0.9035079479217529, 0.902707576751709, 0.9004503488540649, 0.9000000357627869, 0.8992517590522766, 0.8977310657501221, 0.8977310061454773, 0.8959786891937256, 0.8959786891937256, 0.8959786891937256, 0.8948380947113037, 0.8944271802902222, 0.8944271206855774, 0.8901636600494385, 0.8894600868225098, 0.8889566659927368, 0.8889342546463013, 0.931891143321991, 0.931891143321991, 0.931891143321991, 0.931891143321991, 0.9284141063690186, 0.9239886403083801, 0.9214065074920654, 0.9185315370559692, 0.9185315370559692, 0.9185315370559692, 0.9132660627365112, 0.9132660627365112, 0.912159264087677, 0.912159264087677, 0.9082951545715332, 0.9074424505233765, 0.903652012348175, 0.9014202952384949, 0.8994013071060181, 0.8994011878967285, 0.8994011878967285, 0.8994011878967285, 0.8983222842216492, 0.8971499800682068, 0.8956221342086792, 0.8927095532417297, 0.892413318157196, 0.8924132585525513, 0.8922685384750366, 0.8922685384750366, 0.8922268152236938, 0.8919914364814758, 0.891455352306366, 0.8898984789848328, 0.8897130489349365, 0.8883363008499146, 0.8883363008499146, 0.8883363008499146, 0.8882347941398621, 0.8876253366470337, 0.8871638774871826, 1.0, 1.0, 1.0, 1.0, 1.0, 1.0, 1.0, 1.0, 1.0, 1.0, 1.0, 1.0, 1.0, 1.0, 1.0, 1.0, 1.0, 1.0, 1.0, 1.0, 1.0, 1.0, 0.981980562210083, 0.9701424837112427, 0.9701424837112427, 0.9594031572341919, 0.9444444179534912, 0.9354143142700195, 0.9354143142700195, 0.9176629185676575, 0.9036960601806641, 0.8872442841529846, 0.8845379948616028, 0.883883535861969, 0.8816820383071899, 0.8757290840148926, 0.875, 0.875, 0.875, 0.875, 0.8660253882408142, 0.9504969120025635, 0.9495630264282227, 0.9495630264282227, 0.9428292512893677, 0.9428292512893677, 0.9428291916847229, 0.9428291320800781, 0.9428291320800781, 0.9415245652198792, 0.9306780695915222, 0.9306630492210388, 0.9304842352867126, 0.9304842352867126, 0.9304841756820679, 0.9304841756820679, 0.9243423342704773, 0.9210566282272339, 0.9210566282272339, 0.9187794923782349, 0.9186933636665344, 0.9173648953437805, 0.9173648953437805, 0.9173648953437805, 0.9163298010826111, 0.9163298010826111, 0.9154754281044006, 0.9150522351264954, 0.9150522351264954, 0.9150521755218506, 0.9143940210342407, 0.9143940210342407, 0.9141045808792114, 0.9137173891067505, 0.9137173891067505, 0.9121593236923218, 0.912159264087677, 0.912159264087677, 0.912159264087677, 0.912159264087677, 0.912159264087677, 0.912103533744812, 0.9271051287651062, 0.9271051287651062, 0.9233804941177368, 0.9233804941177368, 0.9233804941177368, 0.9233804941177368, 0.9223309755325317, 0.918558657169342, 0.9150798320770264, 0.9091922640800476, 0.9086881875991821, 0.9086881875991821, 0.9068453311920166, 0.9068453311920166, 0.9068453311920166, 0.9068453311920166, 0.9067235589027405, 0.9057894945144653, 0.9057894945144653, 0.9057256579399109, 0.9057255983352661, 0.9036961197853088, 0.9036961197853088, 0.903642475605011, 0.9035079479217529, 0.902707576751709, 0.9004503488540649, 0.9000000357627869, 0.8992517590522766, 0.8977310657501221, 0.8977310061454773, 0.8959786891937256, 0.8959786891937256, 0.8959786891937256, 0.8948380947113037, 0.8944271802902222, 0.8944271206855774, 0.8901636600494385, 0.8894600868225098, 0.8889566659927368, 0.8889342546463013, 0.931891143321991, 0.931891143321991, 0.931891143321991, 0.931891143321991, 0.9284141063690186, 0.9239886403083801, 0.9214065074920654, 0.9185315370559692, 0.9185315370559692, 0.9185315370559692, 0.9132660627365112, 0.9132660627365112, 0.912159264087677, 0.912159264087677, 0.9082951545715332, 0.9074424505233765, 0.903652012348175, 0.9014202952384949, 0.8994013071060181, 0.8994011878967285, 0.8994011878967285, 0.8994011878967285, 0.8983222842216492, 0.8971499800682068, 0.8956221342086792, 0.8927095532417297, 0.892413318157196, 0.8924132585525513, 0.8922685384750366, 0.8922685384750366, 0.8922268152236938, 0.8919914364814758, 0.891455352306366, 0.8898984789848328, 0.8897130489349365, 0.8883363008499146, 0.8883363008499146, 0.8883363008499146, 0.8882347941398621, 0.8876253366470337, 0.8871638774871826, 1.0, 1.0, 1.0, 1.0, 1.0, 1.0, 1.0, 1.0, 1.0, 1.0, 1.0, 1.0, 1.0, 1.0, 1.0, 1.0, 1.0, 1.0, 1.0, 1.0, 1.0, 1.0, 0.981980562210083, 0.9701424837112427, 0.9701424837112427, 0.9594031572341919, 0.9444444179534912, 0.9354143142700195, 0.9354143142700195, 0.9176629185676575, 0.9036960601806641, 0.8872442841529846, 0.8845379948616028, 0.883883535861969, 0.8816820383071899, 0.8757290840148926, 0.875, 0.875, 0.875, 0.875, 0.8660253882408142, 0.9504969120025635, 0.9495630264282227, 0.9495630264282227, 0.9428292512893677, 0.9428292512893677, 0.9428291916847229, 0.9428291320800781, 0.9428291320800781, 0.9415245652198792, 0.9306780695915222, 0.9306630492210388, 0.9304842352867126, 0.9304842352867126, 0.9304841756820679, 0.9304841756820679, 0.9243423342704773, 0.9210566282272339, 0.9210566282272339, 0.9187794923782349, 0.9186933636665344, 0.9173648953437805, 0.9173648953437805, 0.9173648953437805, 0.9163298010826111, 0.9163298010826111, 0.9154754281044006, 0.9150522351264954, 0.9150522351264954, 0.9150521755218506, 0.9143940210342407, 0.9143940210342407, 0.9141045808792114, 0.9137173891067505, 0.9137173891067505, 0.9121593236923218, 0.912159264087677, 0.912159264087677, 0.912159264087677, 0.912159264087677, 0.912159264087677, 0.912103533744812, 0.984309196472168, 0.9836212396621704, 0.9777750372886658, 0.9751579165458679, 0.9751579165458679, 0.9751579165458679, 0.9751579165458679, 0.9751579165458679, 0.9724151492118835, 0.9722036719322205, 0.9719410538673401, 0.9705232381820679, 0.9692704677581787, 0.9683640003204346, 0.9683640003204346, 0.9683640003204346, 0.9663776755332947, 0.9650870561599731, 0.9640128016471863, 0.961972177028656, 0.9608387351036072, 0.9569487571716309, 0.956259548664093, 0.9553254246711731, 0.9553254246711731, 0.9553254246711731, 0.9552974700927734, 0.9552974700927734, 0.9541301131248474, 0.9541301131248474, 0.9532414674758911, 0.9532414674758911, 0.9532333016395569, 0.9528306722640991, 0.9528306722640991, 0.9525641202926636, 0.9525641202926636, 0.9525641202926636, 0.9523038268089294, 0.9513515830039978, 0.9509146213531494, 0.9513311386108398, 0.950131893157959, 0.9501192569732666, 0.9417286515235901, 0.9412096738815308, 0.9377429485321045, 0.9377429485321045, 0.9374334216117859, 0.9373601675033569, 0.9349289536476135, 0.934928834438324, 0.934928834438324, 0.934928834438324, 0.9345024228096008, 0.934502363204956, 0.9331203103065491, 0.9331203103065491, 0.9331203103065491, 0.9331203103065491, 0.9331203103065491, 0.9320410490036011, 0.931555986404419, 0.9311728477478027, 0.9301145076751709, 0.9299208521842957, 0.9297347664833069, 0.9297347664833069, 0.9292548894882202, 0.9263103604316711, 0.9251285195350647, 0.924249529838562, 0.924249529838562, 0.924249529838562, 0.9236083626747131, 0.9229729771614075, 0.9224556684494019, 0.9224556684494019, 0.9212563037872314, 0.9207663536071777, 0.9207663536071777, 0.9207516312599182, 0.9945710301399231, 0.9843176603317261, 0.9843176603317261, 0.9843176603317261, 0.979218602180481, 0.9753829836845398, 0.9753829836845398, 0.975382924079895, 0.974583089351654, 0.9702163338661194, 0.9699311852455139, 0.9699311852455139, 0.9699311256408691, 0.96588134765625, 0.9630714654922485, 0.9589996337890625, 0.9589996337890625, 0.9589996337890625, 0.9570731520652771, 0.9563649892807007, 0.9563649892807007, 0.9563649892807007, 0.9535351991653442, 0.9519829750061035, 0.9512194395065308, 0.9512194395065308, 0.9503345489501953, 0.9489461779594421, 0.9489461779594421, 0.9489461779594421, 0.9467531442642212, 0.9467531442642212, 0.9467531442642212, 0.9467531442642212, 0.9467531442642212, 0.9467531442642212, 0.9467531442642212, 0.9467531442642212, 0.9467531442642212, 0.9467531442642212, 0.9467531442642212, 0.8660253286361694, 0.8542420864105225, 0.8512565493583679, 0.8268688321113586, 0.8268688321113586, 0.8268688321113586, 0.8268688321113586, 0.8268688321113586, 0.8211076855659485, 0.8183169960975647, 0.8164964914321899, 0.8164964914321899, 0.8067842125892639, 0.8017837405204773, 0.8017837405204773, 0.8017837405204773, 0.8017836809158325, 0.7924058437347412, 0.7924058437347412, 0.7916666269302368, 0.7825080752372742, 0.7770980000495911, 0.7745967507362366, 0.7715166807174683, 0.7654655575752258, 0.7637625336647034, 0.7637625336647034, 0.7637625336647034, 0.7579367160797119, 0.7579367160797119, 0.753778338432312, 0.7504786849021912, 0.7504786849021912, 0.75, 0.7484552264213562, 0.7484552264213562, 0.7484552264213562, 0.7484552264213562, 0.7484552264213562, 0.7463905215263367, 0.7463905215263367, 0.9719274044036865, 0.9719274044036865, 0.9585144519805908, 0.949999988079071, 0.949999988079071, 0.949999988079071, 0.949999988079071, 0.949999988079071, 0.949999988079071, 0.9488521814346313, 0.9468950629234314, 0.9468950629234314, 0.9455944299697876, 0.9455944299697876, 0.9455944299697876, 0.9449111223220825, 0.9441176056861877, 0.9431191682815552, 0.9421682357788086, 0.941357433795929, 0.9333332777023315, 0.9333332777023315, 0.9315885305404663, 0.9315885305404663, 0.9309493899345398, 0.9309493899345398, 0.9304653406143188, 0.9296697378158569, 0.9296696782112122, 0.9296696782112122, 0.9273412227630615, 0.9271050095558167, 0.9271050095558167, 0.9264487624168396, 0.9264487624168396, 0.9249998927116394, 0.9233804941177368, 0.9223780035972595, 0.9219543933868408, 0.9219543933868408, 0.9209109544754028, 0.9787957072257996, 0.9640346765518188, 0.9633798599243164, 0.9621023535728455, 0.9621023535728455, 0.9621023535728455, 0.9558526873588562, 0.955649733543396, 0.9537876844406128, 0.9511599540710449, 0.9508497714996338, 0.9507505297660828, 0.9501461982727051, 0.9501461982727051, 0.948979914188385, 0.9488521814346313, 0.9476815462112427, 0.9473464488983154, 0.9465925097465515, 0.9456576704978943, 0.9456576704978943, 0.9447560906410217, 0.9434393048286438, 0.9412351846694946, 0.9409592151641846, 0.940580427646637, 0.9405161738395691, 0.9399007558822632, 0.9399007558822632, 0.9399007558822632, 0.9385019540786743, 0.9379647970199585, 0.9378902316093445, 0.9378902316093445, 0.937635600566864, 0.9374701380729675, 0.9367507100105286, 0.9361647963523865, 0.9349468946456909, 0.9349468946456909, 0.9333308339118958, 0.9866902232170105, 0.975784420967102, 0.9674797058105469, 0.9674797058105469, 0.9674797058105469, 0.9655351042747498, 0.9633640050888062, 0.9633640050888062, 0.9621404409408569, 0.9607347846031189, 0.9604803323745728, 0.959383487701416, 0.9585145711898804, 0.9561828970909119, 0.9561828970909119, 0.955817461013794, 0.955817461013794, 0.9556189775466919, 0.9550230503082275, 0.9550230503082275, 0.954993724822998, 0.9545941948890686, 0.9545941948890686, 0.9534626007080078, 0.9534626007080078, 0.9520360231399536, 0.9520360231399536, 0.9515025615692139, 0.9503289461135864, 0.9490706920623779, 0.9486832618713379, 0.9471879005432129, 0.9468950629234314, 0.9465078115463257, 0.9455944895744324, 0.9455944895744324, 0.9438797831535339, 0.9438797831535339, 0.9438797831535339, 0.9432421922683716, 0.9428276419639587, 0.9532063007354736, 0.9374860525131226, 0.937089204788208, 0.9353047609329224, 0.9353047609329224, 0.9353047609329224, 0.9332565665245056, 0.9332565069198608, 0.932202160358429, 0.9313342571258545, 0.9313341975212097, 0.9284089207649231, 0.9279607534408569, 0.9274777770042419, 0.926847517490387, 0.926847517490387, 0.926847517490387, 0.9262908697128296, 0.9262436628341675, 0.9247311949729919, 0.9242740869522095, 0.9242740869522095, 0.92406165599823, 0.9236372709274292, 0.9215506911277771, 0.9213557839393616, 0.9210565686225891, 0.9207508563995361, 0.9206016063690186, 0.9206016063690186, 0.9205586314201355, 0.9202829599380493, 0.9190074801445007, 0.9190074801445007, 0.9190074801445007, 0.9165445566177368, 0.916544497013092, 0.916544497013092, 0.9164397120475769, 0.9133691787719727, 0.9133691191673279, 0.9594032764434814, 0.9574271440505981, 0.9534626007080078, 0.942082405090332, 0.942082405090332, 0.942082405090332, 0.9285405874252319, 0.9284141063690186, 0.9199353456497192, 0.9198662042617798, 0.9173649549484253, 0.9116846919059753, 0.9111469388008118, 0.910578727722168, 0.9103585481643677, 0.9090908765792847, 0.907442569732666, 0.9045340418815613, 0.9045340418815613, 0.9045340418815613, 0.9045340418815613, 0.9045340418815613, 0.9045340418815613, 0.9045340418815613, 0.8983222842216492, 0.8935251235961914, 0.8869686126708984, 0.8780540823936462, 0.8764598965644836, 0.8761903643608093, 0.8746731877326965, 0.8746731877326965, 0.8727860450744629, 0.8709883093833923, 0.8709882497787476, 0.8703882694244385, 0.8678334355354309, 0.8664002418518066, 0.8664002418518066, 0.865657389163971, 0.8624393343925476, 0.9798047542572021, 0.9798047542572021, 0.9798047542572021, 0.9770542979240417, 0.9756366014480591, 0.9756366014480591, 0.9743975400924683, 0.9729739427566528, 0.972716212272644, 0.9716053605079651, 0.9683640003204346, 0.9683640003204346, 0.9679938554763794, 0.9679938554763794, 0.9677928686141968, 0.9671894311904907, 0.9671894311904907, 0.9671894311904907, 0.9671597480773926, 0.965609073638916, 0.965609073638916, 0.9641643762588501, 0.9641643762588501, 0.9624354243278503, 0.9611612558364868, 0.9607688784599304, 0.9592545032501221, 0.958662211894989, 0.9559041857719421, 0.9559041857719421, 0.9552584886550903, 0.9548386335372925, 0.9548197388648987, 0.953349769115448, 0.953349769115448, 0.9528704881668091, 0.951762318611145, 0.951521635055542, 0.9512699246406555, 0.9509329199790955, 0.9488521814346313, 0.9767816662788391, 0.9675326347351074, 0.9635461568832397, 0.9621405601501465, 0.9603921175003052, 0.9596789479255676, 0.9594031572341919, 0.9534626007080078, 0.9534626007080078, 0.953230619430542, 0.9493857026100159, 0.9489284753799438, 0.9489284753799438, 0.9489284753799438, 0.9489284753799438, 0.9489284753799438, 0.9486833810806274, 0.9463773965835571, 0.9436284899711609, 0.9430055022239685, 0.9429903030395508, 0.9429903030395508, 0.9429903030395508, 0.9408842325210571, 0.9400193691253662, 0.9391485452651978, 0.93898606300354, 0.93898606300354, 0.93898606300354, 0.9389711618423462, 0.9389710426330566, 0.9354953765869141, 0.9354953765869141, 0.9354143142700195, 0.9339475631713867, 0.9339475631713867, 0.9339475631713867, 0.9336222410202026, 0.9333810210227966, 0.9311283230781555, 0.929516077041626, 0.9765536189079285, 0.9750854969024658, 0.974913477897644, 0.974913477897644, 0.974913477897644, 0.9723448753356934, 0.9723448753356934, 0.9716053605079651, 0.9707252979278564, 0.9673306941986084, 0.9673306941986084, 0.9609277844429016, 0.9607689380645752, 0.9607689380645752, 0.9607689380645752, 0.9578132629394531, 0.9575175046920776, 0.9553170800209045, 0.9542195796966553, 0.9534240365028381, 0.9529258012771606, 0.9518744945526123, 0.9516485929489136, 0.9516485929489136, 0.9516485929489136, 0.9516485929489136, 0.9516485929489136, 0.9516485929489136, 0.9516485929489136, 0.9516485929489136, 0.951034426689148, 0.951034426689148, 0.9509329199790955, 0.9509329199790955, 0.9487438201904297, 0.9478946328163147, 0.9476128816604614, 0.9464573860168457, 0.9460287094116211, 0.9448346495628357, 0.9448346495628357, 1.0, 1.0, 1.0, 1.0, 1.0, 1.0, 1.0, 1.0, 1.0, 0.9701424837112427, 0.9701424837112427, 0.9354143142700195, 0.9354143142700195, 0.9354143142700195, 0.9354143142700195, 0.9176629185676575, 0.8944271802902222, 0.875, 0.875, 0.8660253882408142, 0.8660253286361694, 0.8660253286361694, 0.8660253286361694, 0.8504200577735901, 0.8498365879058838, 0.8333333730697632, 0.8320502638816833, 0.8320502638816833, 0.8320502638816833, 0.8249579071998596, 0.8249579071998596, 0.8164966106414795, 0.8164966106414795, 0.812604546546936, 0.8111474514007568, 0.8111070990562439, 0.8082239031791687, 0.8082238435745239, 0.8017836809158325, 0.8017836809158325, 0.8017836809158325, 0.9767816662788391, 0.9675326347351074, 0.9635461568832397, 0.9621405601501465, 0.9603921175003052, 0.9596789479255676, 0.9594031572341919, 0.9534626007080078, 0.9534626007080078, 0.953230619430542, 0.9493857026100159, 0.9489284753799438, 0.9489284753799438, 0.9489284753799438, 0.9489284753799438, 0.9489284753799438, 0.9486833810806274, 0.9463773965835571, 0.9436284899711609, 0.9430055022239685, 0.9429903030395508, 0.9429903030395508, 0.9429903030395508, 0.9408842325210571, 0.9400193691253662, 0.9391485452651978, 0.93898606300354, 0.93898606300354, 0.93898606300354, 0.9389711618423462, 0.9389710426330566, 0.9354953765869141, 0.9354953765869141, 0.9354143142700195, 0.9339475631713867, 0.9339475631713867, 0.9339475631713867, 0.9336222410202026, 0.9333810210227966, 0.9311283230781555, 0.929516077041626, 0.9767816662788391, 0.9675326347351074, 0.9635461568832397, 0.9621405601501465, 0.9603921175003052, 0.9596789479255676, 0.9594031572341919, 0.9534626007080078, 0.9534626007080078, 0.953230619430542, 0.9493857026100159, 0.9489284753799438, 0.9489284753799438, 0.9489284753799438, 0.9489284753799438, 0.9489284753799438, 0.9486833810806274, 0.9463773965835571, 0.9436284899711609, 0.9430055022239685, 0.9429903030395508, 0.9429903030395508, 0.9429903030395508, 0.9408842325210571, 0.9400193691253662, 0.9391485452651978, 0.93898606300354, 0.93898606300354, 0.93898606300354, 0.9389711618423462, 0.9389710426330566, 0.9354953765869141, 0.9354953765869141, 0.9354143142700195, 0.9339475631713867, 0.9339475631713867, 0.9339475631713867, 0.9336222410202026, 0.9333810210227966, 0.9311283230781555, 0.929516077041626, 0.9765536189079285, 0.9750854969024658, 0.974913477897644, 0.974913477897644, 0.974913477897644, 0.9723448753356934, 0.9723448753356934, 0.9716053605079651, 0.9707252979278564, 0.9673306941986084, 0.9673306941986084, 0.9609277844429016, 0.9607689380645752, 0.9607689380645752, 0.9607689380645752, 0.9578132629394531, 0.9575175046920776, 0.9553170800209045, 0.9542195796966553, 0.9534240365028381, 0.9529258012771606, 0.9518744945526123, 0.9516485929489136, 0.9516485929489136, 0.9516485929489136, 0.9516485929489136, 0.9516485929489136, 0.9516485929489136, 0.9516485929489136, 0.9516485929489136, 0.951034426689148, 0.951034426689148, 0.9509329199790955, 0.9509329199790955, 0.9487438201904297, 0.9478946328163147, 0.9476128816604614, 0.9464573860168457, 0.9460287094116211, 0.9448346495628357, 0.9448346495628357, 1.0, 1.0, 1.0, 1.0, 1.0, 1.0, 1.0, 1.0, 1.0, 0.9701424837112427, 0.9701424837112427, 0.9354143142700195, 0.9354143142700195, 0.9354143142700195, 0.9354143142700195, 0.9176629185676575, 0.8944271802902222, 0.875, 0.875, 0.8660253882408142, 0.8660253286361694, 0.8660253286361694, 0.8660253286361694, 0.8504200577735901, 0.8498365879058838, 0.8333333730697632, 0.8320502638816833, 0.8320502638816833, 0.8320502638816833, 0.8249579071998596, 0.8249579071998596, 0.8164966106414795, 0.8164966106414795, 0.812604546546936, 0.8111474514007568, 0.8111070990562439, 0.8082239031791687, 0.8082238435745239, 0.8017836809158325, 0.8017836809158325, 0.8017836809158325, 0.9767816662788391, 0.9675326347351074, 0.9635461568832397, 0.9621405601501465, 0.9603921175003052, 0.9596789479255676, 0.9594031572341919, 0.9534626007080078, 0.9534626007080078, 0.953230619430542, 0.9493857026100159, 0.9489284753799438, 0.9489284753799438, 0.9489284753799438, 0.9489284753799438, 0.9489284753799438, 0.9486833810806274, 0.9463773965835571, 0.9436284899711609, 0.9430055022239685, 0.9429903030395508, 0.9429903030395508, 0.9429903030395508, 0.9408842325210571, 0.9400193691253662, 0.9391485452651978, 0.93898606300354, 0.93898606300354, 0.93898606300354, 0.9389711618423462, 0.9389710426330566, 0.9354953765869141, 0.9354953765869141, 0.9354143142700195, 0.9339475631713867, 0.9339475631713867, 0.9339475631713867, 0.9336222410202026, 0.9333810210227966, 0.9311283230781555, 0.929516077041626, 0.9746794104576111, 0.9550229907035828, 0.953462541103363, 0.9486833214759827, 0.9486833214759827, 0.9467291831970215, 0.9449110627174377, 0.9341986179351807, 0.9316949844360352, 0.9316949844360352, 0.9316949844360352, 0.9316949844360352, 0.9316949844360352, 0.9315561056137085, 0.9296694993972778, 0.9237021803855896, 0.9237021207809448, 0.9237021207809448, 0.9237021207809448, 0.9237021207809448, 0.9216352701187134, 0.9209109544754028, 0.9203580021858215, 0.9203580021858215, 0.9203580021858215, 0.9190182685852051, 0.9190182685852051, 0.9170604944229126, 0.9141740798950195, 0.9135002493858337, 0.9135002493858337, 0.9135002493858337, 0.9135002493858337, 0.9135002493858337, 0.9132592678070068, 0.9128710031509399, 0.9128708839416504, 0.9101698398590088, 0.9101698398590088, 0.9101698398590088, 0.9091922640800476, 0.9574272632598877, 0.9486833810806274, 0.9449112415313721, 0.9428089261054993, 0.9415963292121887, 0.9298989176750183, 0.9244735836982727, 0.9238697290420532, 0.922330915927887, 0.9185587763786316, 0.9185587167739868, 0.9141378402709961, 0.9141378402709961, 0.9141378402709961, 0.9138600826263428, 0.9131712913513184, 0.9128710627555847, 0.9128710627555847, 0.9128710627555847, 0.9128710627555847, 0.9128710627555847, 0.9128710627555847, 0.9128708243370056, 0.9112957715988159, 0.9103456735610962, 0.9097177386283875, 0.9097177386283875, 0.9082951545715332, 0.9082951545715332, 0.9072184562683105, 0.9060606956481934, 0.9058216214179993, 0.9058216214179993, 0.9058215022087097, 0.9056544899940491, 0.9036962389945984, 0.9036961793899536, 0.9036961793899536, 0.9035252928733826, 0.9035096764564514, 0.9027306437492371, 0.8682432174682617, 0.8362419605255127, 0.8278374075889587, 0.827837347984314, 0.8006407022476196, 0.8006407022476196, 0.8006407022476196, 0.8006407022476196, 0.7893521785736084, 0.7893521785736084, 0.7893521785736084, 0.7844645380973816, 0.7692307829856873, 0.7692307829856873, 0.7692307829856873, 0.762712836265564, 0.7627127766609192, 0.7614995241165161, 0.7526177763938904, 0.7518093585968018, 0.7518093585968018, 0.7472647428512573, 0.7433851361274719, 0.7412493228912354, 0.7412493228912354, 0.7412493228912354, 0.7412493228912354, 0.7399401068687439, 0.7399399876594543, 0.7396002411842346, 0.7354354858398438, 0.7354354858398438, 0.7354354858398438, 0.7282019853591919, 0.7275328636169434, 0.7242068648338318, 0.7238423228263855, 0.7211102843284607, 0.7211102843284607, 0.7211102843284607, 0.7205766439437866, 0.9565216302871704, 0.9565216302871704, 0.9498989582061768, 0.9457323551177979, 0.9451745748519897, 0.944369912147522, 0.9437401294708252, 0.9437401294708252, 0.9437401294708252, 0.9383845925331116, 0.9383149147033691, 0.9363822340965271, 0.9363821148872375, 0.9348927736282349, 0.9337990283966064, 0.9337990283966064, 0.933563768863678, 0.9325048327445984, 0.9325048327445984, 0.9325048327445984, 0.9325047135353088, 0.9308956265449524, 0.929283618927002, 0.9292835593223572, 0.9274376630783081, 0.9267343878746033, 0.9255480766296387, 0.9255480766296387, 0.9231327176094055, 0.9229581356048584, 0.9223131537437439, 0.9215121269226074, 0.9215121269226074, 0.9215121269226074, 0.9200671911239624, 0.9194621443748474, 0.9191833138465881, 0.9187147617340088, 0.9170672297477722, 0.9163795709609985, 0.915249228477478], \"xaxis\": \"x\", \"yaxis\": \"y\"}],\n",
              "                        {\"barmode\": \"relative\", \"legend\": {\"tracegroupgap\": 0}, \"margin\": {\"t\": 60}, \"template\": {\"data\": {\"bar\": [{\"error_x\": {\"color\": \"#2a3f5f\"}, \"error_y\": {\"color\": \"#2a3f5f\"}, \"marker\": {\"line\": {\"color\": \"#E5ECF6\", \"width\": 0.5}}, \"type\": \"bar\"}], \"barpolar\": [{\"marker\": {\"line\": {\"color\": \"#E5ECF6\", \"width\": 0.5}}, \"type\": \"barpolar\"}], \"carpet\": [{\"aaxis\": {\"endlinecolor\": \"#2a3f5f\", \"gridcolor\": \"white\", \"linecolor\": \"white\", \"minorgridcolor\": \"white\", \"startlinecolor\": \"#2a3f5f\"}, \"baxis\": {\"endlinecolor\": \"#2a3f5f\", \"gridcolor\": \"white\", \"linecolor\": \"white\", \"minorgridcolor\": \"white\", \"startlinecolor\": \"#2a3f5f\"}, \"type\": \"carpet\"}], \"choropleth\": [{\"colorbar\": {\"outlinewidth\": 0, \"ticks\": \"\"}, \"type\": \"choropleth\"}], \"contour\": [{\"colorbar\": {\"outlinewidth\": 0, \"ticks\": \"\"}, \"colorscale\": [[0.0, \"#0d0887\"], [0.1111111111111111, \"#46039f\"], [0.2222222222222222, \"#7201a8\"], [0.3333333333333333, \"#9c179e\"], [0.4444444444444444, \"#bd3786\"], [0.5555555555555556, \"#d8576b\"], [0.6666666666666666, \"#ed7953\"], [0.7777777777777778, \"#fb9f3a\"], [0.8888888888888888, \"#fdca26\"], [1.0, \"#f0f921\"]], \"type\": \"contour\"}], \"contourcarpet\": [{\"colorbar\": {\"outlinewidth\": 0, \"ticks\": \"\"}, \"type\": \"contourcarpet\"}], \"heatmap\": [{\"colorbar\": {\"outlinewidth\": 0, \"ticks\": \"\"}, \"colorscale\": [[0.0, \"#0d0887\"], [0.1111111111111111, \"#46039f\"], [0.2222222222222222, \"#7201a8\"], [0.3333333333333333, \"#9c179e\"], [0.4444444444444444, \"#bd3786\"], [0.5555555555555556, \"#d8576b\"], [0.6666666666666666, \"#ed7953\"], [0.7777777777777778, \"#fb9f3a\"], [0.8888888888888888, \"#fdca26\"], [1.0, \"#f0f921\"]], \"type\": \"heatmap\"}], \"heatmapgl\": [{\"colorbar\": {\"outlinewidth\": 0, \"ticks\": \"\"}, \"colorscale\": [[0.0, \"#0d0887\"], [0.1111111111111111, \"#46039f\"], [0.2222222222222222, \"#7201a8\"], [0.3333333333333333, \"#9c179e\"], [0.4444444444444444, \"#bd3786\"], [0.5555555555555556, \"#d8576b\"], [0.6666666666666666, \"#ed7953\"], [0.7777777777777778, \"#fb9f3a\"], [0.8888888888888888, \"#fdca26\"], [1.0, \"#f0f921\"]], \"type\": \"heatmapgl\"}], \"histogram\": [{\"marker\": {\"colorbar\": {\"outlinewidth\": 0, \"ticks\": \"\"}}, \"type\": \"histogram\"}], \"histogram2d\": [{\"colorbar\": {\"outlinewidth\": 0, \"ticks\": \"\"}, \"colorscale\": [[0.0, \"#0d0887\"], [0.1111111111111111, \"#46039f\"], [0.2222222222222222, \"#7201a8\"], [0.3333333333333333, \"#9c179e\"], [0.4444444444444444, \"#bd3786\"], [0.5555555555555556, \"#d8576b\"], [0.6666666666666666, \"#ed7953\"], [0.7777777777777778, \"#fb9f3a\"], [0.8888888888888888, \"#fdca26\"], [1.0, \"#f0f921\"]], \"type\": \"histogram2d\"}], \"histogram2dcontour\": [{\"colorbar\": {\"outlinewidth\": 0, \"ticks\": \"\"}, \"colorscale\": [[0.0, \"#0d0887\"], [0.1111111111111111, \"#46039f\"], [0.2222222222222222, \"#7201a8\"], [0.3333333333333333, \"#9c179e\"], [0.4444444444444444, \"#bd3786\"], [0.5555555555555556, \"#d8576b\"], [0.6666666666666666, \"#ed7953\"], [0.7777777777777778, \"#fb9f3a\"], [0.8888888888888888, \"#fdca26\"], [1.0, \"#f0f921\"]], \"type\": \"histogram2dcontour\"}], \"mesh3d\": [{\"colorbar\": {\"outlinewidth\": 0, \"ticks\": \"\"}, \"type\": \"mesh3d\"}], \"parcoords\": [{\"line\": {\"colorbar\": {\"outlinewidth\": 0, \"ticks\": \"\"}}, \"type\": \"parcoords\"}], \"pie\": [{\"automargin\": true, \"type\": \"pie\"}], \"scatter\": [{\"marker\": {\"colorbar\": {\"outlinewidth\": 0, \"ticks\": \"\"}}, \"type\": \"scatter\"}], \"scatter3d\": [{\"line\": {\"colorbar\": {\"outlinewidth\": 0, \"ticks\": \"\"}}, \"marker\": {\"colorbar\": {\"outlinewidth\": 0, \"ticks\": \"\"}}, \"type\": \"scatter3d\"}], \"scattercarpet\": [{\"marker\": {\"colorbar\": {\"outlinewidth\": 0, \"ticks\": \"\"}}, \"type\": \"scattercarpet\"}], \"scattergeo\": [{\"marker\": {\"colorbar\": {\"outlinewidth\": 0, \"ticks\": \"\"}}, \"type\": \"scattergeo\"}], \"scattergl\": [{\"marker\": {\"colorbar\": {\"outlinewidth\": 0, \"ticks\": \"\"}}, \"type\": \"scattergl\"}], \"scattermapbox\": [{\"marker\": {\"colorbar\": {\"outlinewidth\": 0, \"ticks\": \"\"}}, \"type\": \"scattermapbox\"}], \"scatterpolar\": [{\"marker\": {\"colorbar\": {\"outlinewidth\": 0, \"ticks\": \"\"}}, \"type\": \"scatterpolar\"}], \"scatterpolargl\": [{\"marker\": {\"colorbar\": {\"outlinewidth\": 0, \"ticks\": \"\"}}, \"type\": \"scatterpolargl\"}], \"scatterternary\": [{\"marker\": {\"colorbar\": {\"outlinewidth\": 0, \"ticks\": \"\"}}, \"type\": \"scatterternary\"}], \"surface\": [{\"colorbar\": {\"outlinewidth\": 0, \"ticks\": \"\"}, \"colorscale\": [[0.0, \"#0d0887\"], [0.1111111111111111, \"#46039f\"], [0.2222222222222222, \"#7201a8\"], [0.3333333333333333, \"#9c179e\"], [0.4444444444444444, \"#bd3786\"], [0.5555555555555556, \"#d8576b\"], [0.6666666666666666, \"#ed7953\"], [0.7777777777777778, \"#fb9f3a\"], [0.8888888888888888, \"#fdca26\"], [1.0, \"#f0f921\"]], \"type\": \"surface\"}], \"table\": [{\"cells\": {\"fill\": {\"color\": \"#EBF0F8\"}, \"line\": {\"color\": \"white\"}}, \"header\": {\"fill\": {\"color\": \"#C8D4E3\"}, \"line\": {\"color\": \"white\"}}, \"type\": \"table\"}]}, \"layout\": {\"annotationdefaults\": {\"arrowcolor\": \"#2a3f5f\", \"arrowhead\": 0, \"arrowwidth\": 1}, \"coloraxis\": {\"colorbar\": {\"outlinewidth\": 0, \"ticks\": \"\"}}, \"colorscale\": {\"diverging\": [[0, \"#8e0152\"], [0.1, \"#c51b7d\"], [0.2, \"#de77ae\"], [0.3, \"#f1b6da\"], [0.4, \"#fde0ef\"], [0.5, \"#f7f7f7\"], [0.6, \"#e6f5d0\"], [0.7, \"#b8e186\"], [0.8, \"#7fbc41\"], [0.9, \"#4d9221\"], [1, \"#276419\"]], \"sequential\": [[0.0, \"#0d0887\"], [0.1111111111111111, \"#46039f\"], [0.2222222222222222, \"#7201a8\"], [0.3333333333333333, \"#9c179e\"], [0.4444444444444444, \"#bd3786\"], [0.5555555555555556, \"#d8576b\"], [0.6666666666666666, \"#ed7953\"], [0.7777777777777778, \"#fb9f3a\"], [0.8888888888888888, \"#fdca26\"], [1.0, \"#f0f921\"]], \"sequentialminus\": [[0.0, \"#0d0887\"], [0.1111111111111111, \"#46039f\"], [0.2222222222222222, \"#7201a8\"], [0.3333333333333333, \"#9c179e\"], [0.4444444444444444, \"#bd3786\"], [0.5555555555555556, \"#d8576b\"], [0.6666666666666666, \"#ed7953\"], [0.7777777777777778, \"#fb9f3a\"], [0.8888888888888888, \"#fdca26\"], [1.0, \"#f0f921\"]]}, \"colorway\": [\"#636efa\", \"#EF553B\", \"#00cc96\", \"#ab63fa\", \"#FFA15A\", \"#19d3f3\", \"#FF6692\", \"#B6E880\", \"#FF97FF\", \"#FECB52\"], \"font\": {\"color\": \"#2a3f5f\"}, \"geo\": {\"bgcolor\": \"white\", \"lakecolor\": \"white\", \"landcolor\": \"#E5ECF6\", \"showlakes\": true, \"showland\": true, \"subunitcolor\": \"white\"}, \"hoverlabel\": {\"align\": \"left\"}, \"hovermode\": \"closest\", \"mapbox\": {\"style\": \"light\"}, \"paper_bgcolor\": \"white\", \"plot_bgcolor\": \"#E5ECF6\", \"polar\": {\"angularaxis\": {\"gridcolor\": \"white\", \"linecolor\": \"white\", \"ticks\": \"\"}, \"bgcolor\": \"#E5ECF6\", \"radialaxis\": {\"gridcolor\": \"white\", \"linecolor\": \"white\", \"ticks\": \"\"}}, \"scene\": {\"xaxis\": {\"backgroundcolor\": \"#E5ECF6\", \"gridcolor\": \"white\", \"gridwidth\": 2, \"linecolor\": \"white\", \"showbackground\": true, \"ticks\": \"\", \"zerolinecolor\": \"white\"}, \"yaxis\": {\"backgroundcolor\": \"#E5ECF6\", \"gridcolor\": \"white\", \"gridwidth\": 2, \"linecolor\": \"white\", \"showbackground\": true, \"ticks\": \"\", \"zerolinecolor\": \"white\"}, \"zaxis\": {\"backgroundcolor\": \"#E5ECF6\", \"gridcolor\": \"white\", \"gridwidth\": 2, \"linecolor\": \"white\", \"showbackground\": true, \"ticks\": \"\", \"zerolinecolor\": \"white\"}}, \"shapedefaults\": {\"line\": {\"color\": \"#2a3f5f\"}}, \"ternary\": {\"aaxis\": {\"gridcolor\": \"white\", \"linecolor\": \"white\", \"ticks\": \"\"}, \"baxis\": {\"gridcolor\": \"white\", \"linecolor\": \"white\", \"ticks\": \"\"}, \"bgcolor\": \"#E5ECF6\", \"caxis\": {\"gridcolor\": \"white\", \"linecolor\": \"white\", \"ticks\": \"\"}}, \"title\": {\"x\": 0.05}, \"xaxis\": {\"automargin\": true, \"gridcolor\": \"white\", \"linecolor\": \"white\", \"ticks\": \"\", \"title\": {\"standoff\": 15}, \"zerolinecolor\": \"white\", \"zerolinewidth\": 2}, \"yaxis\": {\"automargin\": true, \"gridcolor\": \"white\", \"linecolor\": \"white\", \"ticks\": \"\", \"title\": {\"standoff\": 15}, \"zerolinecolor\": \"white\", \"zerolinewidth\": 2}}}, \"xaxis\": {\"anchor\": \"y\", \"domain\": [0.0, 1.0], \"title\": {\"text\": \"score\"}}, \"yaxis\": {\"anchor\": \"x\", \"domain\": [0.0, 1.0], \"title\": {\"text\": \"count\"}}},\n",
              "                        {\"responsive\": true}\n",
              "                    ).then(function(){\n",
              "                            \n",
              "var gd = document.getElementById('7c4fdbd5-795a-43d7-96a5-94ce20a1abb9');\n",
              "var x = new MutationObserver(function (mutations, observer) {{\n",
              "        var display = window.getComputedStyle(gd).display;\n",
              "        if (!display || display === 'none') {{\n",
              "            console.log([gd, 'removed!']);\n",
              "            Plotly.purge(gd);\n",
              "            observer.disconnect();\n",
              "        }}\n",
              "}});\n",
              "\n",
              "// Listen for the removal of the full notebook cells\n",
              "var notebookContainer = gd.closest('#notebook-container');\n",
              "if (notebookContainer) {{\n",
              "    x.observe(notebookContainer, {childList: true});\n",
              "}}\n",
              "\n",
              "// Listen for the clearing of the current output cell\n",
              "var outputEl = gd.closest('.output');\n",
              "if (outputEl) {{\n",
              "    x.observe(outputEl, {childList: true});\n",
              "}}\n",
              "\n",
              "                        })\n",
              "                };\n",
              "                \n",
              "            </script>\n",
              "        </div>\n",
              "</body>\n",
              "</html>"
            ]
          },
          "metadata": {}
        }
      ]
    },
    {
      "cell_type": "code",
      "metadata": {
        "colab": {
          "base_uri": "https://localhost:8080/",
          "height": 1000
        },
        "id": "7N81-XfdDFKV",
        "outputId": "8f145c31-14dc-4b50-94ee-4939709c3502"
      },
      "source": [
        "result, details = recommend_tune(df_sim, 'These Foolish Things')\n",
        "result.head(30)"
      ],
      "execution_count": 755,
      "outputs": [
        {
          "output_type": "execute_result",
          "data": {
            "text/html": [
              "<div>\n",
              "<style scoped>\n",
              "    .dataframe tbody tr th:only-of-type {\n",
              "        vertical-align: middle;\n",
              "    }\n",
              "\n",
              "    .dataframe tbody tr th {\n",
              "        vertical-align: top;\n",
              "    }\n",
              "\n",
              "    .dataframe thead th {\n",
              "        text-align: right;\n",
              "    }\n",
              "</style>\n",
              "<table border=\"1\" class=\"dataframe\">\n",
              "  <thead>\n",
              "    <tr style=\"text-align: right;\">\n",
              "      <th></th>\n",
              "      <th>score</th>\n",
              "      <th>max</th>\n",
              "      <th>score_div_max</th>\n",
              "    </tr>\n",
              "    <tr>\n",
              "      <th>similar_title</th>\n",
              "      <th></th>\n",
              "      <th></th>\n",
              "      <th></th>\n",
              "    </tr>\n",
              "  </thead>\n",
              "  <tbody>\n",
              "    <tr>\n",
              "      <th>Way You Look Tonight, The</th>\n",
              "      <td>0.966796</td>\n",
              "      <td>0.974755</td>\n",
              "      <td>1.000000</td>\n",
              "    </tr>\n",
              "    <tr>\n",
              "      <th>I Loves You Porgy</th>\n",
              "      <td>0.974755</td>\n",
              "      <td>0.974755</td>\n",
              "      <td>1.000000</td>\n",
              "    </tr>\n",
              "    <tr>\n",
              "      <th>More Than You Know</th>\n",
              "      <td>0.916515</td>\n",
              "      <td>0.916515</td>\n",
              "      <td>1.000000</td>\n",
              "    </tr>\n",
              "    <tr>\n",
              "      <th>It's Easy To Remember</th>\n",
              "      <td>0.951972</td>\n",
              "      <td>0.974755</td>\n",
              "      <td>0.997175</td>\n",
              "    </tr>\n",
              "    <tr>\n",
              "      <th>Stairway To The Stars</th>\n",
              "      <td>0.942223</td>\n",
              "      <td>0.974755</td>\n",
              "      <td>0.986963</td>\n",
              "    </tr>\n",
              "    <tr>\n",
              "      <th>Party's Over, The</th>\n",
              "      <td>0.958709</td>\n",
              "      <td>0.974755</td>\n",
              "      <td>0.983539</td>\n",
              "    </tr>\n",
              "    <tr>\n",
              "      <th>Rosetta</th>\n",
              "      <td>0.895443</td>\n",
              "      <td>0.916515</td>\n",
              "      <td>0.977008</td>\n",
              "    </tr>\n",
              "    <tr>\n",
              "      <th>They All Laughed</th>\n",
              "      <td>0.950980</td>\n",
              "      <td>0.974755</td>\n",
              "      <td>0.975609</td>\n",
              "    </tr>\n",
              "    <tr>\n",
              "      <th>And The Angels Sing</th>\n",
              "      <td>0.947678</td>\n",
              "      <td>0.974755</td>\n",
              "      <td>0.972222</td>\n",
              "    </tr>\n",
              "    <tr>\n",
              "      <th>Let's Fall In Love</th>\n",
              "      <td>0.930484</td>\n",
              "      <td>0.974755</td>\n",
              "      <td>0.971464</td>\n",
              "    </tr>\n",
              "    <tr>\n",
              "      <th>Bewitched</th>\n",
              "      <td>0.942847</td>\n",
              "      <td>0.974755</td>\n",
              "      <td>0.970286</td>\n",
              "    </tr>\n",
              "    <tr>\n",
              "      <th>Easy Street</th>\n",
              "      <td>0.926302</td>\n",
              "      <td>0.954669</td>\n",
              "      <td>0.970286</td>\n",
              "    </tr>\n",
              "    <tr>\n",
              "      <th>Among My Souvenirs</th>\n",
              "      <td>0.925820</td>\n",
              "      <td>0.954669</td>\n",
              "      <td>0.969782</td>\n",
              "    </tr>\n",
              "    <tr>\n",
              "      <th>Why Do I Love You</th>\n",
              "      <td>0.943702</td>\n",
              "      <td>0.974755</td>\n",
              "      <td>0.968143</td>\n",
              "    </tr>\n",
              "    <tr>\n",
              "      <th>Folks Who Live On The Hill, The</th>\n",
              "      <td>0.942871</td>\n",
              "      <td>0.974755</td>\n",
              "      <td>0.967291</td>\n",
              "    </tr>\n",
              "    <tr>\n",
              "      <th>If There Is Someone Lovelier</th>\n",
              "      <td>0.942082</td>\n",
              "      <td>0.974755</td>\n",
              "      <td>0.966482</td>\n",
              "    </tr>\n",
              "    <tr>\n",
              "      <th>It's A Lovely Day Today</th>\n",
              "      <td>0.941636</td>\n",
              "      <td>0.974755</td>\n",
              "      <td>0.966024</td>\n",
              "    </tr>\n",
              "    <tr>\n",
              "      <th>Manhattan</th>\n",
              "      <td>0.920751</td>\n",
              "      <td>0.954669</td>\n",
              "      <td>0.964472</td>\n",
              "    </tr>\n",
              "    <tr>\n",
              "      <th>Heart And Soul</th>\n",
              "      <td>0.934199</td>\n",
              "      <td>0.974755</td>\n",
              "      <td>0.964457</td>\n",
              "    </tr>\n",
              "    <tr>\n",
              "      <th>Danny Boy</th>\n",
              "      <td>0.934685</td>\n",
              "      <td>0.974755</td>\n",
              "      <td>0.962888</td>\n",
              "    </tr>\n",
              "    <tr>\n",
              "      <th>For Once In My Life</th>\n",
              "      <td>0.919239</td>\n",
              "      <td>0.954669</td>\n",
              "      <td>0.962888</td>\n",
              "    </tr>\n",
              "    <tr>\n",
              "      <th>Taking A Chance On Love</th>\n",
              "      <td>0.919145</td>\n",
              "      <td>0.954669</td>\n",
              "      <td>0.962790</td>\n",
              "    </tr>\n",
              "    <tr>\n",
              "      <th>I Gotta Right To Sing The Blues</th>\n",
              "      <td>0.918176</td>\n",
              "      <td>0.954669</td>\n",
              "      <td>0.961775</td>\n",
              "    </tr>\n",
              "    <tr>\n",
              "      <th>Miss Otis Regrets</th>\n",
              "      <td>0.936418</td>\n",
              "      <td>0.974755</td>\n",
              "      <td>0.960671</td>\n",
              "    </tr>\n",
              "    <tr>\n",
              "      <th>Too Young To Go Steady</th>\n",
              "      <td>0.916578</td>\n",
              "      <td>0.972306</td>\n",
              "      <td>0.960101</td>\n",
              "    </tr>\n",
              "    <tr>\n",
              "      <th>Beyond The Sea</th>\n",
              "      <td>0.932874</td>\n",
              "      <td>0.974755</td>\n",
              "      <td>0.958333</td>\n",
              "    </tr>\n",
              "    <tr>\n",
              "      <th>You Keep Coming Back Like A Song</th>\n",
              "      <td>0.933722</td>\n",
              "      <td>0.974755</td>\n",
              "      <td>0.957905</td>\n",
              "    </tr>\n",
              "    <tr>\n",
              "      <th>I'm Old Fashioned</th>\n",
              "      <td>0.913908</td>\n",
              "      <td>0.954669</td>\n",
              "      <td>0.957303</td>\n",
              "    </tr>\n",
              "    <tr>\n",
              "      <th>For You, For Me, For Evermore</th>\n",
              "      <td>0.932298</td>\n",
              "      <td>0.974755</td>\n",
              "      <td>0.956444</td>\n",
              "    </tr>\n",
              "    <tr>\n",
              "      <th>Wouldn't It Be Loverly</th>\n",
              "      <td>0.931818</td>\n",
              "      <td>0.974755</td>\n",
              "      <td>0.955951</td>\n",
              "    </tr>\n",
              "  </tbody>\n",
              "</table>\n",
              "</div>"
            ],
            "text/plain": [
              "                                     score       max  score_div_max\n",
              "similar_title                                                      \n",
              "Way You Look Tonight, The         0.966796  0.974755       1.000000\n",
              "I Loves You Porgy                 0.974755  0.974755       1.000000\n",
              "More Than You Know                0.916515  0.916515       1.000000\n",
              "It's Easy To Remember             0.951972  0.974755       0.997175\n",
              "Stairway To The Stars             0.942223  0.974755       0.986963\n",
              "Party's Over, The                 0.958709  0.974755       0.983539\n",
              "Rosetta                           0.895443  0.916515       0.977008\n",
              "They All Laughed                  0.950980  0.974755       0.975609\n",
              "And The Angels Sing               0.947678  0.974755       0.972222\n",
              "Let's Fall In Love                0.930484  0.974755       0.971464\n",
              "Bewitched                         0.942847  0.974755       0.970286\n",
              "Easy Street                       0.926302  0.954669       0.970286\n",
              "Among My Souvenirs                0.925820  0.954669       0.969782\n",
              "Why Do I Love You                 0.943702  0.974755       0.968143\n",
              "Folks Who Live On The Hill, The   0.942871  0.974755       0.967291\n",
              "If There Is Someone Lovelier      0.942082  0.974755       0.966482\n",
              "It's A Lovely Day Today           0.941636  0.974755       0.966024\n",
              "Manhattan                         0.920751  0.954669       0.964472\n",
              "Heart And Soul                    0.934199  0.974755       0.964457\n",
              "Danny Boy                         0.934685  0.974755       0.962888\n",
              "For Once In My Life               0.919239  0.954669       0.962888\n",
              "Taking A Chance On Love           0.919145  0.954669       0.962790\n",
              "I Gotta Right To Sing The Blues   0.918176  0.954669       0.961775\n",
              "Miss Otis Regrets                 0.936418  0.974755       0.960671\n",
              "Too Young To Go Steady            0.916578  0.972306       0.960101\n",
              "Beyond The Sea                    0.932874  0.974755       0.958333\n",
              "You Keep Coming Back Like A Song  0.933722  0.974755       0.957905\n",
              "I'm Old Fashioned                 0.913908  0.954669       0.957303\n",
              "For You, For Me, For Evermore     0.932298  0.974755       0.956444\n",
              "Wouldn't It Be Loverly            0.931818  0.974755       0.955951"
            ]
          },
          "metadata": {},
          "execution_count": 755
        }
      ]
    },
    {
      "cell_type": "markdown",
      "metadata": {
        "id": "rF_INicGhXKd"
      },
      "source": [
        "# Doc2Vec"
      ]
    },
    {
      "cell_type": "code",
      "metadata": {
        "id": "wflSccBshkIk"
      },
      "source": [
        "def get_tagged_documents(corpus):\n",
        "  for i, tokens in enumerate(corpus):\n",
        "    yield gensim.models.doc2vec.TaggedDocument(tokens, [i, f'titleid_{sectionid_to_titleid[i]}'])\n",
        "    yield gensim.models.doc2vec.TaggedDocument(tokens, [i])  # diatonic chord distance is a bit better"
      ],
      "execution_count": 756,
      "outputs": []
    },
    {
      "cell_type": "code",
      "metadata": {
        "colab": {
          "base_uri": "https://localhost:8080/"
        },
        "id": "_u0RdBI1kYD9",
        "outputId": "4ec259d7-a96b-4e5c-c54c-4b5fcba59417"
      },
      "source": [
        "train_corpus = list(get_tagged_documents(processed_corpus))\n",
        "train_corpus[1000]"
      ],
      "execution_count": 757,
      "outputs": [
        {
          "output_type": "execute_result",
          "data": {
            "text/plain": [
              "TaggedDocument(words=['C', 'Am', 'Dm', 'G7', 'Em', 'Am', 'Dm', 'G7', 'Gm', 'C7', 'F', 'Bb7', 'Am', 'D7', 'Dm', 'G7'], tags=[500, 'titleid_160'])"
            ]
          },
          "metadata": {},
          "execution_count": 757
        }
      ]
    },
    {
      "cell_type": "code",
      "metadata": {
        "colab": {
          "base_uri": "https://localhost:8080/"
        },
        "id": "M9adPoy9reaw",
        "outputId": "420367a7-b77d-4589-ec87-292db1f9bac8"
      },
      "source": [
        "import multiprocessing\n",
        "\n",
        "common_kwargs = dict(\n",
        "    epochs=40, \n",
        "    min_count=1,\n",
        "    workers=multiprocessing.cpu_count(), \n",
        "    negative=10, \n",
        ")\n",
        "\n",
        "print(f\"CPU Count: {multiprocessing.cpu_count()}\")\n",
        "\n",
        "dm = 0 # PV-DBOW\n",
        "dm = 1 # PV-DM\n",
        "sample = 0.001  # huge influence; 0.001 is best for a high value in the similarity of diatonic chords of the Cmaj scale\n",
        "window = 2  # 2 is best for diatonic chords\n",
        "negative = 10 # 10 is best for diatonic chords\n",
        "\n",
        "model = gensim.models.doc2vec.Doc2Vec(train_corpus,\n",
        "                                      dm=1, \n",
        "                                      vector_size=100, \n",
        "                                      window=window, \n",
        "                                      epochs=40,\n",
        "                                      workers=1,\n",
        "                                      min_count=1,\n",
        "                                      negative=negative,\n",
        "                                      sample=sample,\n",
        "                                      seed=42,\n",
        "                                      )"
      ],
      "execution_count": 758,
      "outputs": [
        {
          "output_type": "stream",
          "name": "stderr",
          "text": [
            "2021-11-19 21:59:26,493 : INFO : collecting all words and their counts\n",
            "2021-11-19 21:59:26,494 : INFO : PROGRESS: at example #0, processed 0 words (0/s), 0 word types, 0 tags\n",
            "2021-11-19 21:59:26,542 : INFO : PROGRESS: at example #10000, processed 149208 words (3304743/s), 72 word types, 1619 tags\n",
            "2021-11-19 21:59:26,562 : INFO : collected 72 word types and 7215 unique tags from a corpus of 10806 examples and 165580 words\n",
            "2021-11-19 21:59:26,563 : INFO : Creating a fresh vocabulary\n",
            "2021-11-19 21:59:26,565 : INFO : Doc2Vec lifecycle event {'msg': 'effective_min_count=1 retains 72 unique words (100.0%% of original 72, drops 0)', 'datetime': '2021-11-19T21:59:26.565662', 'gensim': '4.1.2', 'python': '3.7.12 (default, Sep 10 2021, 00:21:48) \\n[GCC 7.5.0]', 'platform': 'Linux-5.4.104+-x86_64-with-Ubuntu-18.04-bionic', 'event': 'prepare_vocab'}\n",
            "2021-11-19 21:59:26,571 : INFO : Doc2Vec lifecycle event {'msg': 'effective_min_count=1 leaves 165580 word corpus (100.0%% of original 165580, drops 0)', 'datetime': '2021-11-19T21:59:26.571180', 'gensim': '4.1.2', 'python': '3.7.12 (default, Sep 10 2021, 00:21:48) \\n[GCC 7.5.0]', 'platform': 'Linux-5.4.104+-x86_64-with-Ubuntu-18.04-bionic', 'event': 'prepare_vocab'}\n",
            "2021-11-19 21:59:26,579 : INFO : deleting the raw counts dictionary of 72 items\n",
            "2021-11-19 21:59:26,593 : INFO : sample=0.001 downsamples 40 most-common words\n",
            "2021-11-19 21:59:26,595 : INFO : Doc2Vec lifecycle event {'msg': 'downsampling leaves estimated 37137.44705265598 word corpus (22.4%% of prior 165580)', 'datetime': '2021-11-19T21:59:26.595106', 'gensim': '4.1.2', 'python': '3.7.12 (default, Sep 10 2021, 00:21:48) \\n[GCC 7.5.0]', 'platform': 'Linux-5.4.104+-x86_64-with-Ubuntu-18.04-bionic', 'event': 'prepare_vocab'}\n",
            "2021-11-19 21:59:26,600 : INFO : estimated required memory for 72 words and 100 dimensions: 4422600 bytes\n",
            "2021-11-19 21:59:26,602 : INFO : resetting layer weights\n",
            "2021-11-19 21:59:26,611 : INFO : Doc2Vec lifecycle event {'msg': 'training model with 1 workers on 72 vocabulary and 100 features, using sg=0 hs=0 sample=0.001 negative=10 window=2 shrink_windows=True', 'datetime': '2021-11-19T21:59:26.611569', 'gensim': '4.1.2', 'python': '3.7.12 (default, Sep 10 2021, 00:21:48) \\n[GCC 7.5.0]', 'platform': 'Linux-5.4.104+-x86_64-with-Ubuntu-18.04-bionic', 'event': 'train'}\n"
          ]
        },
        {
          "output_type": "stream",
          "name": "stdout",
          "text": [
            "CPU Count: 2\n"
          ]
        },
        {
          "output_type": "stream",
          "name": "stderr",
          "text": [
            "2021-11-19 21:59:27,226 : INFO : worker thread finished; awaiting finish of 0 more threads\n",
            "2021-11-19 21:59:27,230 : INFO : EPOCH - 1 : training on 165580 raw words (53265 effective words) took 0.6s, 87989 effective words/s\n",
            "2021-11-19 21:59:27,859 : INFO : worker thread finished; awaiting finish of 0 more threads\n",
            "2021-11-19 21:59:27,861 : INFO : EPOCH - 2 : training on 165580 raw words (53222 effective words) took 0.6s, 85529 effective words/s\n",
            "2021-11-19 21:59:28,476 : INFO : worker thread finished; awaiting finish of 0 more threads\n",
            "2021-11-19 21:59:28,478 : INFO : EPOCH - 3 : training on 165580 raw words (53152 effective words) took 0.6s, 87931 effective words/s\n",
            "2021-11-19 21:59:29,055 : INFO : worker thread finished; awaiting finish of 0 more threads\n",
            "2021-11-19 21:59:29,058 : INFO : EPOCH - 4 : training on 165580 raw words (53217 effective words) took 0.6s, 93202 effective words/s\n",
            "2021-11-19 21:59:29,669 : INFO : worker thread finished; awaiting finish of 0 more threads\n",
            "2021-11-19 21:59:29,670 : INFO : EPOCH - 5 : training on 165580 raw words (53378 effective words) took 0.6s, 88422 effective words/s\n",
            "2021-11-19 21:59:30,259 : INFO : worker thread finished; awaiting finish of 0 more threads\n",
            "2021-11-19 21:59:30,260 : INFO : EPOCH - 6 : training on 165580 raw words (53190 effective words) took 0.6s, 91826 effective words/s\n",
            "2021-11-19 21:59:30,866 : INFO : worker thread finished; awaiting finish of 0 more threads\n",
            "2021-11-19 21:59:30,869 : INFO : EPOCH - 7 : training on 165580 raw words (53520 effective words) took 0.6s, 89399 effective words/s\n",
            "2021-11-19 21:59:31,475 : INFO : worker thread finished; awaiting finish of 0 more threads\n",
            "2021-11-19 21:59:31,476 : INFO : EPOCH - 8 : training on 165580 raw words (53351 effective words) took 0.6s, 89503 effective words/s\n",
            "2021-11-19 21:59:32,083 : INFO : worker thread finished; awaiting finish of 0 more threads\n",
            "2021-11-19 21:59:32,086 : INFO : EPOCH - 9 : training on 165580 raw words (53177 effective words) took 0.6s, 88992 effective words/s\n",
            "2021-11-19 21:59:32,648 : INFO : worker thread finished; awaiting finish of 0 more threads\n",
            "2021-11-19 21:59:32,650 : INFO : EPOCH - 10 : training on 165580 raw words (53382 effective words) took 0.6s, 96046 effective words/s\n",
            "2021-11-19 21:59:33,232 : INFO : worker thread finished; awaiting finish of 0 more threads\n",
            "2021-11-19 21:59:33,233 : INFO : EPOCH - 11 : training on 165580 raw words (53360 effective words) took 0.6s, 93788 effective words/s\n",
            "2021-11-19 21:59:33,805 : INFO : worker thread finished; awaiting finish of 0 more threads\n",
            "2021-11-19 21:59:33,807 : INFO : EPOCH - 12 : training on 165580 raw words (53651 effective words) took 0.6s, 95117 effective words/s\n",
            "2021-11-19 21:59:34,379 : INFO : worker thread finished; awaiting finish of 0 more threads\n",
            "2021-11-19 21:59:34,381 : INFO : EPOCH - 13 : training on 165580 raw words (53319 effective words) took 0.6s, 94338 effective words/s\n",
            "2021-11-19 21:59:34,960 : INFO : worker thread finished; awaiting finish of 0 more threads\n",
            "2021-11-19 21:59:34,962 : INFO : EPOCH - 14 : training on 165580 raw words (53283 effective words) took 0.6s, 93298 effective words/s\n",
            "2021-11-19 21:59:35,525 : INFO : worker thread finished; awaiting finish of 0 more threads\n",
            "2021-11-19 21:59:35,527 : INFO : EPOCH - 15 : training on 165580 raw words (53017 effective words) took 0.6s, 95458 effective words/s\n",
            "2021-11-19 21:59:36,121 : INFO : worker thread finished; awaiting finish of 0 more threads\n",
            "2021-11-19 21:59:36,123 : INFO : EPOCH - 16 : training on 165580 raw words (53319 effective words) took 0.6s, 90990 effective words/s\n",
            "2021-11-19 21:59:36,690 : INFO : worker thread finished; awaiting finish of 0 more threads\n",
            "2021-11-19 21:59:36,692 : INFO : EPOCH - 17 : training on 165580 raw words (53524 effective words) took 0.6s, 95665 effective words/s\n",
            "2021-11-19 21:59:37,261 : INFO : worker thread finished; awaiting finish of 0 more threads\n",
            "2021-11-19 21:59:37,263 : INFO : EPOCH - 18 : training on 165580 raw words (53350 effective words) took 0.6s, 95051 effective words/s\n",
            "2021-11-19 21:59:37,848 : INFO : worker thread finished; awaiting finish of 0 more threads\n",
            "2021-11-19 21:59:37,850 : INFO : EPOCH - 19 : training on 165580 raw words (53205 effective words) took 0.6s, 92186 effective words/s\n",
            "2021-11-19 21:59:38,411 : INFO : worker thread finished; awaiting finish of 0 more threads\n",
            "2021-11-19 21:59:38,412 : INFO : EPOCH - 20 : training on 165580 raw words (53550 effective words) took 0.6s, 96765 effective words/s\n",
            "2021-11-19 21:59:38,986 : INFO : worker thread finished; awaiting finish of 0 more threads\n",
            "2021-11-19 21:59:38,987 : INFO : EPOCH - 21 : training on 165580 raw words (53399 effective words) took 0.6s, 94754 effective words/s\n",
            "2021-11-19 21:59:39,577 : INFO : worker thread finished; awaiting finish of 0 more threads\n",
            "2021-11-19 21:59:39,579 : INFO : EPOCH - 22 : training on 165580 raw words (53303 effective words) took 0.6s, 91696 effective words/s\n",
            "2021-11-19 21:59:40,153 : INFO : worker thread finished; awaiting finish of 0 more threads\n",
            "2021-11-19 21:59:40,155 : INFO : EPOCH - 23 : training on 165580 raw words (53383 effective words) took 0.6s, 94394 effective words/s\n",
            "2021-11-19 21:59:40,733 : INFO : worker thread finished; awaiting finish of 0 more threads\n",
            "2021-11-19 21:59:40,735 : INFO : EPOCH - 24 : training on 165580 raw words (53480 effective words) took 0.6s, 93773 effective words/s\n",
            "2021-11-19 21:59:41,315 : INFO : worker thread finished; awaiting finish of 0 more threads\n",
            "2021-11-19 21:59:41,318 : INFO : EPOCH - 25 : training on 165580 raw words (53357 effective words) took 0.6s, 93650 effective words/s\n",
            "2021-11-19 21:59:41,909 : INFO : worker thread finished; awaiting finish of 0 more threads\n",
            "2021-11-19 21:59:41,911 : INFO : EPOCH - 26 : training on 165580 raw words (53098 effective words) took 0.6s, 90856 effective words/s\n",
            "2021-11-19 21:59:42,489 : INFO : worker thread finished; awaiting finish of 0 more threads\n",
            "2021-11-19 21:59:42,492 : INFO : EPOCH - 27 : training on 165580 raw words (53337 effective words) took 0.6s, 93224 effective words/s\n",
            "2021-11-19 21:59:43,049 : INFO : worker thread finished; awaiting finish of 0 more threads\n",
            "2021-11-19 21:59:43,051 : INFO : EPOCH - 28 : training on 165580 raw words (53549 effective words) took 0.5s, 97397 effective words/s\n",
            "2021-11-19 21:59:43,645 : INFO : worker thread finished; awaiting finish of 0 more threads\n",
            "2021-11-19 21:59:43,646 : INFO : EPOCH - 29 : training on 165580 raw words (53526 effective words) took 0.6s, 91228 effective words/s\n",
            "2021-11-19 21:59:44,216 : INFO : worker thread finished; awaiting finish of 0 more threads\n",
            "2021-11-19 21:59:44,218 : INFO : EPOCH - 30 : training on 165580 raw words (53543 effective words) took 0.6s, 95227 effective words/s\n",
            "2021-11-19 21:59:44,818 : INFO : worker thread finished; awaiting finish of 0 more threads\n",
            "2021-11-19 21:59:44,819 : INFO : EPOCH - 31 : training on 165580 raw words (53127 effective words) took 0.6s, 89878 effective words/s\n",
            "2021-11-19 21:59:45,381 : INFO : worker thread finished; awaiting finish of 0 more threads\n",
            "2021-11-19 21:59:45,383 : INFO : EPOCH - 32 : training on 165580 raw words (53164 effective words) took 0.6s, 96075 effective words/s\n",
            "2021-11-19 21:59:45,955 : INFO : worker thread finished; awaiting finish of 0 more threads\n",
            "2021-11-19 21:59:45,958 : INFO : EPOCH - 33 : training on 165580 raw words (53248 effective words) took 0.6s, 94109 effective words/s\n",
            "2021-11-19 21:59:46,524 : INFO : worker thread finished; awaiting finish of 0 more threads\n",
            "2021-11-19 21:59:46,526 : INFO : EPOCH - 34 : training on 165580 raw words (52951 effective words) took 0.6s, 94723 effective words/s\n",
            "2021-11-19 21:59:47,087 : INFO : worker thread finished; awaiting finish of 0 more threads\n",
            "2021-11-19 21:59:47,089 : INFO : EPOCH - 35 : training on 165580 raw words (53429 effective words) took 0.6s, 96298 effective words/s\n",
            "2021-11-19 21:59:47,678 : INFO : worker thread finished; awaiting finish of 0 more threads\n",
            "2021-11-19 21:59:47,679 : INFO : EPOCH - 36 : training on 165580 raw words (53420 effective words) took 0.6s, 91992 effective words/s\n",
            "2021-11-19 21:59:48,269 : INFO : worker thread finished; awaiting finish of 0 more threads\n",
            "2021-11-19 21:59:48,271 : INFO : EPOCH - 37 : training on 165580 raw words (53338 effective words) took 0.6s, 91476 effective words/s\n",
            "2021-11-19 21:59:48,835 : INFO : worker thread finished; awaiting finish of 0 more threads\n",
            "2021-11-19 21:59:48,836 : INFO : EPOCH - 38 : training on 165580 raw words (53376 effective words) took 0.6s, 96318 effective words/s\n",
            "2021-11-19 21:59:49,414 : INFO : worker thread finished; awaiting finish of 0 more threads\n",
            "2021-11-19 21:59:49,415 : INFO : EPOCH - 39 : training on 165580 raw words (52904 effective words) took 0.6s, 92650 effective words/s\n",
            "2021-11-19 21:59:49,995 : INFO : worker thread finished; awaiting finish of 0 more threads\n",
            "2021-11-19 21:59:49,997 : INFO : EPOCH - 40 : training on 165580 raw words (53329 effective words) took 0.6s, 93550 effective words/s\n",
            "2021-11-19 21:59:49,998 : INFO : Doc2Vec lifecycle event {'msg': 'training on 6623200 raw words (2132693 effective words) took 23.4s, 91223 effective words/s', 'datetime': '2021-11-19T21:59:49.998863', 'gensim': '4.1.2', 'python': '3.7.12 (default, Sep 10 2021, 00:21:48) \\n[GCC 7.5.0]', 'platform': 'Linux-5.4.104+-x86_64-with-Ubuntu-18.04-bionic', 'event': 'train'}\n",
            "2021-11-19 21:59:50,000 : INFO : Doc2Vec lifecycle event {'params': 'Doc2Vec(dm/m,d100,n10,w2,s0.001)', 'datetime': '2021-11-19T21:59:50.000753', 'gensim': '4.1.2', 'python': '3.7.12 (default, Sep 10 2021, 00:21:48) \\n[GCC 7.5.0]', 'platform': 'Linux-5.4.104+-x86_64-with-Ubuntu-18.04-bionic', 'event': 'created'}\n"
          ]
        }
      ]
    },
    {
      "cell_type": "markdown",
      "metadata": {
        "id": "jJvq2K93xAO5"
      },
      "source": [
        "### Test the distance between C and the diatonic chords\n",
        "\n",
        "Test if the model can capture that the diatonic chords are closer to the root.\n",
        "\n",
        "Do this only if the input corpus contains the unigrams. "
      ]
    },
    {
      "cell_type": "code",
      "metadata": {
        "colab": {
          "base_uri": "https://localhost:8080/"
        },
        "id": "cH3TJxCfvoFm",
        "outputId": "d40f96a1-04dc-433a-b147-fdcb6e31acb3"
      },
      "source": [
        "test_tokens = ['C',\n",
        "              'Dm',\n",
        "              'Em',\n",
        "              'F',\n",
        "              'G7',\n",
        "              'Am',\n",
        "              'Bm7b5',\n",
        "              'F7',\n",
        "              'D7',\n",
        "              'A7',\n",
        "              'E7',\n",
        "              'B7',\n",
        "              'F#7',\n",
        "               'Cm',\n",
        "               'D']\n",
        "\n",
        "if 1 in ngrams_for_input:\n",
        "  ref = 'C'\n",
        "  for t in test_tokens:\n",
        "    print(f\"{model.wv.similarity(ref, t):.3f}: {ref} <-> {t}\")"
      ],
      "execution_count": 759,
      "outputs": [
        {
          "output_type": "stream",
          "name": "stdout",
          "text": [
            "1.000: C <-> C\n",
            "0.746: C <-> Dm\n",
            "0.594: C <-> Em\n",
            "0.578: C <-> F\n",
            "0.629: C <-> G7\n",
            "0.632: C <-> Am\n",
            "0.588: C <-> Bm7b5\n",
            "0.463: C <-> F7\n",
            "0.598: C <-> D7\n",
            "0.732: C <-> A7\n",
            "0.678: C <-> E7\n",
            "0.597: C <-> B7\n",
            "0.247: C <-> F#7\n",
            "0.449: C <-> Cm\n",
            "0.428: C <-> D\n"
          ]
        }
      ]
    },
    {
      "cell_type": "code",
      "metadata": {
        "id": "IfIRoWL4kpcB"
      },
      "source": [
        "if 1 in ngrams_for_input:\n",
        "  model.wv.similar_by_word('C', topn=20)"
      ],
      "execution_count": 760,
      "outputs": []
    },
    {
      "cell_type": "markdown",
      "metadata": {
        "id": "ix4n9S3_xQzD"
      },
      "source": [
        "Plot the generated word vectors in 2D space"
      ]
    },
    {
      "cell_type": "code",
      "metadata": {
        "colab": {
          "base_uri": "https://localhost:8080/",
          "height": 711
        },
        "id": "JjT_uNh0wthj",
        "outputId": "879caeae-b888-4d84-ee6b-38c0e68f854a"
      },
      "source": [
        "from sklearn.manifold import TSNE\n",
        "\n",
        "# input data: vectors for all tokens\n",
        "weights = model.wv.vectors\n",
        "\n",
        "# only do this when the vocabulary is not too big....\n",
        "if len(weights) < 100:\n",
        "\n",
        "  # do T-SNE\n",
        "  tsne = TSNE(n_components=2, \n",
        "              random_state=42,\n",
        "              perplexity=30,\n",
        "              learning_rate='auto',\n",
        "              init='pca',\n",
        "              n_iter=2000\n",
        "              )\n",
        "  T = tsne.fit_transform(weights)\n",
        "\n",
        "  # plot\n",
        "  projected = pd.DataFrame(T)\n",
        "\n",
        "  fig = px.scatter(\n",
        "      projected, \n",
        "      x=0, y=1,\n",
        "      #color='mode',\n",
        "      text=model.wv.index_to_key,\n",
        "      width=800, height=600,\n",
        "      title=\"T-SNE applied to Chord Vectors for Tunes in Cmaj/Amin\"\n",
        "  )\n",
        "  fig.update_traces(textposition='top center')\n",
        "  fig.update_traces(textfont_size=12, selector=dict(type='scatter'))\n",
        "  fig.show()"
      ],
      "execution_count": 761,
      "outputs": [
        {
          "output_type": "stream",
          "name": "stderr",
          "text": [
            "/usr/local/lib/python3.7/dist-packages/sklearn/manifold/_t_sne.py:986: FutureWarning:\n",
            "\n",
            "The PCA initialization in TSNE will change to have the standard deviation of PC1 equal to 1e-4 in 1.2. This will ensure better convergence.\n",
            "\n"
          ]
        },
        {
          "output_type": "display_data",
          "data": {
            "text/html": [
              "<html>\n",
              "<head><meta charset=\"utf-8\" /></head>\n",
              "<body>\n",
              "    <div>\n",
              "            <script src=\"https://cdnjs.cloudflare.com/ajax/libs/mathjax/2.7.5/MathJax.js?config=TeX-AMS-MML_SVG\"></script><script type=\"text/javascript\">if (window.MathJax) {MathJax.Hub.Config({SVG: {font: \"STIX-Web\"}});}</script>\n",
              "                <script type=\"text/javascript\">window.PlotlyConfig = {MathJaxConfig: 'local'};</script>\n",
              "        <script src=\"https://cdn.plot.ly/plotly-latest.min.js\"></script>    \n",
              "            <div id=\"217011ad-3569-4182-a6f2-1181767b55f4\" class=\"plotly-graph-div\" style=\"height:600px; width:800px;\"></div>\n",
              "            <script type=\"text/javascript\">\n",
              "                \n",
              "                    window.PLOTLYENV=window.PLOTLYENV || {};\n",
              "                    \n",
              "                if (document.getElementById(\"217011ad-3569-4182-a6f2-1181767b55f4\")) {\n",
              "                    Plotly.newPlot(\n",
              "                        '217011ad-3569-4182-a6f2-1181767b55f4',\n",
              "                        [{\"hoverlabel\": {\"namelength\": 0}, \"hovertemplate\": \"0=%{x}<br>1=%{y}<br>text=%{text}\", \"legendgroup\": \"\", \"marker\": {\"color\": \"#636efa\", \"symbol\": \"circle\"}, \"mode\": \"markers+text\", \"name\": \"\", \"showlegend\": false, \"text\": [\"C\", \"G7\", \"Dm\", \"Am\", \"A7\", \"D7\", \"F\", \"C7\", \"E7\", \"Em\", \"F7\", \"Bb7\", \"Fm\", \"B7\", \"Gm\", \"G#7\", \"Bm7b5\", \"G\", \"Ebdim\", \"Eb7\", \"Cm\", \"F#m7b5\", \"G#\", \"Bm\", \"C#7\", \"Bb\", \"Em7b5\", \"E\", \"F#m\", \"F#7\", \"Eb\", \"F#dim\", \"C#dim\", \"Ebm\", \"C#\", \"A\", \"Dm7b5\", \"Bbm\", \"D\", \"C#m\", \"Cdim\", \"B\", \"G#m\", \"F#\", \"G#dim\", \"Am7b5\", \"Fdim\", \"Gdim\", \"G7(+b5)\", \"C#m7b5\", \"E7(+b5)\", \"Adim\", \"F#7(+b5)\", \"Gm7b5\", \"A7(+b5)\", \"B7(+b5)\", \"Edim\", \"G#m7b5\", \"C#7(+b5)\", \"Bb7(+b5)\", \"Fm7b5\", \"D7(+b5)\", \"Bbdim\", \"Bbm7b5\", \"C7(+b5)\", \"Bdim\", \"Ddim\", \"Ebm7b5\", \"G#7(+b5)\", \"F7(+b5)\", \"Cm7b5\", \"Eb7(+b5)\"], \"textfont\": {\"size\": 12}, \"textposition\": \"top center\", \"type\": \"scatter\", \"x\": [-4.362611770629883, -4.1332926750183105, -4.018264293670654, -4.296170711517334, -4.465369701385498, -4.040106296539307, -4.020880699157715, -4.388420104980469, -4.711346626281738, -4.78780460357666, -4.168992042541504, -4.421543121337891, -4.283977508544922, -4.059448719024658, -4.6149444580078125, -3.5619935989379883, -4.313222408294678, -4.082512378692627, -3.113600492477417, -5.4752888679504395, -5.301987648010254, -5.019647121429443, -5.018642902374268, -3.8075826168060303, -4.892946243286133, -4.751346588134766, -3.239539623260498, -4.5772175788879395, -3.911653757095337, -5.683029651641846, -5.656022071838379, -4.194397449493408, -4.246756076812744, -4.894686222076416, -5.111361503601074, -4.551064968109131, -3.656508445739746, -5.437687873840332, -4.594053268432617, -6.340364933013916, -4.0243449211120605, -4.402787685394287, -4.968337059020996, -6.030900478363037, -3.749478578567505, -2.963193893432617, -2.9218733310699463, -2.8799614906311035, -1.4001786708831787, -3.4921350479125977, -1.8206731081008911, -5.1125874519348145, -2.8220458030700684, -5.557826995849609, -1.7503840923309326, -2.0978469848632812, -3.476313352584839, -3.9010329246520996, -1.8731149435043335, -1.6252496242523193, -5.857386589050293, -2.041288375854492, -5.491980075836182, -3.1234054565429688, -1.7362889051437378, -5.53906774520874, -4.33626651763916, -2.160238742828369, -1.9577748775482178, -2.7132656574249268, -6.340374946594238, -2.949859142303467], \"xaxis\": \"x\", \"y\": [2.17197847366333, 2.209778070449829, 2.15348219871521, 2.1979024410247803, 2.2387020587921143, 2.1888062953948975, 2.165062427520752, 2.161160469055176, 2.1333465576171875, 2.0886130332946777, 2.4788968563079834, 2.4346728324890137, 2.1700801849365234, 2.8766372203826904, 2.137831926345825, 2.105355978012085, 2.217923164367676, 2.9915144443511963, 2.2958295345306396, 2.914553642272949, 2.891202211380005, 1.5730243921279907, 3.4180614948272705, 3.435407876968384, 3.7133779525756836, 3.031081438064575, 1.7209582328796387, 4.265109539031982, 3.644909143447876, 1.8903931379318237, 2.807786703109741, 1.4895144701004028, 1.383221983909607, 3.3547332286834717, 3.3153862953186035, 3.4083516597747803, 1.7589372396469116, 2.5644307136535645, 3.2511465549468994, 2.405611276626587, 1.0565202236175537, 4.582516193389893, 4.4907546043396, 3.374467372894287, 1.105657935142517, 2.6269266605377197, 2.125868320465088, 3.0668084621429443, 1.4591333866119385, 3.9720444679260254, 1.6115466356277466, 0.17306208610534668, 0.604938805103302, 4.185449600219727, 2.511211633682251, 3.6436257362365723, 0.5925653576850891, 4.886514663696289, 3.780378580093384, 1.7234166860580444, 4.588052749633789, 1.2436554431915283, 0.6839731931686401, 5.123192310333252, 1.6980724334716797, 0.8609412312507629, 0.23406252264976501, 4.121506690979004, 3.535304307937622, 4.807175159454346, 3.8707025051116943, 4.703593730926514], \"yaxis\": \"y\"}],\n",
              "                        {\"height\": 600, \"legend\": {\"tracegroupgap\": 0}, \"template\": {\"data\": {\"bar\": [{\"error_x\": {\"color\": \"#2a3f5f\"}, \"error_y\": {\"color\": \"#2a3f5f\"}, \"marker\": {\"line\": {\"color\": \"#E5ECF6\", \"width\": 0.5}}, \"type\": \"bar\"}], \"barpolar\": [{\"marker\": {\"line\": {\"color\": \"#E5ECF6\", \"width\": 0.5}}, \"type\": \"barpolar\"}], \"carpet\": [{\"aaxis\": {\"endlinecolor\": \"#2a3f5f\", \"gridcolor\": \"white\", \"linecolor\": \"white\", \"minorgridcolor\": \"white\", \"startlinecolor\": \"#2a3f5f\"}, \"baxis\": {\"endlinecolor\": \"#2a3f5f\", \"gridcolor\": \"white\", \"linecolor\": \"white\", \"minorgridcolor\": \"white\", \"startlinecolor\": \"#2a3f5f\"}, \"type\": \"carpet\"}], \"choropleth\": [{\"colorbar\": {\"outlinewidth\": 0, \"ticks\": \"\"}, \"type\": \"choropleth\"}], \"contour\": [{\"colorbar\": {\"outlinewidth\": 0, \"ticks\": \"\"}, \"colorscale\": [[0.0, \"#0d0887\"], [0.1111111111111111, \"#46039f\"], [0.2222222222222222, \"#7201a8\"], [0.3333333333333333, \"#9c179e\"], [0.4444444444444444, \"#bd3786\"], [0.5555555555555556, \"#d8576b\"], [0.6666666666666666, \"#ed7953\"], [0.7777777777777778, \"#fb9f3a\"], [0.8888888888888888, \"#fdca26\"], [1.0, \"#f0f921\"]], \"type\": \"contour\"}], \"contourcarpet\": [{\"colorbar\": {\"outlinewidth\": 0, \"ticks\": \"\"}, \"type\": \"contourcarpet\"}], \"heatmap\": [{\"colorbar\": {\"outlinewidth\": 0, \"ticks\": \"\"}, \"colorscale\": [[0.0, \"#0d0887\"], [0.1111111111111111, \"#46039f\"], [0.2222222222222222, \"#7201a8\"], [0.3333333333333333, \"#9c179e\"], [0.4444444444444444, \"#bd3786\"], [0.5555555555555556, \"#d8576b\"], [0.6666666666666666, \"#ed7953\"], [0.7777777777777778, \"#fb9f3a\"], [0.8888888888888888, \"#fdca26\"], [1.0, \"#f0f921\"]], \"type\": \"heatmap\"}], \"heatmapgl\": [{\"colorbar\": {\"outlinewidth\": 0, \"ticks\": \"\"}, \"colorscale\": [[0.0, \"#0d0887\"], [0.1111111111111111, \"#46039f\"], [0.2222222222222222, \"#7201a8\"], [0.3333333333333333, \"#9c179e\"], [0.4444444444444444, \"#bd3786\"], [0.5555555555555556, \"#d8576b\"], [0.6666666666666666, \"#ed7953\"], [0.7777777777777778, \"#fb9f3a\"], [0.8888888888888888, \"#fdca26\"], [1.0, \"#f0f921\"]], \"type\": \"heatmapgl\"}], \"histogram\": [{\"marker\": {\"colorbar\": {\"outlinewidth\": 0, \"ticks\": \"\"}}, \"type\": \"histogram\"}], \"histogram2d\": [{\"colorbar\": {\"outlinewidth\": 0, \"ticks\": \"\"}, \"colorscale\": [[0.0, \"#0d0887\"], [0.1111111111111111, \"#46039f\"], [0.2222222222222222, \"#7201a8\"], [0.3333333333333333, \"#9c179e\"], [0.4444444444444444, \"#bd3786\"], [0.5555555555555556, \"#d8576b\"], [0.6666666666666666, \"#ed7953\"], [0.7777777777777778, \"#fb9f3a\"], [0.8888888888888888, \"#fdca26\"], [1.0, \"#f0f921\"]], \"type\": \"histogram2d\"}], \"histogram2dcontour\": [{\"colorbar\": {\"outlinewidth\": 0, \"ticks\": \"\"}, \"colorscale\": [[0.0, \"#0d0887\"], [0.1111111111111111, \"#46039f\"], [0.2222222222222222, \"#7201a8\"], [0.3333333333333333, \"#9c179e\"], [0.4444444444444444, \"#bd3786\"], [0.5555555555555556, \"#d8576b\"], [0.6666666666666666, \"#ed7953\"], [0.7777777777777778, \"#fb9f3a\"], [0.8888888888888888, \"#fdca26\"], [1.0, \"#f0f921\"]], \"type\": \"histogram2dcontour\"}], \"mesh3d\": [{\"colorbar\": {\"outlinewidth\": 0, \"ticks\": \"\"}, \"type\": \"mesh3d\"}], \"parcoords\": [{\"line\": {\"colorbar\": {\"outlinewidth\": 0, \"ticks\": \"\"}}, \"type\": \"parcoords\"}], \"pie\": [{\"automargin\": true, \"type\": \"pie\"}], \"scatter\": [{\"marker\": {\"colorbar\": {\"outlinewidth\": 0, \"ticks\": \"\"}}, \"type\": \"scatter\"}], \"scatter3d\": [{\"line\": {\"colorbar\": {\"outlinewidth\": 0, \"ticks\": \"\"}}, \"marker\": {\"colorbar\": {\"outlinewidth\": 0, \"ticks\": \"\"}}, \"type\": \"scatter3d\"}], \"scattercarpet\": [{\"marker\": {\"colorbar\": {\"outlinewidth\": 0, \"ticks\": \"\"}}, \"type\": \"scattercarpet\"}], \"scattergeo\": [{\"marker\": {\"colorbar\": {\"outlinewidth\": 0, \"ticks\": \"\"}}, \"type\": \"scattergeo\"}], \"scattergl\": [{\"marker\": {\"colorbar\": {\"outlinewidth\": 0, \"ticks\": \"\"}}, \"type\": \"scattergl\"}], \"scattermapbox\": [{\"marker\": {\"colorbar\": {\"outlinewidth\": 0, \"ticks\": \"\"}}, \"type\": \"scattermapbox\"}], \"scatterpolar\": [{\"marker\": {\"colorbar\": {\"outlinewidth\": 0, \"ticks\": \"\"}}, \"type\": \"scatterpolar\"}], \"scatterpolargl\": [{\"marker\": {\"colorbar\": {\"outlinewidth\": 0, \"ticks\": \"\"}}, \"type\": \"scatterpolargl\"}], \"scatterternary\": [{\"marker\": {\"colorbar\": {\"outlinewidth\": 0, \"ticks\": \"\"}}, \"type\": \"scatterternary\"}], \"surface\": [{\"colorbar\": {\"outlinewidth\": 0, \"ticks\": \"\"}, \"colorscale\": [[0.0, \"#0d0887\"], [0.1111111111111111, \"#46039f\"], [0.2222222222222222, \"#7201a8\"], [0.3333333333333333, \"#9c179e\"], [0.4444444444444444, \"#bd3786\"], [0.5555555555555556, \"#d8576b\"], [0.6666666666666666, \"#ed7953\"], [0.7777777777777778, \"#fb9f3a\"], [0.8888888888888888, \"#fdca26\"], [1.0, \"#f0f921\"]], \"type\": \"surface\"}], \"table\": [{\"cells\": {\"fill\": {\"color\": \"#EBF0F8\"}, \"line\": {\"color\": \"white\"}}, \"header\": {\"fill\": {\"color\": \"#C8D4E3\"}, \"line\": {\"color\": \"white\"}}, \"type\": \"table\"}]}, \"layout\": {\"annotationdefaults\": {\"arrowcolor\": \"#2a3f5f\", \"arrowhead\": 0, \"arrowwidth\": 1}, \"coloraxis\": {\"colorbar\": {\"outlinewidth\": 0, \"ticks\": \"\"}}, \"colorscale\": {\"diverging\": [[0, \"#8e0152\"], [0.1, \"#c51b7d\"], [0.2, \"#de77ae\"], [0.3, \"#f1b6da\"], [0.4, \"#fde0ef\"], [0.5, \"#f7f7f7\"], [0.6, \"#e6f5d0\"], [0.7, \"#b8e186\"], [0.8, \"#7fbc41\"], [0.9, \"#4d9221\"], [1, \"#276419\"]], \"sequential\": [[0.0, \"#0d0887\"], [0.1111111111111111, \"#46039f\"], [0.2222222222222222, \"#7201a8\"], [0.3333333333333333, \"#9c179e\"], [0.4444444444444444, \"#bd3786\"], [0.5555555555555556, \"#d8576b\"], [0.6666666666666666, \"#ed7953\"], [0.7777777777777778, \"#fb9f3a\"], [0.8888888888888888, \"#fdca26\"], [1.0, \"#f0f921\"]], \"sequentialminus\": [[0.0, \"#0d0887\"], [0.1111111111111111, \"#46039f\"], [0.2222222222222222, \"#7201a8\"], [0.3333333333333333, \"#9c179e\"], [0.4444444444444444, \"#bd3786\"], [0.5555555555555556, \"#d8576b\"], [0.6666666666666666, \"#ed7953\"], [0.7777777777777778, \"#fb9f3a\"], [0.8888888888888888, \"#fdca26\"], [1.0, \"#f0f921\"]]}, \"colorway\": [\"#636efa\", \"#EF553B\", \"#00cc96\", \"#ab63fa\", \"#FFA15A\", \"#19d3f3\", \"#FF6692\", \"#B6E880\", \"#FF97FF\", \"#FECB52\"], \"font\": {\"color\": \"#2a3f5f\"}, \"geo\": {\"bgcolor\": \"white\", \"lakecolor\": \"white\", \"landcolor\": \"#E5ECF6\", \"showlakes\": true, \"showland\": true, \"subunitcolor\": \"white\"}, \"hoverlabel\": {\"align\": \"left\"}, \"hovermode\": \"closest\", \"mapbox\": {\"style\": \"light\"}, \"paper_bgcolor\": \"white\", \"plot_bgcolor\": \"#E5ECF6\", \"polar\": {\"angularaxis\": {\"gridcolor\": \"white\", \"linecolor\": \"white\", \"ticks\": \"\"}, \"bgcolor\": \"#E5ECF6\", \"radialaxis\": {\"gridcolor\": \"white\", \"linecolor\": \"white\", \"ticks\": \"\"}}, \"scene\": {\"xaxis\": {\"backgroundcolor\": \"#E5ECF6\", \"gridcolor\": \"white\", \"gridwidth\": 2, \"linecolor\": \"white\", \"showbackground\": true, \"ticks\": \"\", \"zerolinecolor\": \"white\"}, \"yaxis\": {\"backgroundcolor\": \"#E5ECF6\", \"gridcolor\": \"white\", \"gridwidth\": 2, \"linecolor\": \"white\", \"showbackground\": true, \"ticks\": \"\", \"zerolinecolor\": \"white\"}, \"zaxis\": {\"backgroundcolor\": \"#E5ECF6\", \"gridcolor\": \"white\", \"gridwidth\": 2, \"linecolor\": \"white\", \"showbackground\": true, \"ticks\": \"\", \"zerolinecolor\": \"white\"}}, \"shapedefaults\": {\"line\": {\"color\": \"#2a3f5f\"}}, \"ternary\": {\"aaxis\": {\"gridcolor\": \"white\", \"linecolor\": \"white\", \"ticks\": \"\"}, \"baxis\": {\"gridcolor\": \"white\", \"linecolor\": \"white\", \"ticks\": \"\"}, \"bgcolor\": \"#E5ECF6\", \"caxis\": {\"gridcolor\": \"white\", \"linecolor\": \"white\", \"ticks\": \"\"}}, \"title\": {\"x\": 0.05}, \"xaxis\": {\"automargin\": true, \"gridcolor\": \"white\", \"linecolor\": \"white\", \"ticks\": \"\", \"title\": {\"standoff\": 15}, \"zerolinecolor\": \"white\", \"zerolinewidth\": 2}, \"yaxis\": {\"automargin\": true, \"gridcolor\": \"white\", \"linecolor\": \"white\", \"ticks\": \"\", \"title\": {\"standoff\": 15}, \"zerolinecolor\": \"white\", \"zerolinewidth\": 2}}}, \"title\": {\"text\": \"T-SNE applied to Chord Vectors for Tunes in Cmaj/Amin\"}, \"width\": 800, \"xaxis\": {\"anchor\": \"y\", \"domain\": [0.0, 1.0], \"title\": {\"text\": \"0\"}}, \"yaxis\": {\"anchor\": \"x\", \"domain\": [0.0, 1.0], \"title\": {\"text\": \"1\"}}},\n",
              "                        {\"responsive\": true}\n",
              "                    ).then(function(){\n",
              "                            \n",
              "var gd = document.getElementById('217011ad-3569-4182-a6f2-1181767b55f4');\n",
              "var x = new MutationObserver(function (mutations, observer) {{\n",
              "        var display = window.getComputedStyle(gd).display;\n",
              "        if (!display || display === 'none') {{\n",
              "            console.log([gd, 'removed!']);\n",
              "            Plotly.purge(gd);\n",
              "            observer.disconnect();\n",
              "        }}\n",
              "}});\n",
              "\n",
              "// Listen for the removal of the full notebook cells\n",
              "var notebookContainer = gd.closest('#notebook-container');\n",
              "if (notebookContainer) {{\n",
              "    x.observe(notebookContainer, {childList: true});\n",
              "}}\n",
              "\n",
              "// Listen for the clearing of the current output cell\n",
              "var outputEl = gd.closest('.output');\n",
              "if (outputEl) {{\n",
              "    x.observe(outputEl, {childList: true});\n",
              "}}\n",
              "\n",
              "                        })\n",
              "                };\n",
              "                \n",
              "            </script>\n",
              "        </div>\n",
              "</body>\n",
              "</html>"
            ]
          },
          "metadata": {}
        }
      ]
    },
    {
      "cell_type": "markdown",
      "metadata": {
        "id": "PzabYlA89QpY"
      },
      "source": [
        "### Test for single tunes"
      ]
    },
    {
      "cell_type": "code",
      "metadata": {
        "colab": {
          "base_uri": "https://localhost:8080/"
        },
        "id": "wYI6NZimAn6a",
        "outputId": "9a645485-0eb3-46cb-a164-fb84c4f370e2"
      },
      "source": [
        "len(sectionid_to_section)"
      ],
      "execution_count": 762,
      "outputs": [
        {
          "output_type": "execute_result",
          "data": {
            "text/plain": [
              "5403"
            ]
          },
          "metadata": {},
          "execution_count": 762
        }
      ]
    },
    {
      "cell_type": "code",
      "metadata": {
        "colab": {
          "base_uri": "https://localhost:8080/"
        },
        "id": "8ho0HdILB4zq",
        "outputId": "250eb1b6-1deb-44fb-efe8-22e6f6d60379"
      },
      "source": [
        "len(model.dv)"
      ],
      "execution_count": 763,
      "outputs": [
        {
          "output_type": "execute_result",
          "data": {
            "text/plain": [
              "7215"
            ]
          },
          "metadata": {},
          "execution_count": 763
        }
      ]
    },
    {
      "cell_type": "code",
      "metadata": {
        "colab": {
          "base_uri": "https://localhost:8080/"
        },
        "id": "5Z2jZALS-7et",
        "outputId": "1f717220-4fe1-439a-8a96-f3acf9848566"
      },
      "source": [
        "title_to_sectionid['These Foolish Things']"
      ],
      "execution_count": 764,
      "outputs": [
        {
          "output_type": "execute_result",
          "data": {
            "text/plain": [
              "[3866, 3867, 3868, 3869]"
            ]
          },
          "metadata": {},
          "execution_count": 764
        }
      ]
    },
    {
      "cell_type": "code",
      "metadata": {
        "id": "Y1GQemnx_jYJ"
      },
      "source": [
        "section_key = 3868"
      ],
      "execution_count": 765,
      "outputs": []
    },
    {
      "cell_type": "code",
      "metadata": {
        "colab": {
          "base_uri": "https://localhost:8080/"
        },
        "id": "ac5NyHbS-_2l",
        "outputId": "b291bfb3-105d-4f68-ee12-199aa65836e0"
      },
      "source": [
        "model.dv.similar_by_key(section_key, topn=20)"
      ],
      "execution_count": 766,
      "outputs": [
        {
          "output_type": "execute_result",
          "data": {
            "text/plain": [
              "[(1889, 0.8104585409164429),\n",
              " (2760, 0.7966096997261047),\n",
              " (1166, 0.7420021891593933),\n",
              " (1283, 0.7402357459068298),\n",
              " (1511, 0.7371323108673096),\n",
              " (5136, 0.7291520237922668),\n",
              " (3296, 0.7258016467094421),\n",
              " (3595, 0.7229234576225281),\n",
              " (5316, 0.7193516492843628),\n",
              " ('titleid_1170', 0.710716962814331),\n",
              " (5011, 0.7084869146347046),\n",
              " (1514, 0.7073755860328674),\n",
              " (1906, 0.7019268870353699),\n",
              " ('titleid_464', 0.699430525302887),\n",
              " (51, 0.6843920946121216),\n",
              " (311, 0.6798987984657288),\n",
              " (4799, 0.6794383525848389),\n",
              " (3875, 0.6720521450042725),\n",
              " (3234, 0.6661337614059448),\n",
              " ('titleid_1244', 0.665622889995575)]"
            ]
          },
          "metadata": {},
          "execution_count": 766
        }
      ]
    },
    {
      "cell_type": "code",
      "metadata": {
        "colab": {
          "base_uri": "https://localhost:8080/",
          "height": 36
        },
        "id": "7rMyQRbdB_Iv",
        "outputId": "aa74cd92-8471-4408-cdf7-f55471d61749"
      },
      "source": [
        "sectionid_to_section[1889]"
      ],
      "execution_count": 767,
      "outputs": [
        {
          "output_type": "execute_result",
          "data": {
            "application/vnd.google.colaboratory.intrinsic+json": {
              "type": "string"
            },
            "text/plain": [
              "\"I've Told Eve'ry Little Star, section3 (B)\""
            ]
          },
          "metadata": {},
          "execution_count": 767
        }
      ]
    },
    {
      "cell_type": "code",
      "metadata": {
        "colab": {
          "base_uri": "https://localhost:8080/",
          "height": 175
        },
        "id": "BfUVTfdKB9sZ",
        "outputId": "a134c2a1-c483-497b-996c-01b898e5417f"
      },
      "source": [
        "titles.query('title == \"These Foolish Things\"')"
      ],
      "execution_count": 768,
      "outputs": [
        {
          "output_type": "execute_result",
          "data": {
            "text/html": [
              "<div>\n",
              "<style scoped>\n",
              "    .dataframe tbody tr th:only-of-type {\n",
              "        vertical-align: middle;\n",
              "    }\n",
              "\n",
              "    .dataframe tbody tr th {\n",
              "        vertical-align: top;\n",
              "    }\n",
              "\n",
              "    .dataframe thead th {\n",
              "        text-align: right;\n",
              "    }\n",
              "</style>\n",
              "<table border=\"1\" class=\"dataframe\">\n",
              "  <thead>\n",
              "    <tr style=\"text-align: right;\">\n",
              "      <th></th>\n",
              "      <th>id</th>\n",
              "      <th>tune_id</th>\n",
              "      <th>section_id</th>\n",
              "      <th>section_name</th>\n",
              "      <th>title</th>\n",
              "      <th>tune_mode</th>\n",
              "    </tr>\n",
              "  </thead>\n",
              "  <tbody>\n",
              "    <tr>\n",
              "      <th>3866</th>\n",
              "      <td>3866</td>\n",
              "      <td>1170</td>\n",
              "      <td>1</td>\n",
              "      <td>A</td>\n",
              "      <td>These Foolish Things</td>\n",
              "      <td>major</td>\n",
              "    </tr>\n",
              "    <tr>\n",
              "      <th>3867</th>\n",
              "      <td>3867</td>\n",
              "      <td>1170</td>\n",
              "      <td>2</td>\n",
              "      <td>A</td>\n",
              "      <td>These Foolish Things</td>\n",
              "      <td>major</td>\n",
              "    </tr>\n",
              "    <tr>\n",
              "      <th>3868</th>\n",
              "      <td>3868</td>\n",
              "      <td>1170</td>\n",
              "      <td>3</td>\n",
              "      <td>B</td>\n",
              "      <td>These Foolish Things</td>\n",
              "      <td>major</td>\n",
              "    </tr>\n",
              "    <tr>\n",
              "      <th>3869</th>\n",
              "      <td>3869</td>\n",
              "      <td>1170</td>\n",
              "      <td>4</td>\n",
              "      <td>A</td>\n",
              "      <td>These Foolish Things</td>\n",
              "      <td>major</td>\n",
              "    </tr>\n",
              "  </tbody>\n",
              "</table>\n",
              "</div>"
            ],
            "text/plain": [
              "        id  tune_id  section_id section_name                 title tune_mode\n",
              "3866  3866     1170           1            A  These Foolish Things     major\n",
              "3867  3867     1170           2            A  These Foolish Things     major\n",
              "3868  3868     1170           3            B  These Foolish Things     major\n",
              "3869  3869     1170           4            A  These Foolish Things     major"
            ]
          },
          "metadata": {},
          "execution_count": 768
        }
      ]
    },
    {
      "cell_type": "code",
      "metadata": {
        "id": "vYKXvxxbBeIe"
      },
      "source": [
        "tune_key = 'titleid_1170'"
      ],
      "execution_count": 769,
      "outputs": []
    },
    {
      "cell_type": "code",
      "metadata": {
        "colab": {
          "base_uri": "https://localhost:8080/"
        },
        "id": "wfmnL7QrCFhz",
        "outputId": "1bbb9d8a-e46e-4848-d153-5b612657a871"
      },
      "source": [
        "model.dv.similar_by_key(tune_key, topn=20)"
      ],
      "execution_count": 770,
      "outputs": [
        {
          "output_type": "execute_result",
          "data": {
            "text/plain": [
              "[('titleid_616', 0.7653118968009949),\n",
              " (3867, 0.7396513819694519),\n",
              " ('titleid_520', 0.7178188562393188),\n",
              " (1889, 0.7116326689720154),\n",
              " (3868, 0.7107169032096863),\n",
              " (1698, 0.6806668043136597),\n",
              " ('titleid_1240', 0.6595369577407837),\n",
              " (2031, 0.6540782451629639),\n",
              " (1511, 0.6465381383895874),\n",
              " (2033, 0.6448988318443298),\n",
              " ('titleid_521', 0.6437559723854065),\n",
              " ('titleid_1334', 0.6411613821983337),\n",
              " (311, 0.6371945142745972),\n",
              " (1166, 0.6207894086837769),\n",
              " ('titleid_164', 0.6198546886444092),\n",
              " ('titleid_1517', 0.6185333132743835),\n",
              " (4347, 0.6144623160362244),\n",
              " (1514, 0.6139699220657349),\n",
              " (3796, 0.613869845867157),\n",
              " (3282, 0.6052935123443604)]"
            ]
          },
          "metadata": {},
          "execution_count": 770
        }
      ]
    },
    {
      "cell_type": "code",
      "metadata": {
        "colab": {
          "base_uri": "https://localhost:8080/"
        },
        "id": "Cp0brM80CSK2",
        "outputId": "2b0d603d-d890-432e-de90-f3a1f18b8ded"
      },
      "source": [
        "titles.iloc[755]"
      ],
      "execution_count": 771,
      "outputs": [
        {
          "output_type": "execute_result",
          "data": {
            "text/plain": [
              "id                                           755\n",
              "tune_id                                      234\n",
              "section_id                                     5\n",
              "section_name                                   D\n",
              "title           Chega De Saudade (No More Blues)\n",
              "tune_mode                                  minor\n",
              "Name: 755, dtype: object"
            ]
          },
          "metadata": {},
          "execution_count": 771
        }
      ]
    },
    {
      "cell_type": "markdown",
      "metadata": {
        "id": "ajqb904KDwNV"
      },
      "source": [
        "#### Section Similarity\n"
      ]
    },
    {
      "cell_type": "code",
      "metadata": {
        "id": "mPnEPL_k4TZn"
      },
      "source": [
        "def get_section_scores_doc2vec(tunes):\n",
        "\n",
        "    df_sim = pd.DataFrame(columns=['reference_title',\n",
        "                                  'similar_title',\n",
        "                                  'ref_section', \n",
        "                                  'similar_section', \n",
        "                                  'score', \n",
        "                                  ])\n",
        "\n",
        "    for tune in tunes:\n",
        "      print()\n",
        "      print(\"-\"*50)\n",
        "      for s1 in title_to_sectionid[tune]:\n",
        "      \n",
        "          # sections are tagged with the numeric sectionid and can be used for querying\n",
        "          sims = model.dv.similar_by_key(key, topn=40)\n",
        "          \n",
        "          print(s1, sectionid_to_section[s1])\n",
        "          n = 0\n",
        "          for s2, s2_score in sims:\n",
        "              if type(s2) == int:  # only consider similarities to sectionids; tuneids are strings\n",
        "                  # don't count self-similarity between sections of the same tune\n",
        "                  if s2 not in title_to_sectionid[tune]:\n",
        "                      n += 1\n",
        "                  \n",
        "                      # print(f\"\\t{s2_score:.3f} {sectionid_to_section[s2]}\")\n",
        "\n",
        "                      df_sim.loc[len(df_sim)] = [tune,\n",
        "                                      sectionid_to_title[s2],\n",
        "                                      sectionid_to_section[s1], \n",
        "                                      sectionid_to_section[s2], \n",
        "                                      s2_score, \n",
        "                                      ]\n",
        "    return df_sim"
      ],
      "execution_count": 774,
      "outputs": []
    },
    {
      "cell_type": "code",
      "metadata": {
        "colab": {
          "base_uri": "https://localhost:8080/"
        },
        "id": "i_d92il649O9",
        "outputId": "071e4b7b-16f8-4976-9794-1913e248dc4d"
      },
      "source": [
        "df_section_sim = get_section_scores_doc2vec(tunes_eval_list)"
      ],
      "execution_count": 775,
      "outputs": [
        {
          "output_type": "stream",
          "name": "stdout",
          "text": [
            "\n",
            "--------------------------------------------------\n",
            "3752 Sweet Sue, Just You, section1 (A)\n",
            "3753 Sweet Sue, Just You, section2 (A)\n",
            "3754 Sweet Sue, Just You, section3 (B)\n",
            "3755 Sweet Sue, Just You, section4 (A)\n",
            "\n",
            "--------------------------------------------------\n",
            "3866 These Foolish Things, section1 (A)\n",
            "3867 These Foolish Things, section2 (A)\n",
            "3868 These Foolish Things, section3 (B)\n",
            "3869 These Foolish Things, section4 (A)\n",
            "\n",
            "--------------------------------------------------\n",
            "496 Blue Moon, section1 (A)\n",
            "497 Blue Moon, section2 (A)\n",
            "498 Blue Moon, section3 (B)\n",
            "499 Blue Moon, section4 (A)\n",
            "\n",
            "--------------------------------------------------\n",
            "198 All Of Me, section1 (A)\n",
            "199 All Of Me, section2 (B)\n",
            "200 All Of Me, section3 (A)\n",
            "201 All Of Me, section4 (C)\n",
            "\n",
            "--------------------------------------------------\n",
            "188 All God's Chillun Got Rhythm, section1 (A)\n",
            "189 All God's Chillun Got Rhythm, section2 (B)\n",
            "190 All God's Chillun Got Rhythm, section3 (A)\n",
            "191 All God's Chillun Got Rhythm, section4 (C)\n",
            "\n",
            "--------------------------------------------------\n",
            "1647 I Got Rhythm, section1 (A)\n",
            "1648 I Got Rhythm, section2 (A)\n",
            "1649 I Got Rhythm, section3 (B)\n",
            "1650 I Got Rhythm, section4 (A)\n",
            "4821 I Got Rhythm, section1 (A)\n",
            "4822 I Got Rhythm, section2 (A)\n",
            "4823 I Got Rhythm, section3 (B)\n",
            "4824 I Got Rhythm, section4 (A)\n",
            "\n",
            "--------------------------------------------------\n",
            "653 Bye Bye Blackbird, section1 (A)\n",
            "654 Bye Bye Blackbird, section2 (B)\n",
            "4569 Bye Bye Blackbird, section1 (A)\n",
            "4570 Bye Bye Blackbird, section2 (B)\n",
            "4571 Bye Bye Blackbird, section3 (C)\n",
            "\n",
            "--------------------------------------------------\n",
            "5056 Old Fashioned Love, section0 (nan)\n",
            "\n",
            "--------------------------------------------------\n",
            "997 Dinah, section1 (A)\n",
            "998 Dinah, section2 (A)\n",
            "999 Dinah, section3 (B)\n",
            "1000 Dinah, section4 (A)\n",
            "\n",
            "--------------------------------------------------\n",
            "1538 Honeysuckle Rose, section1 (A)\n",
            "1539 Honeysuckle Rose, section2 (A)\n",
            "1540 Honeysuckle Rose, section3 (B)\n",
            "1541 Honeysuckle Rose, section4 (A)\n",
            "4793 Honeysuckle Rose, section1 (A)\n",
            "4794 Honeysuckle Rose, section2 (A)\n",
            "4795 Honeysuckle Rose, section3 (B)\n",
            "4796 Honeysuckle Rose, section4 (A)\n",
            "\n",
            "--------------------------------------------------\n",
            "2676 Misty, section1 (A)\n",
            "2677 Misty, section2 (A)\n",
            "2678 Misty, section3 (B)\n",
            "2679 Misty, section4 (A)\n"
          ]
        }
      ]
    },
    {
      "cell_type": "code",
      "metadata": {
        "id": "rxNLqH8g5lx2"
      },
      "source": [
        "#df_section_sim.head(50)"
      ],
      "execution_count": 776,
      "outputs": []
    },
    {
      "cell_type": "code",
      "metadata": {
        "colab": {
          "base_uri": "https://localhost:8080/",
          "height": 542
        },
        "id": "n4dv7VVe5NT4",
        "outputId": "c0953b33-4d0f-433a-adff-e5330189c68f"
      },
      "source": [
        "import plotly.express as px\n",
        "fig = px.histogram(df_section_sim, x=\"score\", nbins=50, title='Scores for Section Similarities')\n",
        "fig.show()"
      ],
      "execution_count": 777,
      "outputs": [
        {
          "output_type": "display_data",
          "data": {
            "text/html": [
              "<html>\n",
              "<head><meta charset=\"utf-8\" /></head>\n",
              "<body>\n",
              "    <div>\n",
              "            <script src=\"https://cdnjs.cloudflare.com/ajax/libs/mathjax/2.7.5/MathJax.js?config=TeX-AMS-MML_SVG\"></script><script type=\"text/javascript\">if (window.MathJax) {MathJax.Hub.Config({SVG: {font: \"STIX-Web\"}});}</script>\n",
              "                <script type=\"text/javascript\">window.PlotlyConfig = {MathJaxConfig: 'local'};</script>\n",
              "        <script src=\"https://cdn.plot.ly/plotly-latest.min.js\"></script>    \n",
              "            <div id=\"882f1bb0-8b09-4768-8d2c-d4536864dc81\" class=\"plotly-graph-div\" style=\"height:525px; width:100%;\"></div>\n",
              "            <script type=\"text/javascript\">\n",
              "                \n",
              "                    window.PLOTLYENV=window.PLOTLYENV || {};\n",
              "                    \n",
              "                if (document.getElementById(\"882f1bb0-8b09-4768-8d2c-d4536864dc81\")) {\n",
              "                    Plotly.newPlot(\n",
              "                        '882f1bb0-8b09-4768-8d2c-d4536864dc81',\n",
              "                        [{\"alignmentgroup\": \"True\", \"bingroup\": \"x\", \"hoverlabel\": {\"namelength\": 0}, \"hovertemplate\": \"score=%{x}<br>count=%{y}\", \"legendgroup\": \"\", \"marker\": {\"color\": \"#636efa\"}, \"name\": \"\", \"nbinsx\": 50, \"offsetgroup\": \"\", \"orientation\": \"v\", \"showlegend\": false, \"type\": \"histogram\", \"x\": [0.9367220401763916, 0.8975261449813843, 0.8750786781311035, 0.8537101745605469, 0.8022384643554688, 0.8008466958999634, 0.7970278859138489, 0.7885246872901917, 0.7822148203849792, 0.7702553868293762, 0.7698845863342285, 0.7524864673614502, 0.7454831600189209, 0.737647533416748, 0.7353114485740662, 0.7349250912666321, 0.7281448841094971, 0.7235417366027832, 0.7126363515853882, 0.7109285593032837, 0.7086948156356812, 0.7071084976196289, 0.7047100067138672, 0.7009384632110596, 0.6975142359733582, 0.6947640180587769, 0.6913331151008606, 0.6905919909477234, 0.9367220401763916, 0.8975261449813843, 0.8750786781311035, 0.8537101745605469, 0.8022384643554688, 0.8008466958999634, 0.7970278859138489, 0.7885246872901917, 0.7822148203849792, 0.7702553868293762, 0.7698845863342285, 0.7524864673614502, 0.7454831600189209, 0.737647533416748, 0.7353114485740662, 0.7349250912666321, 0.7281448841094971, 0.7235417366027832, 0.7126363515853882, 0.7109285593032837, 0.7086948156356812, 0.7071084976196289, 0.7047100067138672, 0.7009384632110596, 0.6975142359733582, 0.6947640180587769, 0.6913331151008606, 0.6905919909477234, 0.9367220401763916, 0.8975261449813843, 0.8750786781311035, 0.8537101745605469, 0.8022384643554688, 0.8008466958999634, 0.7970278859138489, 0.7885246872901917, 0.7822148203849792, 0.7702553868293762, 0.7698845863342285, 0.7524864673614502, 0.7454831600189209, 0.737647533416748, 0.7353114485740662, 0.7349250912666321, 0.7281448841094971, 0.7235417366027832, 0.7126363515853882, 0.7109285593032837, 0.7086948156356812, 0.7071084976196289, 0.7047100067138672, 0.7009384632110596, 0.6975142359733582, 0.6947640180587769, 0.6913331151008606, 0.6905919909477234, 0.9367220401763916, 0.8975261449813843, 0.8750786781311035, 0.8537101745605469, 0.8022384643554688, 0.8008466958999634, 0.7970278859138489, 0.7885246872901917, 0.7822148203849792, 0.7702553868293762, 0.7698845863342285, 0.7524864673614502, 0.7454831600189209, 0.737647533416748, 0.7353114485740662, 0.7349250912666321, 0.7281448841094971, 0.7235417366027832, 0.7126363515853882, 0.7109285593032837, 0.7086948156356812, 0.7071084976196289, 0.7047100067138672, 0.7009384632110596, 0.6975142359733582, 0.6947640180587769, 0.6913331151008606, 0.6905919909477234, 0.9367220401763916, 0.8975261449813843, 0.8750786781311035, 0.8537101745605469, 0.8022384643554688, 0.8008466958999634, 0.7970278859138489, 0.7885246872901917, 0.7822148203849792, 0.7702553868293762, 0.7698845863342285, 0.7524864673614502, 0.7454831600189209, 0.737647533416748, 0.7353114485740662, 0.7349250912666321, 0.7281448841094971, 0.7235417366027832, 0.7126363515853882, 0.7109285593032837, 0.7086948156356812, 0.7071084976196289, 0.7047100067138672, 0.7009384632110596, 0.6975142359733582, 0.6947640180587769, 0.6913331151008606, 0.6905919909477234, 0.9367220401763916, 0.8975261449813843, 0.8750786781311035, 0.8537101745605469, 0.8022384643554688, 0.8008466958999634, 0.7970278859138489, 0.7885246872901917, 0.7822148203849792, 0.7702553868293762, 0.7698845863342285, 0.7524864673614502, 0.7454831600189209, 0.737647533416748, 0.7353114485740662, 0.7349250912666321, 0.7281448841094971, 0.7235417366027832, 0.7126363515853882, 0.7109285593032837, 0.7086948156356812, 0.7071084976196289, 0.7047100067138672, 0.7009384632110596, 0.6975142359733582, 0.6947640180587769, 0.6913331151008606, 0.6905919909477234, 0.9367220401763916, 0.8975261449813843, 0.8750786781311035, 0.8537101745605469, 0.8022384643554688, 0.8008466958999634, 0.7970278859138489, 0.7885246872901917, 0.7822148203849792, 0.7702553868293762, 0.7698845863342285, 0.7524864673614502, 0.7454831600189209, 0.737647533416748, 0.7353114485740662, 0.7349250912666321, 0.7281448841094971, 0.7235417366027832, 0.7126363515853882, 0.7109285593032837, 0.7086948156356812, 0.7071084976196289, 0.7047100067138672, 0.7009384632110596, 0.6975142359733582, 0.6947640180587769, 0.6913331151008606, 0.6905919909477234, 0.9367220401763916, 0.8975261449813843, 0.8750786781311035, 0.8537101745605469, 0.8022384643554688, 0.8008466958999634, 0.7970278859138489, 0.7885246872901917, 0.7822148203849792, 0.7702553868293762, 0.7698845863342285, 0.7524864673614502, 0.7454831600189209, 0.737647533416748, 0.7353114485740662, 0.7349250912666321, 0.7281448841094971, 0.7235417366027832, 0.7126363515853882, 0.7109285593032837, 0.7086948156356812, 0.7071084976196289, 0.7047100067138672, 0.7009384632110596, 0.6975142359733582, 0.6947640180587769, 0.6913331151008606, 0.6905919909477234, 0.9367220401763916, 0.8975261449813843, 0.8750786781311035, 0.8537101745605469, 0.8022384643554688, 0.8008466958999634, 0.7970278859138489, 0.7885246872901917, 0.7822148203849792, 0.7702553868293762, 0.7698845863342285, 0.7524864673614502, 0.7454831600189209, 0.737647533416748, 0.7353114485740662, 0.7349250912666321, 0.7281448841094971, 0.7235417366027832, 0.7126363515853882, 0.7109285593032837, 0.7086948156356812, 0.7071084976196289, 0.7047100067138672, 0.7009384632110596, 0.6975142359733582, 0.6947640180587769, 0.6913331151008606, 0.6905919909477234, 0.9367220401763916, 0.8975261449813843, 0.8750786781311035, 0.8537101745605469, 0.8022384643554688, 0.8008466958999634, 0.7970278859138489, 0.7885246872901917, 0.7822148203849792, 0.7702553868293762, 0.7698845863342285, 0.7524864673614502, 0.7454831600189209, 0.737647533416748, 0.7353114485740662, 0.7349250912666321, 0.7281448841094971, 0.7235417366027832, 0.7126363515853882, 0.7109285593032837, 0.7086948156356812, 0.7071084976196289, 0.7047100067138672, 0.7009384632110596, 0.6975142359733582, 0.6947640180587769, 0.6913331151008606, 0.6905919909477234, 0.9367220401763916, 0.8975261449813843, 0.8750786781311035, 0.8537101745605469, 0.8022384643554688, 0.8008466958999634, 0.7970278859138489, 0.7885246872901917, 0.7822148203849792, 0.7702553868293762, 0.7698845863342285, 0.7524864673614502, 0.7454831600189209, 0.737647533416748, 0.7353114485740662, 0.7349250912666321, 0.7281448841094971, 0.7235417366027832, 0.7126363515853882, 0.7109285593032837, 0.7086948156356812, 0.7071084976196289, 0.7047100067138672, 0.7009384632110596, 0.6975142359733582, 0.6947640180587769, 0.6913331151008606, 0.6905919909477234, 0.9367220401763916, 0.8975261449813843, 0.8750786781311035, 0.8537101745605469, 0.8022384643554688, 0.8008466958999634, 0.7970278859138489, 0.7885246872901917, 0.7822148203849792, 0.7702553868293762, 0.7698845863342285, 0.7524864673614502, 0.7454831600189209, 0.737647533416748, 0.7353114485740662, 0.7349250912666321, 0.7281448841094971, 0.7235417366027832, 0.7126363515853882, 0.7109285593032837, 0.7086948156356812, 0.7071084976196289, 0.7047100067138672, 0.7009384632110596, 0.6975142359733582, 0.6947640180587769, 0.6913331151008606, 0.6905919909477234, 0.9367220401763916, 0.8975261449813843, 0.8750786781311035, 0.8537101745605469, 0.8022384643554688, 0.8008466958999634, 0.7970278859138489, 0.7885246872901917, 0.7822148203849792, 0.7702553868293762, 0.7698845863342285, 0.7524864673614502, 0.7454831600189209, 0.737647533416748, 0.7353114485740662, 0.7349250912666321, 0.7281448841094971, 0.7235417366027832, 0.7126363515853882, 0.7109285593032837, 0.7086948156356812, 0.7071084976196289, 0.7047100067138672, 0.7009384632110596, 0.6975142359733582, 0.6947640180587769, 0.6913331151008606, 0.6905919909477234, 0.9367220401763916, 0.8975261449813843, 0.8750786781311035, 0.8537101745605469, 0.8022384643554688, 0.8008466958999634, 0.7970278859138489, 0.7885246872901917, 0.7822148203849792, 0.7702553868293762, 0.7698845863342285, 0.7524864673614502, 0.7454831600189209, 0.737647533416748, 0.7353114485740662, 0.7349250912666321, 0.7281448841094971, 0.7235417366027832, 0.7126363515853882, 0.7109285593032837, 0.7086948156356812, 0.7071084976196289, 0.7047100067138672, 0.7009384632110596, 0.6975142359733582, 0.6947640180587769, 0.6913331151008606, 0.6905919909477234, 0.9367220401763916, 0.8975261449813843, 0.8750786781311035, 0.8537101745605469, 0.8022384643554688, 0.8008466958999634, 0.7970278859138489, 0.7885246872901917, 0.7822148203849792, 0.7702553868293762, 0.7698845863342285, 0.7524864673614502, 0.7454831600189209, 0.737647533416748, 0.7353114485740662, 0.7349250912666321, 0.7281448841094971, 0.7235417366027832, 0.7126363515853882, 0.7109285593032837, 0.7086948156356812, 0.7071084976196289, 0.7047100067138672, 0.7009384632110596, 0.6975142359733582, 0.6947640180587769, 0.6913331151008606, 0.6905919909477234, 0.9367220401763916, 0.8975261449813843, 0.8750786781311035, 0.8537101745605469, 0.8022384643554688, 0.8008466958999634, 0.7970278859138489, 0.7885246872901917, 0.7822148203849792, 0.7702553868293762, 0.7698845863342285, 0.7524864673614502, 0.7454831600189209, 0.737647533416748, 0.7353114485740662, 0.7349250912666321, 0.7281448841094971, 0.7235417366027832, 0.7126363515853882, 0.7109285593032837, 0.7086948156356812, 0.7071084976196289, 0.7047100067138672, 0.7009384632110596, 0.6975142359733582, 0.6947640180587769, 0.6913331151008606, 0.6905919909477234, 0.9367220401763916, 0.8975261449813843, 0.8750786781311035, 0.8537101745605469, 0.8022384643554688, 0.8008466958999634, 0.7970278859138489, 0.7885246872901917, 0.7822148203849792, 0.7702553868293762, 0.7698845863342285, 0.7524864673614502, 0.7454831600189209, 0.737647533416748, 0.7353114485740662, 0.7349250912666321, 0.7281448841094971, 0.7235417366027832, 0.7126363515853882, 0.7109285593032837, 0.7086948156356812, 0.7071084976196289, 0.7047100067138672, 0.7009384632110596, 0.6975142359733582, 0.6947640180587769, 0.6913331151008606, 0.6905919909477234, 0.9367220401763916, 0.8975261449813843, 0.8750786781311035, 0.8537101745605469, 0.8022384643554688, 0.8008466958999634, 0.7970278859138489, 0.7885246872901917, 0.7822148203849792, 0.7702553868293762, 0.7698845863342285, 0.7524864673614502, 0.7454831600189209, 0.737647533416748, 0.7353114485740662, 0.7349250912666321, 0.7281448841094971, 0.7235417366027832, 0.7126363515853882, 0.7109285593032837, 0.7086948156356812, 0.7071084976196289, 0.7047100067138672, 0.7009384632110596, 0.6975142359733582, 0.6947640180587769, 0.6913331151008606, 0.6905919909477234, 0.9367220401763916, 0.8975261449813843, 0.8750786781311035, 0.8537101745605469, 0.8022384643554688, 0.8008466958999634, 0.7970278859138489, 0.7885246872901917, 0.7822148203849792, 0.7702553868293762, 0.7698845863342285, 0.7524864673614502, 0.7454831600189209, 0.737647533416748, 0.7353114485740662, 0.7349250912666321, 0.7281448841094971, 0.7235417366027832, 0.7126363515853882, 0.7109285593032837, 0.7086948156356812, 0.7071084976196289, 0.7047100067138672, 0.7009384632110596, 0.6975142359733582, 0.6947640180587769, 0.6913331151008606, 0.6905919909477234, 0.9367220401763916, 0.8975261449813843, 0.8750786781311035, 0.8537101745605469, 0.8022384643554688, 0.8008466958999634, 0.7970278859138489, 0.7885246872901917, 0.7822148203849792, 0.7702553868293762, 0.7698845863342285, 0.7524864673614502, 0.7454831600189209, 0.737647533416748, 0.7353114485740662, 0.7349250912666321, 0.7281448841094971, 0.7235417366027832, 0.7126363515853882, 0.7109285593032837, 0.7086948156356812, 0.7071084976196289, 0.7047100067138672, 0.7009384632110596, 0.6975142359733582, 0.6947640180587769, 0.6913331151008606, 0.6905919909477234, 0.9367220401763916, 0.8975261449813843, 0.8750786781311035, 0.8537101745605469, 0.8022384643554688, 0.8008466958999634, 0.7970278859138489, 0.7885246872901917, 0.7822148203849792, 0.7702553868293762, 0.7698845863342285, 0.7524864673614502, 0.7454831600189209, 0.737647533416748, 0.7353114485740662, 0.7349250912666321, 0.7281448841094971, 0.7235417366027832, 0.7126363515853882, 0.7109285593032837, 0.7086948156356812, 0.7071084976196289, 0.7047100067138672, 0.7009384632110596, 0.6975142359733582, 0.6947640180587769, 0.6913331151008606, 0.6905919909477234, 0.9367220401763916, 0.8975261449813843, 0.8750786781311035, 0.8537101745605469, 0.8022384643554688, 0.8008466958999634, 0.7970278859138489, 0.7885246872901917, 0.7822148203849792, 0.7702553868293762, 0.7698845863342285, 0.7524864673614502, 0.7454831600189209, 0.737647533416748, 0.7353114485740662, 0.7349250912666321, 0.7281448841094971, 0.7235417366027832, 0.7126363515853882, 0.7109285593032837, 0.7086948156356812, 0.7071084976196289, 0.7047100067138672, 0.7009384632110596, 0.6975142359733582, 0.6947640180587769, 0.6913331151008606, 0.6905919909477234, 0.9367220401763916, 0.8975261449813843, 0.8750786781311035, 0.8537101745605469, 0.8022384643554688, 0.8008466958999634, 0.7970278859138489, 0.7885246872901917, 0.7822148203849792, 0.7702553868293762, 0.7698845863342285, 0.7524864673614502, 0.7454831600189209, 0.737647533416748, 0.7353114485740662, 0.7349250912666321, 0.7281448841094971, 0.7235417366027832, 0.7126363515853882, 0.7109285593032837, 0.7086948156356812, 0.7071084976196289, 0.7047100067138672, 0.7009384632110596, 0.6975142359733582, 0.6947640180587769, 0.6913331151008606, 0.6905919909477234, 0.9367220401763916, 0.8975261449813843, 0.8750786781311035, 0.8537101745605469, 0.8022384643554688, 0.8008466958999634, 0.7970278859138489, 0.7885246872901917, 0.7822148203849792, 0.7702553868293762, 0.7698845863342285, 0.7524864673614502, 0.7454831600189209, 0.737647533416748, 0.7353114485740662, 0.7349250912666321, 0.7281448841094971, 0.7235417366027832, 0.7126363515853882, 0.7109285593032837, 0.7086948156356812, 0.7071084976196289, 0.7047100067138672, 0.7009384632110596, 0.6975142359733582, 0.6947640180587769, 0.6913331151008606, 0.6905919909477234, 0.9367220401763916, 0.8975261449813843, 0.8750786781311035, 0.8537101745605469, 0.8022384643554688, 0.8008466958999634, 0.7970278859138489, 0.7885246872901917, 0.7822148203849792, 0.7702553868293762, 0.7698845863342285, 0.7524864673614502, 0.7454831600189209, 0.737647533416748, 0.7353114485740662, 0.7349250912666321, 0.7281448841094971, 0.7235417366027832, 0.7126363515853882, 0.7109285593032837, 0.7086948156356812, 0.7071084976196289, 0.7047100067138672, 0.7009384632110596, 0.6975142359733582, 0.6947640180587769, 0.6913331151008606, 0.6905919909477234, 0.9367220401763916, 0.8975261449813843, 0.8750786781311035, 0.8537101745605469, 0.8022384643554688, 0.8008466958999634, 0.7970278859138489, 0.7885246872901917, 0.7822148203849792, 0.7702553868293762, 0.7698845863342285, 0.7524864673614502, 0.7454831600189209, 0.737647533416748, 0.7353114485740662, 0.7349250912666321, 0.7281448841094971, 0.7235417366027832, 0.7126363515853882, 0.7109285593032837, 0.7086948156356812, 0.7071084976196289, 0.7047100067138672, 0.7009384632110596, 0.6975142359733582, 0.6947640180587769, 0.6913331151008606, 0.6905919909477234, 0.9367220401763916, 0.8975261449813843, 0.8750786781311035, 0.8537101745605469, 0.8022384643554688, 0.8008466958999634, 0.7970278859138489, 0.7885246872901917, 0.7822148203849792, 0.7702553868293762, 0.7698845863342285, 0.7524864673614502, 0.7454831600189209, 0.737647533416748, 0.7353114485740662, 0.7349250912666321, 0.7281448841094971, 0.7235417366027832, 0.7126363515853882, 0.7109285593032837, 0.7086948156356812, 0.7071084976196289, 0.7047100067138672, 0.7009384632110596, 0.6975142359733582, 0.6947640180587769, 0.6913331151008606, 0.6905919909477234, 0.9367220401763916, 0.8975261449813843, 0.8750786781311035, 0.8537101745605469, 0.8022384643554688, 0.8008466958999634, 0.7970278859138489, 0.7885246872901917, 0.7822148203849792, 0.7702553868293762, 0.7698845863342285, 0.7524864673614502, 0.7454831600189209, 0.737647533416748, 0.7353114485740662, 0.7349250912666321, 0.7281448841094971, 0.7235417366027832, 0.7126363515853882, 0.7109285593032837, 0.7086948156356812, 0.7071084976196289, 0.7047100067138672, 0.7009384632110596, 0.6975142359733582, 0.6947640180587769, 0.6913331151008606, 0.6905919909477234, 0.9367220401763916, 0.8975261449813843, 0.8750786781311035, 0.8537101745605469, 0.8022384643554688, 0.8008466958999634, 0.7970278859138489, 0.7885246872901917, 0.7822148203849792, 0.7702553868293762, 0.7698845863342285, 0.7524864673614502, 0.7454831600189209, 0.737647533416748, 0.7353114485740662, 0.7349250912666321, 0.7281448841094971, 0.7235417366027832, 0.7126363515853882, 0.7109285593032837, 0.7086948156356812, 0.7071084976196289, 0.7047100067138672, 0.7009384632110596, 0.6975142359733582, 0.6947640180587769, 0.6913331151008606, 0.6905919909477234, 0.9367220401763916, 0.8975261449813843, 0.8750786781311035, 0.8537101745605469, 0.8022384643554688, 0.8008466958999634, 0.7970278859138489, 0.7885246872901917, 0.7822148203849792, 0.7702553868293762, 0.7698845863342285, 0.7524864673614502, 0.7454831600189209, 0.737647533416748, 0.7353114485740662, 0.7349250912666321, 0.7281448841094971, 0.7235417366027832, 0.7126363515853882, 0.7109285593032837, 0.7086948156356812, 0.7071084976196289, 0.7047100067138672, 0.7009384632110596, 0.6975142359733582, 0.6947640180587769, 0.6913331151008606, 0.6905919909477234, 0.9367220401763916, 0.8975261449813843, 0.8750786781311035, 0.8537101745605469, 0.8022384643554688, 0.8008466958999634, 0.7970278859138489, 0.7885246872901917, 0.7822148203849792, 0.7702553868293762, 0.7698845863342285, 0.7524864673614502, 0.7454831600189209, 0.737647533416748, 0.7353114485740662, 0.7349250912666321, 0.7281448841094971, 0.7235417366027832, 0.7126363515853882, 0.7109285593032837, 0.7086948156356812, 0.7071084976196289, 0.7047100067138672, 0.7009384632110596, 0.6975142359733582, 0.6947640180587769, 0.6913331151008606, 0.6905919909477234, 0.9367220401763916, 0.8975261449813843, 0.8750786781311035, 0.8537101745605469, 0.8022384643554688, 0.8008466958999634, 0.7970278859138489, 0.7885246872901917, 0.7822148203849792, 0.7702553868293762, 0.7698845863342285, 0.7524864673614502, 0.7454831600189209, 0.737647533416748, 0.7353114485740662, 0.7349250912666321, 0.7281448841094971, 0.7235417366027832, 0.7126363515853882, 0.7109285593032837, 0.7086948156356812, 0.7071084976196289, 0.7047100067138672, 0.7009384632110596, 0.6975142359733582, 0.6947640180587769, 0.6913331151008606, 0.6905919909477234, 0.9367220401763916, 0.8975261449813843, 0.8750786781311035, 0.8537101745605469, 0.8022384643554688, 0.8008466958999634, 0.7970278859138489, 0.7885246872901917, 0.7822148203849792, 0.7702553868293762, 0.7698845863342285, 0.7524864673614502, 0.7454831600189209, 0.737647533416748, 0.7353114485740662, 0.7349250912666321, 0.7281448841094971, 0.7235417366027832, 0.7126363515853882, 0.7109285593032837, 0.7086948156356812, 0.7071084976196289, 0.7047100067138672, 0.7009384632110596, 0.6975142359733582, 0.6947640180587769, 0.6913331151008606, 0.6905919909477234, 0.9367220401763916, 0.8975261449813843, 0.8750786781311035, 0.8537101745605469, 0.8022384643554688, 0.8008466958999634, 0.7970278859138489, 0.7885246872901917, 0.7822148203849792, 0.7702553868293762, 0.7698845863342285, 0.7524864673614502, 0.7454831600189209, 0.737647533416748, 0.7353114485740662, 0.7349250912666321, 0.7281448841094971, 0.7235417366027832, 0.7126363515853882, 0.7109285593032837, 0.7086948156356812, 0.7071084976196289, 0.7047100067138672, 0.7009384632110596, 0.6975142359733582, 0.6947640180587769, 0.6913331151008606, 0.6905919909477234, 0.9367220401763916, 0.8975261449813843, 0.8750786781311035, 0.8537101745605469, 0.8022384643554688, 0.8008466958999634, 0.7970278859138489, 0.7885246872901917, 0.7822148203849792, 0.7702553868293762, 0.7698845863342285, 0.7524864673614502, 0.7454831600189209, 0.737647533416748, 0.7353114485740662, 0.7349250912666321, 0.7281448841094971, 0.7235417366027832, 0.7126363515853882, 0.7109285593032837, 0.7086948156356812, 0.7071084976196289, 0.7047100067138672, 0.7009384632110596, 0.6975142359733582, 0.6947640180587769, 0.6913331151008606, 0.6905919909477234, 0.9367220401763916, 0.8975261449813843, 0.8750786781311035, 0.8537101745605469, 0.8022384643554688, 0.8008466958999634, 0.7970278859138489, 0.7885246872901917, 0.7822148203849792, 0.7702553868293762, 0.7698845863342285, 0.7524864673614502, 0.7454831600189209, 0.737647533416748, 0.7353114485740662, 0.7349250912666321, 0.7281448841094971, 0.7235417366027832, 0.7126363515853882, 0.7109285593032837, 0.7086948156356812, 0.7071084976196289, 0.7047100067138672, 0.7009384632110596, 0.6975142359733582, 0.6947640180587769, 0.6913331151008606, 0.6905919909477234, 0.9367220401763916, 0.8975261449813843, 0.8750786781311035, 0.8537101745605469, 0.8022384643554688, 0.8008466958999634, 0.7970278859138489, 0.7885246872901917, 0.7822148203849792, 0.7702553868293762, 0.7698845863342285, 0.7524864673614502, 0.7454831600189209, 0.737647533416748, 0.7353114485740662, 0.7349250912666321, 0.7281448841094971, 0.7235417366027832, 0.7126363515853882, 0.7109285593032837, 0.7086948156356812, 0.7071084976196289, 0.7047100067138672, 0.7009384632110596, 0.6975142359733582, 0.6947640180587769, 0.6913331151008606, 0.6905919909477234, 0.9367220401763916, 0.8975261449813843, 0.8750786781311035, 0.8537101745605469, 0.8022384643554688, 0.8008466958999634, 0.7970278859138489, 0.7885246872901917, 0.7822148203849792, 0.7702553868293762, 0.7698845863342285, 0.7524864673614502, 0.7454831600189209, 0.737647533416748, 0.7353114485740662, 0.7349250912666321, 0.7281448841094971, 0.7235417366027832, 0.7126363515853882, 0.7109285593032837, 0.7086948156356812, 0.7071084976196289, 0.7047100067138672, 0.7009384632110596, 0.6975142359733582, 0.6947640180587769, 0.6913331151008606, 0.6905919909477234, 0.9367220401763916, 0.8975261449813843, 0.8750786781311035, 0.8537101745605469, 0.8022384643554688, 0.8008466958999634, 0.7970278859138489, 0.7885246872901917, 0.7822148203849792, 0.7702553868293762, 0.7698845863342285, 0.7524864673614502, 0.7454831600189209, 0.737647533416748, 0.7353114485740662, 0.7349250912666321, 0.7281448841094971, 0.7235417366027832, 0.7126363515853882, 0.7109285593032837, 0.7086948156356812, 0.7071084976196289, 0.7047100067138672, 0.7009384632110596, 0.6975142359733582, 0.6947640180587769, 0.6913331151008606, 0.6905919909477234, 0.9367220401763916, 0.8975261449813843, 0.8750786781311035, 0.8537101745605469, 0.8022384643554688, 0.8008466958999634, 0.7970278859138489, 0.7885246872901917, 0.7822148203849792, 0.7702553868293762, 0.7698845863342285, 0.7524864673614502, 0.7454831600189209, 0.737647533416748, 0.7353114485740662, 0.7349250912666321, 0.7281448841094971, 0.7235417366027832, 0.7126363515853882, 0.7109285593032837, 0.7086948156356812, 0.7071084976196289, 0.7047100067138672, 0.7009384632110596, 0.6975142359733582, 0.6947640180587769, 0.6913331151008606, 0.6905919909477234, 0.9367220401763916, 0.8975261449813843, 0.8750786781311035, 0.8537101745605469, 0.8022384643554688, 0.8008466958999634, 0.7970278859138489, 0.7885246872901917, 0.7822148203849792, 0.7702553868293762, 0.7698845863342285, 0.7524864673614502, 0.7454831600189209, 0.737647533416748, 0.7353114485740662, 0.7349250912666321, 0.7281448841094971, 0.7235417366027832, 0.7126363515853882, 0.7109285593032837, 0.7086948156356812, 0.7071084976196289, 0.7047100067138672, 0.7009384632110596, 0.6975142359733582, 0.6947640180587769, 0.6913331151008606, 0.6905919909477234, 0.9367220401763916, 0.8975261449813843, 0.8750786781311035, 0.8537101745605469, 0.8022384643554688, 0.8008466958999634, 0.7970278859138489, 0.7885246872901917, 0.7822148203849792, 0.7702553868293762, 0.7698845863342285, 0.7524864673614502, 0.7454831600189209, 0.737647533416748, 0.7353114485740662, 0.7349250912666321, 0.7281448841094971, 0.7235417366027832, 0.7126363515853882, 0.7109285593032837, 0.7086948156356812, 0.7071084976196289, 0.7047100067138672, 0.7009384632110596, 0.6975142359733582, 0.6947640180587769, 0.6913331151008606, 0.6905919909477234, 0.9367220401763916, 0.8975261449813843, 0.8750786781311035, 0.8537101745605469, 0.8022384643554688, 0.8008466958999634, 0.7970278859138489, 0.7885246872901917, 0.7822148203849792, 0.7702553868293762, 0.7698845863342285, 0.7524864673614502, 0.7454831600189209, 0.737647533416748, 0.7353114485740662, 0.7349250912666321, 0.7281448841094971, 0.7235417366027832, 0.7126363515853882, 0.7109285593032837, 0.7086948156356812, 0.7071084976196289, 0.7047100067138672, 0.7009384632110596, 0.6975142359733582, 0.6947640180587769, 0.6913331151008606, 0.6905919909477234, 0.9367220401763916, 0.8975261449813843, 0.8750786781311035, 0.8537101745605469, 0.8022384643554688, 0.8008466958999634, 0.7970278859138489, 0.7885246872901917, 0.7822148203849792, 0.7702553868293762, 0.7698845863342285, 0.7524864673614502, 0.7454831600189209, 0.737647533416748, 0.7353114485740662, 0.7349250912666321, 0.7281448841094971, 0.7235417366027832, 0.7126363515853882, 0.7109285593032837, 0.7086948156356812, 0.7071084976196289, 0.7047100067138672, 0.7009384632110596, 0.6975142359733582, 0.6947640180587769, 0.6913331151008606, 0.6905919909477234, 0.9367220401763916, 0.8975261449813843, 0.8750786781311035, 0.8537101745605469, 0.8022384643554688, 0.8008466958999634, 0.7970278859138489, 0.7885246872901917, 0.7822148203849792, 0.7702553868293762, 0.7698845863342285, 0.7524864673614502, 0.7454831600189209, 0.737647533416748, 0.7353114485740662, 0.7349250912666321, 0.7281448841094971, 0.7235417366027832, 0.7126363515853882, 0.7109285593032837, 0.7086948156356812, 0.7071084976196289, 0.7047100067138672, 0.7009384632110596, 0.6975142359733582, 0.6947640180587769, 0.6913331151008606, 0.6905919909477234, 0.9367220401763916, 0.8975261449813843, 0.8750786781311035, 0.8537101745605469, 0.8022384643554688, 0.8008466958999634, 0.7970278859138489, 0.7885246872901917, 0.7822148203849792, 0.7702553868293762, 0.7698845863342285, 0.7524864673614502, 0.7454831600189209, 0.737647533416748, 0.7353114485740662, 0.7349250912666321, 0.7281448841094971, 0.7235417366027832, 0.7126363515853882, 0.7109285593032837, 0.7086948156356812, 0.7071084976196289, 0.7047100067138672, 0.7009384632110596, 0.6975142359733582, 0.6947640180587769, 0.6913331151008606, 0.6905919909477234, 0.9367220401763916, 0.8975261449813843, 0.8750786781311035, 0.8537101745605469, 0.8022384643554688, 0.8008466958999634, 0.7970278859138489, 0.7885246872901917, 0.7822148203849792, 0.7702553868293762, 0.7698845863342285, 0.7524864673614502, 0.7454831600189209, 0.737647533416748, 0.7353114485740662, 0.7349250912666321, 0.7281448841094971, 0.7235417366027832, 0.7126363515853882, 0.7109285593032837, 0.7086948156356812, 0.7071084976196289, 0.7047100067138672, 0.7009384632110596, 0.6975142359733582, 0.6947640180587769, 0.6913331151008606, 0.6905919909477234, 0.9367220401763916, 0.8975261449813843, 0.8750786781311035, 0.8537101745605469, 0.8022384643554688, 0.8008466958999634, 0.7970278859138489, 0.7885246872901917, 0.7822148203849792, 0.7702553868293762, 0.7698845863342285, 0.7524864673614502, 0.7454831600189209, 0.737647533416748, 0.7353114485740662, 0.7349250912666321, 0.7281448841094971, 0.7235417366027832, 0.7126363515853882, 0.7109285593032837, 0.7086948156356812, 0.7071084976196289, 0.7047100067138672, 0.7009384632110596, 0.6975142359733582, 0.6947640180587769, 0.6913331151008606, 0.6905919909477234, 0.9367220401763916, 0.8975261449813843, 0.8750786781311035, 0.8537101745605469, 0.8022384643554688, 0.8008466958999634, 0.7970278859138489, 0.7885246872901917, 0.7822148203849792, 0.7702553868293762, 0.7698845863342285, 0.7524864673614502, 0.7454831600189209, 0.737647533416748, 0.7353114485740662, 0.7349250912666321, 0.7281448841094971, 0.7235417366027832, 0.7126363515853882, 0.7109285593032837, 0.7086948156356812, 0.7071084976196289, 0.7047100067138672, 0.7009384632110596, 0.6975142359733582, 0.6947640180587769, 0.6913331151008606, 0.6905919909477234, 0.9367220401763916, 0.8975261449813843, 0.8750786781311035, 0.8537101745605469, 0.8022384643554688, 0.8008466958999634, 0.7970278859138489, 0.7885246872901917, 0.7822148203849792, 0.7702553868293762, 0.7698845863342285, 0.7524864673614502, 0.7454831600189209, 0.737647533416748, 0.7353114485740662, 0.7349250912666321, 0.7281448841094971, 0.7235417366027832, 0.7126363515853882, 0.7109285593032837, 0.7086948156356812, 0.7071084976196289, 0.7047100067138672, 0.7009384632110596, 0.6975142359733582, 0.6947640180587769, 0.6913331151008606, 0.6905919909477234], \"xaxis\": \"x\", \"yaxis\": \"y\"}],\n",
              "                        {\"barmode\": \"relative\", \"legend\": {\"tracegroupgap\": 0}, \"template\": {\"data\": {\"bar\": [{\"error_x\": {\"color\": \"#2a3f5f\"}, \"error_y\": {\"color\": \"#2a3f5f\"}, \"marker\": {\"line\": {\"color\": \"#E5ECF6\", \"width\": 0.5}}, \"type\": \"bar\"}], \"barpolar\": [{\"marker\": {\"line\": {\"color\": \"#E5ECF6\", \"width\": 0.5}}, \"type\": \"barpolar\"}], \"carpet\": [{\"aaxis\": {\"endlinecolor\": \"#2a3f5f\", \"gridcolor\": \"white\", \"linecolor\": \"white\", \"minorgridcolor\": \"white\", \"startlinecolor\": \"#2a3f5f\"}, \"baxis\": {\"endlinecolor\": \"#2a3f5f\", \"gridcolor\": \"white\", \"linecolor\": \"white\", \"minorgridcolor\": \"white\", \"startlinecolor\": \"#2a3f5f\"}, \"type\": \"carpet\"}], \"choropleth\": [{\"colorbar\": {\"outlinewidth\": 0, \"ticks\": \"\"}, \"type\": \"choropleth\"}], \"contour\": [{\"colorbar\": {\"outlinewidth\": 0, \"ticks\": \"\"}, \"colorscale\": [[0.0, \"#0d0887\"], [0.1111111111111111, \"#46039f\"], [0.2222222222222222, \"#7201a8\"], [0.3333333333333333, \"#9c179e\"], [0.4444444444444444, \"#bd3786\"], [0.5555555555555556, \"#d8576b\"], [0.6666666666666666, \"#ed7953\"], [0.7777777777777778, \"#fb9f3a\"], [0.8888888888888888, \"#fdca26\"], [1.0, \"#f0f921\"]], \"type\": \"contour\"}], \"contourcarpet\": [{\"colorbar\": {\"outlinewidth\": 0, \"ticks\": \"\"}, \"type\": \"contourcarpet\"}], \"heatmap\": [{\"colorbar\": {\"outlinewidth\": 0, \"ticks\": \"\"}, \"colorscale\": [[0.0, \"#0d0887\"], [0.1111111111111111, \"#46039f\"], [0.2222222222222222, \"#7201a8\"], [0.3333333333333333, \"#9c179e\"], [0.4444444444444444, \"#bd3786\"], [0.5555555555555556, \"#d8576b\"], [0.6666666666666666, \"#ed7953\"], [0.7777777777777778, \"#fb9f3a\"], [0.8888888888888888, \"#fdca26\"], [1.0, \"#f0f921\"]], \"type\": \"heatmap\"}], \"heatmapgl\": [{\"colorbar\": {\"outlinewidth\": 0, \"ticks\": \"\"}, \"colorscale\": [[0.0, \"#0d0887\"], [0.1111111111111111, \"#46039f\"], [0.2222222222222222, \"#7201a8\"], [0.3333333333333333, \"#9c179e\"], [0.4444444444444444, \"#bd3786\"], [0.5555555555555556, \"#d8576b\"], [0.6666666666666666, \"#ed7953\"], [0.7777777777777778, \"#fb9f3a\"], [0.8888888888888888, \"#fdca26\"], [1.0, \"#f0f921\"]], \"type\": \"heatmapgl\"}], \"histogram\": [{\"marker\": {\"colorbar\": {\"outlinewidth\": 0, \"ticks\": \"\"}}, \"type\": \"histogram\"}], \"histogram2d\": [{\"colorbar\": {\"outlinewidth\": 0, \"ticks\": \"\"}, \"colorscale\": [[0.0, \"#0d0887\"], [0.1111111111111111, \"#46039f\"], [0.2222222222222222, \"#7201a8\"], [0.3333333333333333, \"#9c179e\"], [0.4444444444444444, \"#bd3786\"], [0.5555555555555556, \"#d8576b\"], [0.6666666666666666, \"#ed7953\"], [0.7777777777777778, \"#fb9f3a\"], [0.8888888888888888, \"#fdca26\"], [1.0, \"#f0f921\"]], \"type\": \"histogram2d\"}], \"histogram2dcontour\": [{\"colorbar\": {\"outlinewidth\": 0, \"ticks\": \"\"}, \"colorscale\": [[0.0, \"#0d0887\"], [0.1111111111111111, \"#46039f\"], [0.2222222222222222, \"#7201a8\"], [0.3333333333333333, \"#9c179e\"], [0.4444444444444444, \"#bd3786\"], [0.5555555555555556, \"#d8576b\"], [0.6666666666666666, \"#ed7953\"], [0.7777777777777778, \"#fb9f3a\"], [0.8888888888888888, \"#fdca26\"], [1.0, \"#f0f921\"]], \"type\": \"histogram2dcontour\"}], \"mesh3d\": [{\"colorbar\": {\"outlinewidth\": 0, \"ticks\": \"\"}, \"type\": \"mesh3d\"}], \"parcoords\": [{\"line\": {\"colorbar\": {\"outlinewidth\": 0, \"ticks\": \"\"}}, \"type\": \"parcoords\"}], \"pie\": [{\"automargin\": true, \"type\": \"pie\"}], \"scatter\": [{\"marker\": {\"colorbar\": {\"outlinewidth\": 0, \"ticks\": \"\"}}, \"type\": \"scatter\"}], \"scatter3d\": [{\"line\": {\"colorbar\": {\"outlinewidth\": 0, \"ticks\": \"\"}}, \"marker\": {\"colorbar\": {\"outlinewidth\": 0, \"ticks\": \"\"}}, \"type\": \"scatter3d\"}], \"scattercarpet\": [{\"marker\": {\"colorbar\": {\"outlinewidth\": 0, \"ticks\": \"\"}}, \"type\": \"scattercarpet\"}], \"scattergeo\": [{\"marker\": {\"colorbar\": {\"outlinewidth\": 0, \"ticks\": \"\"}}, \"type\": \"scattergeo\"}], \"scattergl\": [{\"marker\": {\"colorbar\": {\"outlinewidth\": 0, \"ticks\": \"\"}}, \"type\": \"scattergl\"}], \"scattermapbox\": [{\"marker\": {\"colorbar\": {\"outlinewidth\": 0, \"ticks\": \"\"}}, \"type\": \"scattermapbox\"}], \"scatterpolar\": [{\"marker\": {\"colorbar\": {\"outlinewidth\": 0, \"ticks\": \"\"}}, \"type\": \"scatterpolar\"}], \"scatterpolargl\": [{\"marker\": {\"colorbar\": {\"outlinewidth\": 0, \"ticks\": \"\"}}, \"type\": \"scatterpolargl\"}], \"scatterternary\": [{\"marker\": {\"colorbar\": {\"outlinewidth\": 0, \"ticks\": \"\"}}, \"type\": \"scatterternary\"}], \"surface\": [{\"colorbar\": {\"outlinewidth\": 0, \"ticks\": \"\"}, \"colorscale\": [[0.0, \"#0d0887\"], [0.1111111111111111, \"#46039f\"], [0.2222222222222222, \"#7201a8\"], [0.3333333333333333, \"#9c179e\"], [0.4444444444444444, \"#bd3786\"], [0.5555555555555556, \"#d8576b\"], [0.6666666666666666, \"#ed7953\"], [0.7777777777777778, \"#fb9f3a\"], [0.8888888888888888, \"#fdca26\"], [1.0, \"#f0f921\"]], \"type\": \"surface\"}], \"table\": [{\"cells\": {\"fill\": {\"color\": \"#EBF0F8\"}, \"line\": {\"color\": \"white\"}}, \"header\": {\"fill\": {\"color\": \"#C8D4E3\"}, \"line\": {\"color\": \"white\"}}, \"type\": \"table\"}]}, \"layout\": {\"annotationdefaults\": {\"arrowcolor\": \"#2a3f5f\", \"arrowhead\": 0, \"arrowwidth\": 1}, \"coloraxis\": {\"colorbar\": {\"outlinewidth\": 0, \"ticks\": \"\"}}, \"colorscale\": {\"diverging\": [[0, \"#8e0152\"], [0.1, \"#c51b7d\"], [0.2, \"#de77ae\"], [0.3, \"#f1b6da\"], [0.4, \"#fde0ef\"], [0.5, \"#f7f7f7\"], [0.6, \"#e6f5d0\"], [0.7, \"#b8e186\"], [0.8, \"#7fbc41\"], [0.9, \"#4d9221\"], [1, \"#276419\"]], \"sequential\": [[0.0, \"#0d0887\"], [0.1111111111111111, \"#46039f\"], [0.2222222222222222, \"#7201a8\"], [0.3333333333333333, \"#9c179e\"], [0.4444444444444444, \"#bd3786\"], [0.5555555555555556, \"#d8576b\"], [0.6666666666666666, \"#ed7953\"], [0.7777777777777778, \"#fb9f3a\"], [0.8888888888888888, \"#fdca26\"], [1.0, \"#f0f921\"]], \"sequentialminus\": [[0.0, \"#0d0887\"], [0.1111111111111111, \"#46039f\"], [0.2222222222222222, \"#7201a8\"], [0.3333333333333333, \"#9c179e\"], [0.4444444444444444, \"#bd3786\"], [0.5555555555555556, \"#d8576b\"], [0.6666666666666666, \"#ed7953\"], [0.7777777777777778, \"#fb9f3a\"], [0.8888888888888888, \"#fdca26\"], [1.0, \"#f0f921\"]]}, \"colorway\": [\"#636efa\", \"#EF553B\", \"#00cc96\", \"#ab63fa\", \"#FFA15A\", \"#19d3f3\", \"#FF6692\", \"#B6E880\", \"#FF97FF\", \"#FECB52\"], \"font\": {\"color\": \"#2a3f5f\"}, \"geo\": {\"bgcolor\": \"white\", \"lakecolor\": \"white\", \"landcolor\": \"#E5ECF6\", \"showlakes\": true, \"showland\": true, \"subunitcolor\": \"white\"}, \"hoverlabel\": {\"align\": \"left\"}, \"hovermode\": \"closest\", \"mapbox\": {\"style\": \"light\"}, \"paper_bgcolor\": \"white\", \"plot_bgcolor\": \"#E5ECF6\", \"polar\": {\"angularaxis\": {\"gridcolor\": \"white\", \"linecolor\": \"white\", \"ticks\": \"\"}, \"bgcolor\": \"#E5ECF6\", \"radialaxis\": {\"gridcolor\": \"white\", \"linecolor\": \"white\", \"ticks\": \"\"}}, \"scene\": {\"xaxis\": {\"backgroundcolor\": \"#E5ECF6\", \"gridcolor\": \"white\", \"gridwidth\": 2, \"linecolor\": \"white\", \"showbackground\": true, \"ticks\": \"\", \"zerolinecolor\": \"white\"}, \"yaxis\": {\"backgroundcolor\": \"#E5ECF6\", \"gridcolor\": \"white\", \"gridwidth\": 2, \"linecolor\": \"white\", \"showbackground\": true, \"ticks\": \"\", \"zerolinecolor\": \"white\"}, \"zaxis\": {\"backgroundcolor\": \"#E5ECF6\", \"gridcolor\": \"white\", \"gridwidth\": 2, \"linecolor\": \"white\", \"showbackground\": true, \"ticks\": \"\", \"zerolinecolor\": \"white\"}}, \"shapedefaults\": {\"line\": {\"color\": \"#2a3f5f\"}}, \"ternary\": {\"aaxis\": {\"gridcolor\": \"white\", \"linecolor\": \"white\", \"ticks\": \"\"}, \"baxis\": {\"gridcolor\": \"white\", \"linecolor\": \"white\", \"ticks\": \"\"}, \"bgcolor\": \"#E5ECF6\", \"caxis\": {\"gridcolor\": \"white\", \"linecolor\": \"white\", \"ticks\": \"\"}}, \"title\": {\"x\": 0.05}, \"xaxis\": {\"automargin\": true, \"gridcolor\": \"white\", \"linecolor\": \"white\", \"ticks\": \"\", \"title\": {\"standoff\": 15}, \"zerolinecolor\": \"white\", \"zerolinewidth\": 2}, \"yaxis\": {\"automargin\": true, \"gridcolor\": \"white\", \"linecolor\": \"white\", \"ticks\": \"\", \"title\": {\"standoff\": 15}, \"zerolinecolor\": \"white\", \"zerolinewidth\": 2}}}, \"title\": {\"text\": \"Scores for Section Similarities\"}, \"xaxis\": {\"anchor\": \"y\", \"domain\": [0.0, 1.0], \"title\": {\"text\": \"score\"}}, \"yaxis\": {\"anchor\": \"x\", \"domain\": [0.0, 1.0], \"title\": {\"text\": \"count\"}}},\n",
              "                        {\"responsive\": true}\n",
              "                    ).then(function(){\n",
              "                            \n",
              "var gd = document.getElementById('882f1bb0-8b09-4768-8d2c-d4536864dc81');\n",
              "var x = new MutationObserver(function (mutations, observer) {{\n",
              "        var display = window.getComputedStyle(gd).display;\n",
              "        if (!display || display === 'none') {{\n",
              "            console.log([gd, 'removed!']);\n",
              "            Plotly.purge(gd);\n",
              "            observer.disconnect();\n",
              "        }}\n",
              "}});\n",
              "\n",
              "// Listen for the removal of the full notebook cells\n",
              "var notebookContainer = gd.closest('#notebook-container');\n",
              "if (notebookContainer) {{\n",
              "    x.observe(notebookContainer, {childList: true});\n",
              "}}\n",
              "\n",
              "// Listen for the clearing of the current output cell\n",
              "var outputEl = gd.closest('.output');\n",
              "if (outputEl) {{\n",
              "    x.observe(outputEl, {childList: true});\n",
              "}}\n",
              "\n",
              "                        })\n",
              "                };\n",
              "                \n",
              "            </script>\n",
              "        </div>\n",
              "</body>\n",
              "</html>"
            ]
          },
          "metadata": {}
        }
      ]
    },
    {
      "cell_type": "code",
      "metadata": {
        "colab": {
          "base_uri": "https://localhost:8080/",
          "height": 802
        },
        "id": "DgV3ccDr5Ux4",
        "outputId": "8f10661c-cbc5-4582-8477-c74f4eaf8b01"
      },
      "source": [
        "result, details = recommend_tune(df_section_sim, 'These Foolish Things')\n",
        "result.head(30)"
      ],
      "execution_count": 778,
      "outputs": [
        {
          "output_type": "execute_result",
          "data": {
            "text/html": [
              "<div>\n",
              "<style scoped>\n",
              "    .dataframe tbody tr th:only-of-type {\n",
              "        vertical-align: middle;\n",
              "    }\n",
              "\n",
              "    .dataframe tbody tr th {\n",
              "        vertical-align: top;\n",
              "    }\n",
              "\n",
              "    .dataframe thead th {\n",
              "        text-align: right;\n",
              "    }\n",
              "</style>\n",
              "<table border=\"1\" class=\"dataframe\">\n",
              "  <thead>\n",
              "    <tr style=\"text-align: right;\">\n",
              "      <th></th>\n",
              "      <th>score</th>\n",
              "      <th>max</th>\n",
              "      <th>score_div_max</th>\n",
              "    </tr>\n",
              "    <tr>\n",
              "      <th>similar_title</th>\n",
              "      <th></th>\n",
              "      <th></th>\n",
              "      <th></th>\n",
              "    </tr>\n",
              "  </thead>\n",
              "  <tbody>\n",
              "    <tr>\n",
              "      <th>Ceora</th>\n",
              "      <td>0.936722</td>\n",
              "      <td>0.936722</td>\n",
              "      <td>1.000000</td>\n",
              "    </tr>\n",
              "    <tr>\n",
              "      <th>I Remember You</th>\n",
              "      <td>0.897526</td>\n",
              "      <td>0.936722</td>\n",
              "      <td>0.958156</td>\n",
              "    </tr>\n",
              "    <tr>\n",
              "      <th>Portrait Of Jennie</th>\n",
              "      <td>0.875079</td>\n",
              "      <td>0.936722</td>\n",
              "      <td>0.934192</td>\n",
              "    </tr>\n",
              "    <tr>\n",
              "      <th>Parisian Thoroughfare</th>\n",
              "      <td>0.853710</td>\n",
              "      <td>0.936722</td>\n",
              "      <td>0.911380</td>\n",
              "    </tr>\n",
              "    <tr>\n",
              "      <th>Sno' Peas</th>\n",
              "      <td>0.802238</td>\n",
              "      <td>0.936722</td>\n",
              "      <td>0.856432</td>\n",
              "    </tr>\n",
              "    <tr>\n",
              "      <th>Someday (You'll Be Sorry)</th>\n",
              "      <td>0.800847</td>\n",
              "      <td>0.936722</td>\n",
              "      <td>0.854946</td>\n",
              "    </tr>\n",
              "    <tr>\n",
              "      <th>Dream</th>\n",
              "      <td>0.797028</td>\n",
              "      <td>0.936722</td>\n",
              "      <td>0.850869</td>\n",
              "    </tr>\n",
              "    <tr>\n",
              "      <th>Anything Goes</th>\n",
              "      <td>0.788525</td>\n",
              "      <td>0.936722</td>\n",
              "      <td>0.841792</td>\n",
              "    </tr>\n",
              "    <tr>\n",
              "      <th>So Nice (Summer Samba)</th>\n",
              "      <td>0.770255</td>\n",
              "      <td>0.936722</td>\n",
              "      <td>0.822288</td>\n",
              "    </tr>\n",
              "    <tr>\n",
              "      <th>Moten Swing</th>\n",
              "      <td>0.769885</td>\n",
              "      <td>0.936722</td>\n",
              "      <td>0.821892</td>\n",
              "    </tr>\n",
              "    <tr>\n",
              "      <th>Look For The Silver Lining</th>\n",
              "      <td>0.752486</td>\n",
              "      <td>0.936722</td>\n",
              "      <td>0.803319</td>\n",
              "    </tr>\n",
              "    <tr>\n",
              "      <th>Once In A While</th>\n",
              "      <td>0.737648</td>\n",
              "      <td>0.936722</td>\n",
              "      <td>0.787478</td>\n",
              "    </tr>\n",
              "    <tr>\n",
              "      <th>Lyresto</th>\n",
              "      <td>0.735311</td>\n",
              "      <td>0.936722</td>\n",
              "      <td>0.784984</td>\n",
              "    </tr>\n",
              "    <tr>\n",
              "      <th>Lover</th>\n",
              "      <td>0.734925</td>\n",
              "      <td>0.936722</td>\n",
              "      <td>0.784571</td>\n",
              "    </tr>\n",
              "    <tr>\n",
              "      <th>Raincheck</th>\n",
              "      <td>0.723542</td>\n",
              "      <td>0.936722</td>\n",
              "      <td>0.772419</td>\n",
              "    </tr>\n",
              "    <tr>\n",
              "      <th>Our Love is Here to Stay</th>\n",
              "      <td>0.712636</td>\n",
              "      <td>0.936722</td>\n",
              "      <td>0.760777</td>\n",
              "    </tr>\n",
              "    <tr>\n",
              "      <th>I Could Have Danced All Night</th>\n",
              "      <td>0.708695</td>\n",
              "      <td>0.936722</td>\n",
              "      <td>0.756569</td>\n",
              "    </tr>\n",
              "    <tr>\n",
              "      <th>Little Willie Leaps</th>\n",
              "      <td>0.707108</td>\n",
              "      <td>0.936722</td>\n",
              "      <td>0.754875</td>\n",
              "    </tr>\n",
              "    <tr>\n",
              "      <th>My Foolish Heart</th>\n",
              "      <td>0.704710</td>\n",
              "      <td>0.936722</td>\n",
              "      <td>0.752315</td>\n",
              "    </tr>\n",
              "    <tr>\n",
              "      <th>It's A Big Wide Wonderful World</th>\n",
              "      <td>0.697514</td>\n",
              "      <td>0.936722</td>\n",
              "      <td>0.744633</td>\n",
              "    </tr>\n",
              "    <tr>\n",
              "      <th>Happy Little Sunbeam</th>\n",
              "      <td>0.694764</td>\n",
              "      <td>0.936722</td>\n",
              "      <td>0.741697</td>\n",
              "    </tr>\n",
              "    <tr>\n",
              "      <th>Moon Rays</th>\n",
              "      <td>0.691333</td>\n",
              "      <td>0.936722</td>\n",
              "      <td>0.738034</td>\n",
              "    </tr>\n",
              "    <tr>\n",
              "      <th>Groovin' High</th>\n",
              "      <td>0.690592</td>\n",
              "      <td>0.936722</td>\n",
              "      <td>0.737243</td>\n",
              "    </tr>\n",
              "  </tbody>\n",
              "</table>\n",
              "</div>"
            ],
            "text/plain": [
              "                                    score       max  score_div_max\n",
              "similar_title                                                     \n",
              "Ceora                            0.936722  0.936722       1.000000\n",
              "I Remember You                   0.897526  0.936722       0.958156\n",
              "Portrait Of Jennie               0.875079  0.936722       0.934192\n",
              "Parisian Thoroughfare            0.853710  0.936722       0.911380\n",
              "Sno' Peas                        0.802238  0.936722       0.856432\n",
              "Someday (You'll Be Sorry)        0.800847  0.936722       0.854946\n",
              "Dream                            0.797028  0.936722       0.850869\n",
              "Anything Goes                    0.788525  0.936722       0.841792\n",
              "So Nice (Summer Samba)           0.770255  0.936722       0.822288\n",
              "Moten Swing                      0.769885  0.936722       0.821892\n",
              "Look For The Silver Lining       0.752486  0.936722       0.803319\n",
              "Once In A While                  0.737648  0.936722       0.787478\n",
              "Lyresto                          0.735311  0.936722       0.784984\n",
              "Lover                            0.734925  0.936722       0.784571\n",
              "Raincheck                        0.723542  0.936722       0.772419\n",
              "Our Love is Here to Stay         0.712636  0.936722       0.760777\n",
              "I Could Have Danced All Night    0.708695  0.936722       0.756569\n",
              "Little Willie Leaps              0.707108  0.936722       0.754875\n",
              "My Foolish Heart                 0.704710  0.936722       0.752315\n",
              "It's A Big Wide Wonderful World  0.697514  0.936722       0.744633\n",
              "Happy Little Sunbeam             0.694764  0.936722       0.741697\n",
              "Moon Rays                        0.691333  0.936722       0.738034\n",
              "Groovin' High                    0.690592  0.936722       0.737243"
            ]
          },
          "metadata": {},
          "execution_count": 778
        }
      ]
    },
    {
      "cell_type": "markdown",
      "metadata": {
        "id": "ryEvGZqYDsMb"
      },
      "source": [
        "#### Document Similarity\n"
      ]
    },
    {
      "cell_type": "markdown",
      "metadata": {
        "id": "o-eOM9DiFdAt"
      },
      "source": [
        "The TitleId is tagged with the prefix `title_id`, so that it can be distinguished from the sectionid tags, which are numeric."
      ]
    },
    {
      "cell_type": "code",
      "metadata": {
        "colab": {
          "base_uri": "https://localhost:8080/"
        },
        "id": "KRd6qAdY5Z4g",
        "outputId": "8eae9800-26f3-41a0-e4ca-e5891adf1cb2"
      },
      "source": [
        "tunes_eval_list"
      ],
      "execution_count": 779,
      "outputs": [
        {
          "output_type": "execute_result",
          "data": {
            "text/plain": [
              "['Sweet Sue, Just You',\n",
              " 'These Foolish Things',\n",
              " 'Blue Moon',\n",
              " 'All Of Me',\n",
              " \"All God's Chillun Got Rhythm\",\n",
              " 'I Got Rhythm',\n",
              " 'Bye Bye Blackbird',\n",
              " 'Old Fashioned Love',\n",
              " 'Dinah',\n",
              " 'Honeysuckle Rose',\n",
              " 'Misty']"
            ]
          },
          "metadata": {},
          "execution_count": 779
        }
      ]
    },
    {
      "cell_type": "code",
      "metadata": {
        "id": "sHWTJtJ_HyoJ"
      },
      "source": [
        "# convert titles to titleid; if multiple tunes with same title, takes the first one. \n",
        "title_to_titleid = []\n",
        "for title in tunes_eval_list:\n",
        "  title_to_titleid.append(titles.query(f'title == \"{title}\"').reset_index().loc[0,'tune_id'])"
      ],
      "execution_count": 784,
      "outputs": []
    },
    {
      "cell_type": "code",
      "metadata": {
        "colab": {
          "base_uri": "https://localhost:8080/"
        },
        "id": "XKO9wonAHsch",
        "outputId": "9bcc303b-017b-4d6e-c092-53aed73f51ba"
      },
      "source": [
        "for titleid in titleid_eval:\n",
        "  print()\n",
        "  print(titleid_to_title[titleid])\n",
        "  sims = model.dv.similar_by_key(f'titleid_{titleid}', topn=30)\n",
        "  for key, value in sims:\n",
        "    if type(key) == str:  # only display document similarities, skip all section similarities\n",
        "      print(f\"{value:.3f} {titleid_to_title[int(key.replace('titleid_', ''))]}\")\n"
      ],
      "execution_count": 785,
      "outputs": [
        {
          "output_type": "stream",
          "name": "stdout",
          "text": [
            "\n",
            "Sweet Sue, Just You\n",
            "0.952 Sweet Sue\n",
            "0.900 I Want To Be Happy\n",
            "0.884 New York, New York\n",
            "0.867 Valse Hot\n",
            "0.837 Avalon\n",
            "\n",
            "These Foolish Things\n",
            "0.765 Isn't It A Pity\n",
            "0.718 I Loves You Porgy\n",
            "0.660 Very Thought Of You, The\n",
            "0.644 I May Be Wrong\n",
            "0.641 You're The Top\n",
            "0.620 Blue Turning Grey Over You\n",
            "0.619 Hundred Years From Today, A\n",
            "0.604 Woody'n You\n",
            "0.595 They Can't Take That Away From Me\n",
            "0.593 Eiderdown\n",
            "0.585 Apple Blossom Time\n",
            "0.579 Look To The Rainbow\n",
            "0.579 It Might As Well Be Spring\n",
            "\n",
            "Blue Moon\n",
            "0.737 Friday The 13th\n",
            "0.663 Sleepy Time Gal\n",
            "0.654 It's You Or No One\n",
            "0.647 Blue Daniel\n",
            "0.646 C.T.A.\n",
            "0.630 All Through The Day\n",
            "0.623 African Queen, The\n",
            "0.618 I Mean You\n",
            "\n",
            "All Of Me\n",
            "0.809 I'll Be Seeing You\n",
            "0.785 Shine\n",
            "0.763 Tempus Fugit\n",
            "\n",
            "All God's Chillun Got Rhythm\n",
            "0.917 But Beautiful\n",
            "0.890 Let's Get Lost\n",
            "0.850 Lullaby Of Birdland\n",
            "0.806 Teach Me Tonight\n",
            "0.801 Cry Me A River\n",
            "0.800 Besame Mucho\n",
            "0.799 Too Young To Go Steady\n",
            "0.796 Come Back To Me\n",
            "0.790 I'm Getting Sentimental Over You\n",
            "0.788 I've Got My Love To Keep Me Warm\n",
            "\n",
            "I Got Rhythm\n",
            "0.959 I Got Rhythm\n",
            "0.861 Cottontail\n",
            "0.796 Miss Otis Regrets\n",
            "0.796 Scrapple From The Apple\n",
            "0.778 Oh, Lady Be Good\n",
            "0.773 Heart And Soul\n",
            "\n",
            "Bye Bye Blackbird\n",
            "0.865 You're Lucky To Me\n",
            "0.805 St. Thomas\n",
            "\n",
            "Old Fashioned Love\n",
            "0.892 My Life Will Be Sweeter Someday\n",
            "0.867 Nobody's Fault But Mine\n",
            "0.838 Hallelujah I Just Love Him So\n",
            "0.834 Baby Face\n",
            "0.834 Davenport Blues\n",
            "0.825 That's My Weakness Now\n",
            "\n",
            "Dinah\n",
            "0.863 52nd Street Theme\n",
            "0.829 Ja-Da\n",
            "0.804 I Like The Likes Of You\n",
            "0.803 Shine\n",
            "0.791 Give Me Your Telephone Number\n",
            "\n",
            "Honeysuckle Rose\n",
            "0.913 Honeysuckle Rose\n",
            "0.883 Bring Me Sunshine\n",
            "0.819 When You're Smilin'\n",
            "0.816 Postman's Lament\n",
            "0.800 Just Squeeze Me\n",
            "0.790 Ladies Of Calcutta, The\n",
            "0.785 Best Things In Life Are Free, The\n",
            "0.777 How Are Things In Glocca Morra\n",
            "0.776 White Sport Coat And A Pink Carnation, A\n",
            "\n",
            "Misty\n",
            "0.725 It's A Blue World\n",
            "0.713 I Want To Talk About You\n",
            "0.696 Tadd's Delight\n",
            "0.694 Everything Happens To Me\n",
            "0.686 Nearness Of You, The\n",
            "0.672 For All We Know\n"
          ]
        }
      ]
    }
  ]
}